{
 "cells": [
  {
   "cell_type": "markdown",
   "metadata": {},
   "source": [
    "## Foreword"
   ]
  },
  {
   "cell_type": "markdown",
   "metadata": {},
   "source": [
    "Home buyers and home sellers want tomake sure they are getting a fair price for a home they want to sell/purchase. It's difficult to set a fair price/target price without individually assessing a large amount of market data. This process would be easier if a model could be developed that would estimate the price of a buyer/seller's home to make it easier for them to reach a fair price. This could benefit buyers and sellers equally and ensure that one side isn't getting a significant price advantage.\n",
    "\n",
    "A linear model will be developed to attempt to predict the prices of previously sold homes. The model will be evaluated using r2 score and neg mean squared error."
   ]
  },
  {
   "cell_type": "markdown",
   "metadata": {},
   "source": [
    "## Baseline Score"
   ]
  },
  {
   "cell_type": "markdown",
   "metadata": {},
   "source": [
    "The baseline score for this model, in root mean squared error is about 80,000 which is just the average used as the prediction. By the end of this project, the root mean squared error is decreased to about 30,000. Since we are aiming for a lower score, this is a significant improvement."
   ]
  },
  {
   "cell_type": "markdown",
   "metadata": {},
   "source": [
    "## Libraries"
   ]
  },
  {
   "cell_type": "code",
   "execution_count": 7534,
   "metadata": {},
   "outputs": [],
   "source": [
    "import pandas as pd\n",
    "\n",
    "import seaborn as sns\n",
    "\n",
    "import numpy as np\n",
    "\n",
    "from scipy.stats import zscore\n",
    "\n",
    "from sklearn.model_selection import train_test_split, cross_val_score, GridSearchCV\n",
    "\n",
    "from sklearn.linear_model import LinearRegression, Ridge, Lasso\n",
    "\n",
    "from sklearn.preprocessing import StandardScaler\n",
    "\n",
    "from statsmodels.stats.outliers_influence import variance_inflation_factor\n",
    "from statsmodels.regression.linear_model import OLS\n",
    "\n",
    "import matplotlib.pyplot as plt"
   ]
  },
  {
   "cell_type": "markdown",
   "metadata": {},
   "source": [
    "## Functions"
   ]
  },
  {
   "cell_type": "code",
   "execution_count": 7535,
   "metadata": {},
   "outputs": [],
   "source": [
    "#Checks if columns have the same variables\n",
    "\n",
    "def variable_match(dataframe_1, dataframe_2):\n",
    "    unique_1 = dataframe_1.unique()\n",
    "    unique_2 = dataframe_2.unique()\n",
    "    unique_1.sort()\n",
    "    unique_2.sort()\n",
    "    if list(unique_1) in list(unique_2):\n",
    "        print('Match')\n",
    "    else:\n",
    "        print('No match')"
   ]
  },
  {
   "cell_type": "code",
   "execution_count": 7536,
   "metadata": {},
   "outputs": [],
   "source": [
    "def d_types(column):\n",
    "    print(train[f'{column}'].dtypes)\n",
    "    print(test[f'{column}'].dtypes)"
   ]
  },
  {
   "cell_type": "markdown",
   "metadata": {},
   "source": [
    "## Reading in Data"
   ]
  },
  {
   "cell_type": "code",
   "execution_count": 7537,
   "metadata": {},
   "outputs": [],
   "source": [
    "train = pd.read_csv('datasets/train.csv')"
   ]
  },
  {
   "cell_type": "code",
   "execution_count": 7538,
   "metadata": {},
   "outputs": [],
   "source": [
    "test = pd.read_csv('datasets/test.csv')"
   ]
  },
  {
   "cell_type": "code",
   "execution_count": 7539,
   "metadata": {},
   "outputs": [
    {
     "data": {
      "text/html": [
       "<div>\n",
       "<style scoped>\n",
       "    .dataframe tbody tr th:only-of-type {\n",
       "        vertical-align: middle;\n",
       "    }\n",
       "\n",
       "    .dataframe tbody tr th {\n",
       "        vertical-align: top;\n",
       "    }\n",
       "\n",
       "    .dataframe thead th {\n",
       "        text-align: right;\n",
       "    }\n",
       "</style>\n",
       "<table border=\"1\" class=\"dataframe\">\n",
       "  <thead>\n",
       "    <tr style=\"text-align: right;\">\n",
       "      <th></th>\n",
       "      <th>Id</th>\n",
       "      <th>PID</th>\n",
       "      <th>MS SubClass</th>\n",
       "      <th>MS Zoning</th>\n",
       "      <th>Lot Frontage</th>\n",
       "      <th>Lot Area</th>\n",
       "      <th>Street</th>\n",
       "      <th>Alley</th>\n",
       "      <th>Lot Shape</th>\n",
       "      <th>Land Contour</th>\n",
       "      <th>...</th>\n",
       "      <th>Screen Porch</th>\n",
       "      <th>Pool Area</th>\n",
       "      <th>Pool QC</th>\n",
       "      <th>Fence</th>\n",
       "      <th>Misc Feature</th>\n",
       "      <th>Misc Val</th>\n",
       "      <th>Mo Sold</th>\n",
       "      <th>Yr Sold</th>\n",
       "      <th>Sale Type</th>\n",
       "      <th>SalePrice</th>\n",
       "    </tr>\n",
       "  </thead>\n",
       "  <tbody>\n",
       "    <tr>\n",
       "      <th>0</th>\n",
       "      <td>109</td>\n",
       "      <td>533352170</td>\n",
       "      <td>60</td>\n",
       "      <td>RL</td>\n",
       "      <td>NaN</td>\n",
       "      <td>13517</td>\n",
       "      <td>Pave</td>\n",
       "      <td>NaN</td>\n",
       "      <td>IR1</td>\n",
       "      <td>Lvl</td>\n",
       "      <td>...</td>\n",
       "      <td>0</td>\n",
       "      <td>0</td>\n",
       "      <td>NaN</td>\n",
       "      <td>NaN</td>\n",
       "      <td>NaN</td>\n",
       "      <td>0</td>\n",
       "      <td>3</td>\n",
       "      <td>2010</td>\n",
       "      <td>WD</td>\n",
       "      <td>130500</td>\n",
       "    </tr>\n",
       "    <tr>\n",
       "      <th>1</th>\n",
       "      <td>544</td>\n",
       "      <td>531379050</td>\n",
       "      <td>60</td>\n",
       "      <td>RL</td>\n",
       "      <td>43.0</td>\n",
       "      <td>11492</td>\n",
       "      <td>Pave</td>\n",
       "      <td>NaN</td>\n",
       "      <td>IR1</td>\n",
       "      <td>Lvl</td>\n",
       "      <td>...</td>\n",
       "      <td>0</td>\n",
       "      <td>0</td>\n",
       "      <td>NaN</td>\n",
       "      <td>NaN</td>\n",
       "      <td>NaN</td>\n",
       "      <td>0</td>\n",
       "      <td>4</td>\n",
       "      <td>2009</td>\n",
       "      <td>WD</td>\n",
       "      <td>220000</td>\n",
       "    </tr>\n",
       "    <tr>\n",
       "      <th>2</th>\n",
       "      <td>153</td>\n",
       "      <td>535304180</td>\n",
       "      <td>20</td>\n",
       "      <td>RL</td>\n",
       "      <td>68.0</td>\n",
       "      <td>7922</td>\n",
       "      <td>Pave</td>\n",
       "      <td>NaN</td>\n",
       "      <td>Reg</td>\n",
       "      <td>Lvl</td>\n",
       "      <td>...</td>\n",
       "      <td>0</td>\n",
       "      <td>0</td>\n",
       "      <td>NaN</td>\n",
       "      <td>NaN</td>\n",
       "      <td>NaN</td>\n",
       "      <td>0</td>\n",
       "      <td>1</td>\n",
       "      <td>2010</td>\n",
       "      <td>WD</td>\n",
       "      <td>109000</td>\n",
       "    </tr>\n",
       "    <tr>\n",
       "      <th>3</th>\n",
       "      <td>318</td>\n",
       "      <td>916386060</td>\n",
       "      <td>60</td>\n",
       "      <td>RL</td>\n",
       "      <td>73.0</td>\n",
       "      <td>9802</td>\n",
       "      <td>Pave</td>\n",
       "      <td>NaN</td>\n",
       "      <td>Reg</td>\n",
       "      <td>Lvl</td>\n",
       "      <td>...</td>\n",
       "      <td>0</td>\n",
       "      <td>0</td>\n",
       "      <td>NaN</td>\n",
       "      <td>NaN</td>\n",
       "      <td>NaN</td>\n",
       "      <td>0</td>\n",
       "      <td>4</td>\n",
       "      <td>2010</td>\n",
       "      <td>WD</td>\n",
       "      <td>174000</td>\n",
       "    </tr>\n",
       "    <tr>\n",
       "      <th>4</th>\n",
       "      <td>255</td>\n",
       "      <td>906425045</td>\n",
       "      <td>50</td>\n",
       "      <td>RL</td>\n",
       "      <td>82.0</td>\n",
       "      <td>14235</td>\n",
       "      <td>Pave</td>\n",
       "      <td>NaN</td>\n",
       "      <td>IR1</td>\n",
       "      <td>Lvl</td>\n",
       "      <td>...</td>\n",
       "      <td>0</td>\n",
       "      <td>0</td>\n",
       "      <td>NaN</td>\n",
       "      <td>NaN</td>\n",
       "      <td>NaN</td>\n",
       "      <td>0</td>\n",
       "      <td>3</td>\n",
       "      <td>2010</td>\n",
       "      <td>WD</td>\n",
       "      <td>138500</td>\n",
       "    </tr>\n",
       "  </tbody>\n",
       "</table>\n",
       "<p>5 rows × 81 columns</p>\n",
       "</div>"
      ],
      "text/plain": [
       "    Id        PID  MS SubClass MS Zoning  Lot Frontage  Lot Area Street Alley  \\\n",
       "0  109  533352170           60        RL           NaN     13517   Pave   NaN   \n",
       "1  544  531379050           60        RL          43.0     11492   Pave   NaN   \n",
       "2  153  535304180           20        RL          68.0      7922   Pave   NaN   \n",
       "3  318  916386060           60        RL          73.0      9802   Pave   NaN   \n",
       "4  255  906425045           50        RL          82.0     14235   Pave   NaN   \n",
       "\n",
       "  Lot Shape Land Contour  ... Screen Porch Pool Area Pool QC Fence  \\\n",
       "0       IR1          Lvl  ...            0         0     NaN   NaN   \n",
       "1       IR1          Lvl  ...            0         0     NaN   NaN   \n",
       "2       Reg          Lvl  ...            0         0     NaN   NaN   \n",
       "3       Reg          Lvl  ...            0         0     NaN   NaN   \n",
       "4       IR1          Lvl  ...            0         0     NaN   NaN   \n",
       "\n",
       "  Misc Feature Misc Val Mo Sold Yr Sold  Sale Type  SalePrice  \n",
       "0          NaN        0       3    2010        WD      130500  \n",
       "1          NaN        0       4    2009        WD      220000  \n",
       "2          NaN        0       1    2010        WD      109000  \n",
       "3          NaN        0       4    2010        WD      174000  \n",
       "4          NaN        0       3    2010        WD      138500  \n",
       "\n",
       "[5 rows x 81 columns]"
      ]
     },
     "execution_count": 7539,
     "metadata": {},
     "output_type": "execute_result"
    }
   ],
   "source": [
    "train.head()"
   ]
  },
  {
   "cell_type": "code",
   "execution_count": 7540,
   "metadata": {},
   "outputs": [
    {
     "data": {
      "text/html": [
       "<div>\n",
       "<style scoped>\n",
       "    .dataframe tbody tr th:only-of-type {\n",
       "        vertical-align: middle;\n",
       "    }\n",
       "\n",
       "    .dataframe tbody tr th {\n",
       "        vertical-align: top;\n",
       "    }\n",
       "\n",
       "    .dataframe thead th {\n",
       "        text-align: right;\n",
       "    }\n",
       "</style>\n",
       "<table border=\"1\" class=\"dataframe\">\n",
       "  <thead>\n",
       "    <tr style=\"text-align: right;\">\n",
       "      <th></th>\n",
       "      <th>Id</th>\n",
       "      <th>PID</th>\n",
       "      <th>MS SubClass</th>\n",
       "      <th>MS Zoning</th>\n",
       "      <th>Lot Frontage</th>\n",
       "      <th>Lot Area</th>\n",
       "      <th>Street</th>\n",
       "      <th>Alley</th>\n",
       "      <th>Lot Shape</th>\n",
       "      <th>Land Contour</th>\n",
       "      <th>...</th>\n",
       "      <th>3Ssn Porch</th>\n",
       "      <th>Screen Porch</th>\n",
       "      <th>Pool Area</th>\n",
       "      <th>Pool QC</th>\n",
       "      <th>Fence</th>\n",
       "      <th>Misc Feature</th>\n",
       "      <th>Misc Val</th>\n",
       "      <th>Mo Sold</th>\n",
       "      <th>Yr Sold</th>\n",
       "      <th>Sale Type</th>\n",
       "    </tr>\n",
       "  </thead>\n",
       "  <tbody>\n",
       "    <tr>\n",
       "      <th>0</th>\n",
       "      <td>2658</td>\n",
       "      <td>902301120</td>\n",
       "      <td>190</td>\n",
       "      <td>RM</td>\n",
       "      <td>69.0</td>\n",
       "      <td>9142</td>\n",
       "      <td>Pave</td>\n",
       "      <td>Grvl</td>\n",
       "      <td>Reg</td>\n",
       "      <td>Lvl</td>\n",
       "      <td>...</td>\n",
       "      <td>0</td>\n",
       "      <td>0</td>\n",
       "      <td>0</td>\n",
       "      <td>NaN</td>\n",
       "      <td>NaN</td>\n",
       "      <td>NaN</td>\n",
       "      <td>0</td>\n",
       "      <td>4</td>\n",
       "      <td>2006</td>\n",
       "      <td>WD</td>\n",
       "    </tr>\n",
       "    <tr>\n",
       "      <th>1</th>\n",
       "      <td>2718</td>\n",
       "      <td>905108090</td>\n",
       "      <td>90</td>\n",
       "      <td>RL</td>\n",
       "      <td>NaN</td>\n",
       "      <td>9662</td>\n",
       "      <td>Pave</td>\n",
       "      <td>NaN</td>\n",
       "      <td>IR1</td>\n",
       "      <td>Lvl</td>\n",
       "      <td>...</td>\n",
       "      <td>0</td>\n",
       "      <td>0</td>\n",
       "      <td>0</td>\n",
       "      <td>NaN</td>\n",
       "      <td>NaN</td>\n",
       "      <td>NaN</td>\n",
       "      <td>0</td>\n",
       "      <td>8</td>\n",
       "      <td>2006</td>\n",
       "      <td>WD</td>\n",
       "    </tr>\n",
       "    <tr>\n",
       "      <th>2</th>\n",
       "      <td>2414</td>\n",
       "      <td>528218130</td>\n",
       "      <td>60</td>\n",
       "      <td>RL</td>\n",
       "      <td>58.0</td>\n",
       "      <td>17104</td>\n",
       "      <td>Pave</td>\n",
       "      <td>NaN</td>\n",
       "      <td>IR1</td>\n",
       "      <td>Lvl</td>\n",
       "      <td>...</td>\n",
       "      <td>0</td>\n",
       "      <td>0</td>\n",
       "      <td>0</td>\n",
       "      <td>NaN</td>\n",
       "      <td>NaN</td>\n",
       "      <td>NaN</td>\n",
       "      <td>0</td>\n",
       "      <td>9</td>\n",
       "      <td>2006</td>\n",
       "      <td>New</td>\n",
       "    </tr>\n",
       "    <tr>\n",
       "      <th>3</th>\n",
       "      <td>1989</td>\n",
       "      <td>902207150</td>\n",
       "      <td>30</td>\n",
       "      <td>RM</td>\n",
       "      <td>60.0</td>\n",
       "      <td>8520</td>\n",
       "      <td>Pave</td>\n",
       "      <td>NaN</td>\n",
       "      <td>Reg</td>\n",
       "      <td>Lvl</td>\n",
       "      <td>...</td>\n",
       "      <td>0</td>\n",
       "      <td>0</td>\n",
       "      <td>0</td>\n",
       "      <td>NaN</td>\n",
       "      <td>NaN</td>\n",
       "      <td>NaN</td>\n",
       "      <td>0</td>\n",
       "      <td>7</td>\n",
       "      <td>2007</td>\n",
       "      <td>WD</td>\n",
       "    </tr>\n",
       "    <tr>\n",
       "      <th>4</th>\n",
       "      <td>625</td>\n",
       "      <td>535105100</td>\n",
       "      <td>20</td>\n",
       "      <td>RL</td>\n",
       "      <td>NaN</td>\n",
       "      <td>9500</td>\n",
       "      <td>Pave</td>\n",
       "      <td>NaN</td>\n",
       "      <td>IR1</td>\n",
       "      <td>Lvl</td>\n",
       "      <td>...</td>\n",
       "      <td>0</td>\n",
       "      <td>185</td>\n",
       "      <td>0</td>\n",
       "      <td>NaN</td>\n",
       "      <td>NaN</td>\n",
       "      <td>NaN</td>\n",
       "      <td>0</td>\n",
       "      <td>7</td>\n",
       "      <td>2009</td>\n",
       "      <td>WD</td>\n",
       "    </tr>\n",
       "  </tbody>\n",
       "</table>\n",
       "<p>5 rows × 80 columns</p>\n",
       "</div>"
      ],
      "text/plain": [
       "     Id        PID  MS SubClass MS Zoning  Lot Frontage  Lot Area Street  \\\n",
       "0  2658  902301120          190        RM          69.0      9142   Pave   \n",
       "1  2718  905108090           90        RL           NaN      9662   Pave   \n",
       "2  2414  528218130           60        RL          58.0     17104   Pave   \n",
       "3  1989  902207150           30        RM          60.0      8520   Pave   \n",
       "4   625  535105100           20        RL           NaN      9500   Pave   \n",
       "\n",
       "  Alley Lot Shape Land Contour  ... 3Ssn Porch Screen Porch Pool Area Pool QC  \\\n",
       "0  Grvl       Reg          Lvl  ...          0            0         0     NaN   \n",
       "1   NaN       IR1          Lvl  ...          0            0         0     NaN   \n",
       "2   NaN       IR1          Lvl  ...          0            0         0     NaN   \n",
       "3   NaN       Reg          Lvl  ...          0            0         0     NaN   \n",
       "4   NaN       IR1          Lvl  ...          0          185         0     NaN   \n",
       "\n",
       "  Fence Misc Feature Misc Val Mo Sold  Yr Sold  Sale Type  \n",
       "0   NaN          NaN        0       4     2006        WD   \n",
       "1   NaN          NaN        0       8     2006        WD   \n",
       "2   NaN          NaN        0       9     2006        New  \n",
       "3   NaN          NaN        0       7     2007        WD   \n",
       "4   NaN          NaN        0       7     2009        WD   \n",
       "\n",
       "[5 rows x 80 columns]"
      ]
     },
     "execution_count": 7540,
     "metadata": {},
     "output_type": "execute_result"
    }
   ],
   "source": [
    "test.head()"
   ]
  },
  {
   "cell_type": "markdown",
   "metadata": {},
   "source": [
    "## Cleaning"
   ]
  },
  {
   "cell_type": "markdown",
   "metadata": {},
   "source": [
    "#### NA Location"
   ]
  },
  {
   "cell_type": "code",
   "execution_count": 7541,
   "metadata": {},
   "outputs": [],
   "source": [
    "#returns all columns that have NAs:\n",
    "NA_columns = []\n",
    "for column in train.columns:\n",
    "    if train[column].isnull().sum() > 0:\n",
    "        NA_columns.append(column)"
   ]
  },
  {
   "cell_type": "code",
   "execution_count": 7542,
   "metadata": {
    "scrolled": true
   },
   "outputs": [
    {
     "data": {
      "text/html": [
       "<div>\n",
       "<style scoped>\n",
       "    .dataframe tbody tr th:only-of-type {\n",
       "        vertical-align: middle;\n",
       "    }\n",
       "\n",
       "    .dataframe tbody tr th {\n",
       "        vertical-align: top;\n",
       "    }\n",
       "\n",
       "    .dataframe thead th {\n",
       "        text-align: right;\n",
       "    }\n",
       "</style>\n",
       "<table border=\"1\" class=\"dataframe\">\n",
       "  <thead>\n",
       "    <tr style=\"text-align: right;\">\n",
       "      <th></th>\n",
       "      <th>0</th>\n",
       "    </tr>\n",
       "  </thead>\n",
       "  <tbody>\n",
       "    <tr>\n",
       "      <th>Lot Frontage</th>\n",
       "      <td>16.089712</td>\n",
       "    </tr>\n",
       "    <tr>\n",
       "      <th>Alley</th>\n",
       "      <td>93.174061</td>\n",
       "    </tr>\n",
       "    <tr>\n",
       "      <th>Mas Vnr Type</th>\n",
       "      <td>1.072647</td>\n",
       "    </tr>\n",
       "    <tr>\n",
       "      <th>Mas Vnr Area</th>\n",
       "      <td>1.072647</td>\n",
       "    </tr>\n",
       "    <tr>\n",
       "      <th>Bsmt Qual</th>\n",
       "      <td>2.681619</td>\n",
       "    </tr>\n",
       "    <tr>\n",
       "      <th>Bsmt Cond</th>\n",
       "      <td>2.681619</td>\n",
       "    </tr>\n",
       "    <tr>\n",
       "      <th>Bsmt Exposure</th>\n",
       "      <td>2.827889</td>\n",
       "    </tr>\n",
       "    <tr>\n",
       "      <th>BsmtFin Type 1</th>\n",
       "      <td>2.681619</td>\n",
       "    </tr>\n",
       "    <tr>\n",
       "      <th>BsmtFin SF 1</th>\n",
       "      <td>0.048757</td>\n",
       "    </tr>\n",
       "    <tr>\n",
       "      <th>BsmtFin Type 2</th>\n",
       "      <td>2.730375</td>\n",
       "    </tr>\n",
       "    <tr>\n",
       "      <th>BsmtFin SF 2</th>\n",
       "      <td>0.048757</td>\n",
       "    </tr>\n",
       "    <tr>\n",
       "      <th>Bsmt Unf SF</th>\n",
       "      <td>0.048757</td>\n",
       "    </tr>\n",
       "    <tr>\n",
       "      <th>Total Bsmt SF</th>\n",
       "      <td>0.048757</td>\n",
       "    </tr>\n",
       "    <tr>\n",
       "      <th>Bsmt Full Bath</th>\n",
       "      <td>0.097513</td>\n",
       "    </tr>\n",
       "    <tr>\n",
       "      <th>Bsmt Half Bath</th>\n",
       "      <td>0.097513</td>\n",
       "    </tr>\n",
       "    <tr>\n",
       "      <th>Fireplace Qu</th>\n",
       "      <td>48.756704</td>\n",
       "    </tr>\n",
       "    <tr>\n",
       "      <th>Garage Type</th>\n",
       "      <td>5.509508</td>\n",
       "    </tr>\n",
       "    <tr>\n",
       "      <th>Garage Yr Blt</th>\n",
       "      <td>5.558264</td>\n",
       "    </tr>\n",
       "    <tr>\n",
       "      <th>Garage Finish</th>\n",
       "      <td>5.558264</td>\n",
       "    </tr>\n",
       "    <tr>\n",
       "      <th>Garage Cars</th>\n",
       "      <td>0.048757</td>\n",
       "    </tr>\n",
       "    <tr>\n",
       "      <th>Garage Area</th>\n",
       "      <td>0.048757</td>\n",
       "    </tr>\n",
       "    <tr>\n",
       "      <th>Garage Qual</th>\n",
       "      <td>5.558264</td>\n",
       "    </tr>\n",
       "    <tr>\n",
       "      <th>Garage Cond</th>\n",
       "      <td>5.558264</td>\n",
       "    </tr>\n",
       "    <tr>\n",
       "      <th>Pool QC</th>\n",
       "      <td>99.561190</td>\n",
       "    </tr>\n",
       "    <tr>\n",
       "      <th>Fence</th>\n",
       "      <td>80.497318</td>\n",
       "    </tr>\n",
       "    <tr>\n",
       "      <th>Misc Feature</th>\n",
       "      <td>96.830814</td>\n",
       "    </tr>\n",
       "  </tbody>\n",
       "</table>\n",
       "</div>"
      ],
      "text/plain": [
       "                        0\n",
       "Lot Frontage    16.089712\n",
       "Alley           93.174061\n",
       "Mas Vnr Type     1.072647\n",
       "Mas Vnr Area     1.072647\n",
       "Bsmt Qual        2.681619\n",
       "Bsmt Cond        2.681619\n",
       "Bsmt Exposure    2.827889\n",
       "BsmtFin Type 1   2.681619\n",
       "BsmtFin SF 1     0.048757\n",
       "BsmtFin Type 2   2.730375\n",
       "BsmtFin SF 2     0.048757\n",
       "Bsmt Unf SF      0.048757\n",
       "Total Bsmt SF    0.048757\n",
       "Bsmt Full Bath   0.097513\n",
       "Bsmt Half Bath   0.097513\n",
       "Fireplace Qu    48.756704\n",
       "Garage Type      5.509508\n",
       "Garage Yr Blt    5.558264\n",
       "Garage Finish    5.558264\n",
       "Garage Cars      0.048757\n",
       "Garage Area      0.048757\n",
       "Garage Qual      5.558264\n",
       "Garage Cond      5.558264\n",
       "Pool QC         99.561190\n",
       "Fence           80.497318\n",
       "Misc Feature    96.830814"
      ]
     },
     "execution_count": 7542,
     "metadata": {},
     "output_type": "execute_result"
    }
   ],
   "source": [
    "#calculates the percentage of values that are missing\n",
    "#adds to dictionary\n",
    "percent_NA = {}\n",
    "\n",
    "for column in NA_columns:\n",
    "    percent_NA[column] = train[column].isnull().sum() / len(train[column]) * 100\n",
    "\n",
    "pd.DataFrame.from_dict(percent_NA, orient = 'index')"
   ]
  },
  {
   "cell_type": "markdown",
   "metadata": {},
   "source": [
    "## Lot Frontage"
   ]
  },
  {
   "cell_type": "code",
   "execution_count": 7543,
   "metadata": {},
   "outputs": [],
   "source": [
    "train['Lot Frontage'] = train['Lot Frontage'].fillna(train['Lot Frontage'].mean())"
   ]
  },
  {
   "cell_type": "code",
   "execution_count": 7544,
   "metadata": {},
   "outputs": [],
   "source": [
    "test['Lot Frontage'] = test['Lot Frontage'].fillna(test['Lot Frontage'].mean())"
   ]
  },
  {
   "cell_type": "code",
   "execution_count": 7545,
   "metadata": {},
   "outputs": [
    {
     "data": {
      "image/png": "[encoded data removed]",
      "text/plain": [
       "<Figure size 432x288 with 1 Axes>"
      ]
     },
     "metadata": {
      "needs_background": "light"
     },
     "output_type": "display_data"
    }
   ],
   "source": [
    "sns.histplot(train['Lot Frontage'], kde = True);\n",
    "plt.title('Lot Frontage Distribution');"
   ]
  },
  {
   "cell_type": "markdown",
   "metadata": {},
   "source": [
    "There is a lot of skew in this distribution, so removing outliers may be necessary."
   ]
  },
  {
   "cell_type": "code",
   "execution_count": 7546,
   "metadata": {},
   "outputs": [
    {
     "name": "stdout",
     "output_type": "stream",
     "text": [
      "float64\n",
      "float64\n"
     ]
    }
   ],
   "source": [
    "d_types('Lot Frontage')"
   ]
  },
  {
   "cell_type": "markdown",
   "metadata": {},
   "source": [
    "## Alley"
   ]
  },
  {
   "cell_type": "code",
   "execution_count": 7547,
   "metadata": {},
   "outputs": [
    {
     "data": {
      "text/plain": [
       "array(['BrkFace', 'None', nan, 'Stone', 'BrkCmn'], dtype=object)"
      ]
     },
     "execution_count": 7547,
     "metadata": {},
     "output_type": "execute_result"
    }
   ],
   "source": [
    "train['Mas Vnr Type'].unique()"
   ]
  },
  {
   "cell_type": "code",
   "execution_count": 7548,
   "metadata": {},
   "outputs": [],
   "source": [
    "train['Alley'] = train['Alley'].fillna('NA')"
   ]
  },
  {
   "cell_type": "code",
   "execution_count": 7549,
   "metadata": {},
   "outputs": [],
   "source": [
    "test['Alley'] = train['Alley'].fillna('NA')"
   ]
  },
  {
   "cell_type": "code",
   "execution_count": 7550,
   "metadata": {
    "scrolled": true
   },
   "outputs": [
    {
     "name": "stdout",
     "output_type": "stream",
     "text": [
      "No match\n"
     ]
    }
   ],
   "source": [
    "variable_match(train['Alley'], test['Alley'])"
   ]
  },
  {
   "cell_type": "code",
   "execution_count": 7551,
   "metadata": {},
   "outputs": [
    {
     "name": "stdout",
     "output_type": "stream",
     "text": [
      "object\n",
      "object\n"
     ]
    }
   ],
   "source": [
    "d_types('Alley')"
   ]
  },
  {
   "cell_type": "markdown",
   "metadata": {},
   "source": [
    "## Mas Vnr Type"
   ]
  },
  {
   "cell_type": "code",
   "execution_count": 7552,
   "metadata": {},
   "outputs": [
    {
     "data": {
      "text/plain": [
       "array(['BrkFace', 'None', nan, 'Stone', 'BrkCmn'], dtype=object)"
      ]
     },
     "execution_count": 7552,
     "metadata": {},
     "output_type": "execute_result"
    }
   ],
   "source": [
    "train['Mas Vnr Type'].unique()"
   ]
  },
  {
   "cell_type": "code",
   "execution_count": 7553,
   "metadata": {},
   "outputs": [],
   "source": [
    "train['Mas Vnr Type'] = train['Mas Vnr Type'].fillna('None')"
   ]
  },
  {
   "cell_type": "code",
   "execution_count": 7554,
   "metadata": {},
   "outputs": [],
   "source": [
    "test['Mas Vnr Type'] = test['Mas Vnr Type'].fillna('None')"
   ]
  },
  {
   "cell_type": "code",
   "execution_count": 7555,
   "metadata": {},
   "outputs": [
    {
     "name": "stdout",
     "output_type": "stream",
     "text": [
      "No match\n"
     ]
    }
   ],
   "source": [
    "variable_match(train['Mas Vnr Type'], test['Mas Vnr Type'])"
   ]
  },
  {
   "cell_type": "markdown",
   "metadata": {},
   "source": [
    "The variables in this column don't match for the train and test set, so I'm not going to use this is a feature."
   ]
  },
  {
   "cell_type": "code",
   "execution_count": 7556,
   "metadata": {},
   "outputs": [
    {
     "name": "stdout",
     "output_type": "stream",
     "text": [
      "object\n",
      "object\n"
     ]
    }
   ],
   "source": [
    "d_types('Mas Vnr Type')"
   ]
  },
  {
   "cell_type": "markdown",
   "metadata": {},
   "source": [
    "## Mass Vnr Area"
   ]
  },
  {
   "cell_type": "code",
   "execution_count": 7557,
   "metadata": {},
   "outputs": [
    {
     "data": {
      "image/png": "[encoded data removed]",
      "text/plain": [
       "<Figure size 432x288 with 1 Axes>"
      ]
     },
     "metadata": {
      "needs_background": "light"
     },
     "output_type": "display_data"
    }
   ],
   "source": [
    "sns.histplot(train['Mas Vnr Area'])\n",
    "plt.title('Mas Vnr Area Distribution');"
   ]
  },
  {
   "cell_type": "code",
   "execution_count": 7558,
   "metadata": {},
   "outputs": [
    {
     "data": {
      "text/plain": [
       "2.5949168305314014"
      ]
     },
     "execution_count": 7558,
     "metadata": {},
     "output_type": "execute_result"
    }
   ],
   "source": [
    "#This is a very poasitively skewed distribution\n",
    "\n",
    "(train['Mas Vnr Area']).skew()"
   ]
  },
  {
   "cell_type": "code",
   "execution_count": 7559,
   "metadata": {},
   "outputs": [
    {
     "data": {
      "text/plain": [
       "2.608926245208541"
      ]
     },
     "execution_count": 7559,
     "metadata": {},
     "output_type": "execute_result"
    }
   ],
   "source": [
    "train['Mas Vnr Area'].fillna(train['Mas Vnr Area'].mean()).skew()"
   ]
  },
  {
   "cell_type": "code",
   "execution_count": 7560,
   "metadata": {},
   "outputs": [],
   "source": [
    "train['Mas Vnr Area'] = train['Mas Vnr Area'].fillna(train['Mas Vnr Area'].mean())"
   ]
  },
  {
   "cell_type": "code",
   "execution_count": 7561,
   "metadata": {},
   "outputs": [],
   "source": [
    "test['Mas Vnr Area'] = test['Mas Vnr Area'].fillna(test['Mas Vnr Area'].mean())"
   ]
  },
  {
   "cell_type": "code",
   "execution_count": 7562,
   "metadata": {},
   "outputs": [
    {
     "name": "stdout",
     "output_type": "stream",
     "text": [
      "float64\n",
      "float64\n"
     ]
    }
   ],
   "source": [
    "d_types('Mas Vnr Area')"
   ]
  },
  {
   "cell_type": "markdown",
   "metadata": {},
   "source": [
    "## Bsmt Qual"
   ]
  },
  {
   "cell_type": "code",
   "execution_count": 7563,
   "metadata": {},
   "outputs": [
    {
     "data": {
      "text/plain": [
       "array(['TA', 'Gd', 'Fa', nan, 'Ex', 'Po'], dtype=object)"
      ]
     },
     "execution_count": 7563,
     "metadata": {},
     "output_type": "execute_result"
    }
   ],
   "source": [
    "train['Bsmt Qual'].unique()"
   ]
  },
  {
   "cell_type": "code",
   "execution_count": 7564,
   "metadata": {},
   "outputs": [],
   "source": [
    "train['Bsmt Qual'] = train['Bsmt Qual'].fillna('NA')"
   ]
  },
  {
   "cell_type": "code",
   "execution_count": 7565,
   "metadata": {},
   "outputs": [],
   "source": [
    "test['Bsmt Qual'] = test['Bsmt Qual'].fillna('NA')"
   ]
  },
  {
   "cell_type": "code",
   "execution_count": 7566,
   "metadata": {},
   "outputs": [
    {
     "name": "stdout",
     "output_type": "stream",
     "text": [
      "No match\n"
     ]
    }
   ],
   "source": [
    "variable_match(train['Bsmt Qual'], test['Bsmt Qual'])"
   ]
  },
  {
   "cell_type": "code",
   "execution_count": 7567,
   "metadata": {},
   "outputs": [
    {
     "name": "stdout",
     "output_type": "stream",
     "text": [
      "object\n",
      "object\n"
     ]
    }
   ],
   "source": [
    "d_types('Bsmt Qual')"
   ]
  },
  {
   "cell_type": "markdown",
   "metadata": {},
   "source": [
    "## Bsmt Cond"
   ]
  },
  {
   "cell_type": "code",
   "execution_count": 7568,
   "metadata": {},
   "outputs": [
    {
     "data": {
      "text/plain": [
       "array(['TA', 'Gd', nan, 'Fa', 'Po', 'Ex'], dtype=object)"
      ]
     },
     "execution_count": 7568,
     "metadata": {},
     "output_type": "execute_result"
    }
   ],
   "source": [
    "train['Bsmt Cond'].unique()"
   ]
  },
  {
   "cell_type": "code",
   "execution_count": 7569,
   "metadata": {},
   "outputs": [],
   "source": [
    "train['Bsmt Cond'] = train['Bsmt Cond'].fillna('NA')"
   ]
  },
  {
   "cell_type": "code",
   "execution_count": 7570,
   "metadata": {},
   "outputs": [],
   "source": [
    "test['Bsmt Cond'] = test['Bsmt Cond'].fillna('NA')"
   ]
  },
  {
   "cell_type": "code",
   "execution_count": 7571,
   "metadata": {},
   "outputs": [
    {
     "name": "stdout",
     "output_type": "stream",
     "text": [
      "No match\n"
     ]
    }
   ],
   "source": [
    "variable_match(train['Bsmt Cond'], test['Bsmt Cond'])"
   ]
  },
  {
   "cell_type": "code",
   "execution_count": 7572,
   "metadata": {},
   "outputs": [
    {
     "data": {
      "text/plain": [
       "array(['TA', 'Gd', 'NA', 'Fa'], dtype=object)"
      ]
     },
     "execution_count": 7572,
     "metadata": {},
     "output_type": "execute_result"
    }
   ],
   "source": [
    "test['Bsmt Cond'].unique()"
   ]
  },
  {
   "cell_type": "markdown",
   "metadata": {},
   "source": [
    "Since this variable is ordinal, and the trains et contains all the variables of the test set, I will keep this variable."
   ]
  },
  {
   "cell_type": "code",
   "execution_count": 7573,
   "metadata": {},
   "outputs": [
    {
     "name": "stdout",
     "output_type": "stream",
     "text": [
      "object\n",
      "object\n"
     ]
    }
   ],
   "source": [
    "d_types('Bsmt Cond')"
   ]
  },
  {
   "cell_type": "markdown",
   "metadata": {},
   "source": [
    "## Bsmt Exposure \t"
   ]
  },
  {
   "cell_type": "code",
   "execution_count": 7574,
   "metadata": {},
   "outputs": [
    {
     "data": {
      "text/plain": [
       "array(['No', 'Gd', 'Av', nan, 'Mn'], dtype=object)"
      ]
     },
     "execution_count": 7574,
     "metadata": {},
     "output_type": "execute_result"
    }
   ],
   "source": [
    "train['Bsmt Exposure'].unique()"
   ]
  },
  {
   "cell_type": "code",
   "execution_count": 7575,
   "metadata": {},
   "outputs": [],
   "source": [
    "train['Bsmt Exposure'] = train['Bsmt Exposure'].fillna('NA')"
   ]
  },
  {
   "cell_type": "code",
   "execution_count": 7576,
   "metadata": {},
   "outputs": [],
   "source": [
    "test['Bsmt Exposure'] = test['Bsmt Exposure'].fillna('NA')"
   ]
  },
  {
   "cell_type": "code",
   "execution_count": 7577,
   "metadata": {
    "scrolled": true
   },
   "outputs": [
    {
     "name": "stdout",
     "output_type": "stream",
     "text": [
      "No match\n"
     ]
    }
   ],
   "source": [
    "variable_match(train['Bsmt Exposure'], test['Bsmt Exposure'])"
   ]
  },
  {
   "cell_type": "code",
   "execution_count": 7578,
   "metadata": {},
   "outputs": [
    {
     "name": "stdout",
     "output_type": "stream",
     "text": [
      "object\n",
      "object\n"
     ]
    }
   ],
   "source": [
    "d_types('Bsmt Exposure')"
   ]
  },
  {
   "cell_type": "markdown",
   "metadata": {},
   "source": [
    "## BsmtFin Type 1"
   ]
  },
  {
   "cell_type": "code",
   "execution_count": 7579,
   "metadata": {},
   "outputs": [
    {
     "data": {
      "text/plain": [
       "array(['GLQ', 'Unf', 'ALQ', 'Rec', nan, 'BLQ', 'LwQ'], dtype=object)"
      ]
     },
     "execution_count": 7579,
     "metadata": {},
     "output_type": "execute_result"
    }
   ],
   "source": [
    "train['BsmtFin Type 1'].unique()"
   ]
  },
  {
   "cell_type": "code",
   "execution_count": 7580,
   "metadata": {},
   "outputs": [],
   "source": [
    "train['BsmtFin Type 1'] = train['BsmtFin Type 1'].fillna('NA')"
   ]
  },
  {
   "cell_type": "code",
   "execution_count": 7581,
   "metadata": {},
   "outputs": [],
   "source": [
    "test['BsmtFin Type 1'] = test['BsmtFin Type 1'].fillna('NA')"
   ]
  },
  {
   "cell_type": "code",
   "execution_count": 7582,
   "metadata": {
    "scrolled": true
   },
   "outputs": [
    {
     "name": "stdout",
     "output_type": "stream",
     "text": [
      "No match\n"
     ]
    }
   ],
   "source": [
    "variable_match(train['BsmtFin Type 1'], test['Bsmt Exposure'])"
   ]
  },
  {
   "cell_type": "code",
   "execution_count": 7583,
   "metadata": {},
   "outputs": [
    {
     "name": "stdout",
     "output_type": "stream",
     "text": [
      "object\n",
      "object\n"
     ]
    }
   ],
   "source": [
    "d_types('BsmtFin Type 1')"
   ]
  },
  {
   "cell_type": "markdown",
   "metadata": {},
   "source": [
    "## BsmtFin SF 1"
   ]
  },
  {
   "cell_type": "code",
   "execution_count": 7584,
   "metadata": {},
   "outputs": [
    {
     "data": {
      "text/plain": [
       "Text(0.5, 1.0, 'BsmtFin SF 1 Distribution')"
      ]
     },
     "execution_count": 7584,
     "metadata": {},
     "output_type": "execute_result"
    },
    {
     "data": {
      "image/png": "[encoded data removed]",
      "text/plain": [
       "<Figure size 432x288 with 1 Axes>"
      ]
     },
     "metadata": {
      "needs_background": "light"
     },
     "output_type": "display_data"
    }
   ],
   "source": [
    "sns.histplot(train['BsmtFin SF 1'])\n",
    "plt.title('BsmtFin SF 1 Distribution')"
   ]
  },
  {
   "cell_type": "code",
   "execution_count": 7585,
   "metadata": {},
   "outputs": [
    {
     "data": {
      "text/plain": [
       "1.6030901753777977"
      ]
     },
     "execution_count": 7585,
     "metadata": {},
     "output_type": "execute_result"
    }
   ],
   "source": [
    "#This is a strong positive skew\n",
    "\n",
    "train['BsmtFin SF 1'].skew()"
   ]
  },
  {
   "cell_type": "code",
   "execution_count": 7586,
   "metadata": {},
   "outputs": [
    {
     "data": {
      "text/plain": [
       "1.603375539421063"
      ]
     },
     "execution_count": 7586,
     "metadata": {},
     "output_type": "execute_result"
    }
   ],
   "source": [
    "#Filling does not create a significant distribution change\n",
    "\n",
    "train['BsmtFin SF 1'].fillna(0).skew()"
   ]
  },
  {
   "cell_type": "markdown",
   "metadata": {},
   "source": [
    "Skew is pretty much the same so this fill is okay."
   ]
  },
  {
   "cell_type": "code",
   "execution_count": 7587,
   "metadata": {},
   "outputs": [],
   "source": [
    "train['BsmtFin SF 1'] = train['BsmtFin SF 1'].fillna(0)"
   ]
  },
  {
   "cell_type": "code",
   "execution_count": 7588,
   "metadata": {},
   "outputs": [],
   "source": [
    "test['BsmtFin SF 1'] = test['BsmtFin SF 1'].fillna(0)"
   ]
  },
  {
   "cell_type": "code",
   "execution_count": 7589,
   "metadata": {},
   "outputs": [
    {
     "name": "stdout",
     "output_type": "stream",
     "text": [
      "float64\n",
      "int64\n"
     ]
    }
   ],
   "source": [
    "d_types('BsmtFin SF 1')"
   ]
  },
  {
   "cell_type": "code",
   "execution_count": 7590,
   "metadata": {},
   "outputs": [],
   "source": [
    "test['BsmtFin SF 1'] = test['BsmtFin SF 1'].astype(float)"
   ]
  },
  {
   "cell_type": "markdown",
   "metadata": {},
   "source": [
    "## BsmtFin Type 2"
   ]
  },
  {
   "cell_type": "code",
   "execution_count": 7591,
   "metadata": {},
   "outputs": [
    {
     "data": {
      "text/plain": [
       "array(['Unf', 'Rec', nan, 'BLQ', 'GLQ', 'LwQ', 'ALQ'], dtype=object)"
      ]
     },
     "execution_count": 7591,
     "metadata": {},
     "output_type": "execute_result"
    }
   ],
   "source": [
    "train['BsmtFin Type 2'].unique()"
   ]
  },
  {
   "cell_type": "code",
   "execution_count": 7592,
   "metadata": {},
   "outputs": [],
   "source": [
    "train['BsmtFin Type 2'] = train['BsmtFin Type 2'].fillna('NA')"
   ]
  },
  {
   "cell_type": "code",
   "execution_count": 7593,
   "metadata": {},
   "outputs": [],
   "source": [
    "test['BsmtFin Type 2'] = test['BsmtFin Type 2'].fillna('NA')"
   ]
  },
  {
   "cell_type": "code",
   "execution_count": 7594,
   "metadata": {},
   "outputs": [
    {
     "name": "stdout",
     "output_type": "stream",
     "text": [
      "No match\n"
     ]
    }
   ],
   "source": [
    "variable_match(train['BsmtFin Type 2'], test['BsmtFin Type 2'])"
   ]
  },
  {
   "cell_type": "code",
   "execution_count": 7595,
   "metadata": {},
   "outputs": [
    {
     "name": "stdout",
     "output_type": "stream",
     "text": [
      "object\n",
      "object\n"
     ]
    }
   ],
   "source": [
    "d_types('BsmtFin Type 2')"
   ]
  },
  {
   "cell_type": "markdown",
   "metadata": {},
   "source": [
    "## BsmtFin SF 2"
   ]
  },
  {
   "cell_type": "code",
   "execution_count": 7596,
   "metadata": {},
   "outputs": [
    {
     "data": {
      "image/png": "[encoded data removed]",
      "text/plain": [
       "<Figure size 432x288 with 1 Axes>"
      ]
     },
     "metadata": {
      "needs_background": "light"
     },
     "output_type": "display_data"
    }
   ],
   "source": [
    "sns.histplot(train['BsmtFin SF 2'], kde = True)\n",
    "plt.title('BsmtFin SF 2 Distribution');"
   ]
  },
  {
   "cell_type": "code",
   "execution_count": 7597,
   "metadata": {},
   "outputs": [
    {
     "data": {
      "text/plain": [
       "4.239955039313746"
      ]
     },
     "execution_count": 7597,
     "metadata": {},
     "output_type": "execute_result"
    }
   ],
   "source": [
    "train['BsmtFin SF 2'].skew()"
   ]
  },
  {
   "cell_type": "code",
   "execution_count": 7598,
   "metadata": {},
   "outputs": [
    {
     "data": {
      "text/plain": [
       "4.24113904311804"
      ]
     },
     "execution_count": 7598,
     "metadata": {},
     "output_type": "execute_result"
    }
   ],
   "source": [
    "train['BsmtFin SF 2'].fillna(0).skew()"
   ]
  },
  {
   "cell_type": "code",
   "execution_count": 7599,
   "metadata": {},
   "outputs": [],
   "source": [
    "train['BsmtFin SF 2'] = train['BsmtFin SF 2'].fillna(0)"
   ]
  },
  {
   "cell_type": "code",
   "execution_count": 7600,
   "metadata": {},
   "outputs": [],
   "source": [
    "test['BsmtFin SF 2'] = test['BsmtFin SF 2'].fillna(0)"
   ]
  },
  {
   "cell_type": "code",
   "execution_count": 7601,
   "metadata": {},
   "outputs": [
    {
     "name": "stdout",
     "output_type": "stream",
     "text": [
      "float64\n",
      "int64\n"
     ]
    }
   ],
   "source": [
    "d_types('BsmtFin SF 2')"
   ]
  },
  {
   "cell_type": "code",
   "execution_count": 7602,
   "metadata": {},
   "outputs": [],
   "source": [
    "test['BsmtFin SF 2'] = test['BsmtFin SF 2'].astype(float)"
   ]
  },
  {
   "cell_type": "markdown",
   "metadata": {},
   "source": [
    "## Bsmt Unf SF"
   ]
  },
  {
   "cell_type": "code",
   "execution_count": 7603,
   "metadata": {},
   "outputs": [
    {
     "data": {
      "text/plain": [
       "Text(0.5, 1.0, 'Bsmt Unf SF Distribution')"
      ]
     },
     "execution_count": 7603,
     "metadata": {},
     "output_type": "execute_result"
    },
    {
     "data": {
      "image/png": "[encoded data removed]",
      "text/plain": [
       "<Figure size 432x288 with 1 Axes>"
      ]
     },
     "metadata": {
      "needs_background": "light"
     },
     "output_type": "display_data"
    }
   ],
   "source": [
    "sns.histplot(train['Bsmt Unf SF'])\n",
    "plt.title('Bsmt Unf SF Distribution')"
   ]
  },
  {
   "cell_type": "code",
   "execution_count": 7604,
   "metadata": {},
   "outputs": [
    {
     "data": {
      "text/plain": [
       "0.908479916403976"
      ]
     },
     "execution_count": 7604,
     "metadata": {},
     "output_type": "execute_result"
    }
   ],
   "source": [
    "train['Bsmt Unf SF'].skew()"
   ]
  },
  {
   "cell_type": "code",
   "execution_count": 7605,
   "metadata": {},
   "outputs": [
    {
     "data": {
      "text/plain": [
       "0.9087011453017043"
      ]
     },
     "execution_count": 7605,
     "metadata": {},
     "output_type": "execute_result"
    }
   ],
   "source": [
    "train['Bsmt Unf SF'].fillna(train['Bsmt Unf SF'].mean()).skew()"
   ]
  },
  {
   "cell_type": "code",
   "execution_count": 7606,
   "metadata": {},
   "outputs": [],
   "source": [
    "train['Bsmt Unf SF'] = train['Bsmt Unf SF'].fillna(train['Bsmt Unf SF'].mean())"
   ]
  },
  {
   "cell_type": "code",
   "execution_count": 7607,
   "metadata": {},
   "outputs": [],
   "source": [
    "train['Bsmt Unf SF'] = train['Bsmt Unf SF'].fillna(train['Bsmt Unf SF'].mean())"
   ]
  },
  {
   "cell_type": "code",
   "execution_count": 7608,
   "metadata": {},
   "outputs": [
    {
     "name": "stdout",
     "output_type": "stream",
     "text": [
      "float64\n",
      "int64\n"
     ]
    }
   ],
   "source": [
    "d_types('Bsmt Unf SF')"
   ]
  },
  {
   "cell_type": "code",
   "execution_count": 7609,
   "metadata": {},
   "outputs": [],
   "source": [
    "test['Bsmt Unf SF'] = test['Bsmt Unf SF'].astype(float)"
   ]
  },
  {
   "cell_type": "markdown",
   "metadata": {},
   "source": [
    "## Total Bsmt SF"
   ]
  },
  {
   "cell_type": "code",
   "execution_count": 7610,
   "metadata": {},
   "outputs": [
    {
     "data": {
      "text/plain": [
       "Text(0.5, 1.0, 'Total Bsmt SF Distribution')"
      ]
     },
     "execution_count": 7610,
     "metadata": {},
     "output_type": "execute_result"
    },
    {
     "data": {
      "image/png": "[encoded data removed]",
      "text/plain": [
       "<Figure size 432x288 with 1 Axes>"
      ]
     },
     "metadata": {
      "needs_background": "light"
     },
     "output_type": "display_data"
    }
   ],
   "source": [
    "sns.histplot(train['Total Bsmt SF'])\n",
    "plt.title('Total Bsmt SF Distribution')"
   ]
  },
  {
   "cell_type": "code",
   "execution_count": 7611,
   "metadata": {},
   "outputs": [
    {
     "data": {
      "text/plain": [
       "1.388912666293062"
      ]
     },
     "execution_count": 7611,
     "metadata": {},
     "output_type": "execute_result"
    }
   ],
   "source": [
    "train['Total Bsmt SF'].skew()"
   ]
  },
  {
   "cell_type": "code",
   "execution_count": 7612,
   "metadata": {},
   "outputs": [
    {
     "data": {
      "text/plain": [
       "1.3892508879891685"
      ]
     },
     "execution_count": 7612,
     "metadata": {},
     "output_type": "execute_result"
    }
   ],
   "source": [
    "train['Total Bsmt SF'].fillna(train['Total Bsmt SF'].mean()).skew()"
   ]
  },
  {
   "cell_type": "code",
   "execution_count": 7613,
   "metadata": {},
   "outputs": [],
   "source": [
    "train['Total Bsmt SF'] = train['Total Bsmt SF'].fillna(train['Total Bsmt SF'].mean())"
   ]
  },
  {
   "cell_type": "code",
   "execution_count": 7614,
   "metadata": {},
   "outputs": [],
   "source": [
    "test['Total Bsmt SF'] = test['Total Bsmt SF'].fillna(test['Total Bsmt SF'].mean())"
   ]
  },
  {
   "cell_type": "code",
   "execution_count": 7615,
   "metadata": {},
   "outputs": [
    {
     "name": "stdout",
     "output_type": "stream",
     "text": [
      "float64\n",
      "int64\n"
     ]
    }
   ],
   "source": [
    "d_types('Total Bsmt SF')"
   ]
  },
  {
   "cell_type": "code",
   "execution_count": 7616,
   "metadata": {},
   "outputs": [],
   "source": [
    "test['Total Bsmt SF'] = test['Total Bsmt SF'].astype(float)"
   ]
  },
  {
   "cell_type": "markdown",
   "metadata": {},
   "source": [
    "## Bsmt Full Bath"
   ]
  },
  {
   "cell_type": "code",
   "execution_count": 7617,
   "metadata": {},
   "outputs": [
    {
     "data": {
      "text/plain": [
       "Text(0.5, 1.0, 'Bsmt Full Bath Distribution')"
      ]
     },
     "execution_count": 7617,
     "metadata": {},
     "output_type": "execute_result"
    },
    {
     "data": {
      "image/png": "[encoded data removed]",
      "text/plain": [
       "<Figure size 432x288 with 1 Axes>"
      ]
     },
     "metadata": {
      "needs_background": "light"
     },
     "output_type": "display_data"
    }
   ],
   "source": [
    "sns.histplot(train['Bsmt Full Bath'])\n",
    "plt.title('Bsmt Full Bath Distribution')"
   ]
  },
  {
   "cell_type": "code",
   "execution_count": 7618,
   "metadata": {},
   "outputs": [],
   "source": [
    "#There are not that many 2 and 3 baths so I'm changing it to 0 or 1\n",
    "train['Bsmt Full Bath'] = train['Bsmt Full Bath'].replace([1, 2,3], 1)"
   ]
  },
  {
   "cell_type": "code",
   "execution_count": 7619,
   "metadata": {},
   "outputs": [],
   "source": [
    "train['Bsmt Full Bath'] = train['Bsmt Full Bath'].fillna(0)"
   ]
  },
  {
   "cell_type": "code",
   "execution_count": 7620,
   "metadata": {},
   "outputs": [],
   "source": [
    "test['Bsmt Full Bath'] = test['Bsmt Full Bath'].replace([1, 2], 1)"
   ]
  },
  {
   "cell_type": "code",
   "execution_count": 7621,
   "metadata": {},
   "outputs": [
    {
     "name": "stdout",
     "output_type": "stream",
     "text": [
      "float64\n",
      "int64\n"
     ]
    }
   ],
   "source": [
    "d_types('Bsmt Full Bath')"
   ]
  },
  {
   "cell_type": "code",
   "execution_count": 7622,
   "metadata": {},
   "outputs": [],
   "source": [
    "test['Bsmt Full Bath'] = test['Bsmt Full Bath'].astype(float)"
   ]
  },
  {
   "cell_type": "markdown",
   "metadata": {},
   "source": [
    "## Bsmt Half Bath"
   ]
  },
  {
   "cell_type": "code",
   "execution_count": 7623,
   "metadata": {},
   "outputs": [
    {
     "data": {
      "text/plain": [
       "array([ 0.,  1., nan,  2.])"
      ]
     },
     "execution_count": 7623,
     "metadata": {},
     "output_type": "execute_result"
    }
   ],
   "source": [
    "train['Bsmt Half Bath'].unique()"
   ]
  },
  {
   "cell_type": "code",
   "execution_count": 7624,
   "metadata": {},
   "outputs": [
    {
     "data": {
      "text/plain": [
       "0.0    1923\n",
       "1.0     122\n",
       "2.0       4\n",
       "Name: Bsmt Half Bath, dtype: int64"
      ]
     },
     "execution_count": 7624,
     "metadata": {},
     "output_type": "execute_result"
    }
   ],
   "source": [
    "train['Bsmt Half Bath'].value_counts()"
   ]
  },
  {
   "cell_type": "code",
   "execution_count": 7625,
   "metadata": {},
   "outputs": [],
   "source": [
    "train['Bsmt Half Bath'] = train['Bsmt Half Bath'].replace([1, 2], 1)"
   ]
  },
  {
   "cell_type": "code",
   "execution_count": 7626,
   "metadata": {},
   "outputs": [],
   "source": [
    "train['Bsmt Half Bath'] = train['Bsmt Half Bath'].fillna(0)"
   ]
  },
  {
   "cell_type": "code",
   "execution_count": 7627,
   "metadata": {},
   "outputs": [],
   "source": [
    "test['Bsmt Half Bath'] = test['Bsmt Half Bath'].replace([1, 2], 1)"
   ]
  },
  {
   "cell_type": "code",
   "execution_count": 7628,
   "metadata": {
    "scrolled": true
   },
   "outputs": [
    {
     "data": {
      "text/plain": [
       "array([0, 1], dtype=int64)"
      ]
     },
     "execution_count": 7628,
     "metadata": {},
     "output_type": "execute_result"
    }
   ],
   "source": [
    "test['Bsmt Half Bath'].unique()"
   ]
  },
  {
   "cell_type": "code",
   "execution_count": 7629,
   "metadata": {},
   "outputs": [
    {
     "name": "stdout",
     "output_type": "stream",
     "text": [
      "float64\n",
      "int64\n"
     ]
    }
   ],
   "source": [
    "d_types('Bsmt Half Bath')"
   ]
  },
  {
   "cell_type": "markdown",
   "metadata": {},
   "source": [
    "## Fireplace Qu"
   ]
  },
  {
   "cell_type": "code",
   "execution_count": 7630,
   "metadata": {},
   "outputs": [
    {
     "data": {
      "text/plain": [
       "array([nan, 'TA', 'Gd', 'Po', 'Ex', 'Fa'], dtype=object)"
      ]
     },
     "execution_count": 7630,
     "metadata": {},
     "output_type": "execute_result"
    }
   ],
   "source": [
    "train['Fireplace Qu'].unique()"
   ]
  },
  {
   "cell_type": "code",
   "execution_count": 7631,
   "metadata": {},
   "outputs": [],
   "source": [
    "train['Fireplace Qu'] = train['Fireplace Qu'].fillna('NA')"
   ]
  },
  {
   "cell_type": "code",
   "execution_count": 7632,
   "metadata": {},
   "outputs": [],
   "source": [
    "test['Fireplace Qu'] = test['Fireplace Qu'].fillna('NA')"
   ]
  },
  {
   "cell_type": "code",
   "execution_count": 7633,
   "metadata": {},
   "outputs": [
    {
     "name": "stdout",
     "output_type": "stream",
     "text": [
      "No match\n"
     ]
    }
   ],
   "source": [
    "variable_match(train['Fireplace Qu'], test['Fireplace Qu'])"
   ]
  },
  {
   "cell_type": "code",
   "execution_count": 7634,
   "metadata": {},
   "outputs": [
    {
     "name": "stdout",
     "output_type": "stream",
     "text": [
      "object\n",
      "object\n"
     ]
    }
   ],
   "source": [
    "d_types('Fireplace Qu')"
   ]
  },
  {
   "cell_type": "markdown",
   "metadata": {},
   "source": [
    "## Garage Type"
   ]
  },
  {
   "cell_type": "code",
   "execution_count": 7635,
   "metadata": {},
   "outputs": [
    {
     "data": {
      "text/plain": [
       "array(['Attchd', 'Detchd', 'BuiltIn', 'Basment', nan, '2Types', 'CarPort'],\n",
       "      dtype=object)"
      ]
     },
     "execution_count": 7635,
     "metadata": {},
     "output_type": "execute_result"
    }
   ],
   "source": [
    "train['Garage Type'].unique()"
   ]
  },
  {
   "cell_type": "code",
   "execution_count": 7636,
   "metadata": {},
   "outputs": [],
   "source": [
    "train['Garage Type'] = train['Garage Type'].fillna('NA')"
   ]
  },
  {
   "cell_type": "code",
   "execution_count": 7637,
   "metadata": {},
   "outputs": [],
   "source": [
    "test['Garage Type'] = test['Garage Type'].fillna('NA')"
   ]
  },
  {
   "cell_type": "code",
   "execution_count": 7638,
   "metadata": {},
   "outputs": [
    {
     "name": "stdout",
     "output_type": "stream",
     "text": [
      "No match\n"
     ]
    }
   ],
   "source": [
    "variable_match(train['Garage Type'], test['Garage Type'])"
   ]
  },
  {
   "cell_type": "code",
   "execution_count": 7639,
   "metadata": {},
   "outputs": [
    {
     "name": "stdout",
     "output_type": "stream",
     "text": [
      "object\n",
      "object\n"
     ]
    }
   ],
   "source": [
    "d_types('Garage Type')"
   ]
  },
  {
   "cell_type": "markdown",
   "metadata": {},
   "source": [
    "## Garage Yr Blt"
   ]
  },
  {
   "cell_type": "code",
   "execution_count": 7640,
   "metadata": {},
   "outputs": [
    {
     "data": {
      "text/plain": [
       "1699    2207.0\n",
       "Name: Garage Yr Blt, dtype: float64"
      ]
     },
     "execution_count": 7640,
     "metadata": {},
     "output_type": "execute_result"
    }
   ],
   "source": [
    "train[train['Garage Yr Blt'] > 2010]['Garage Yr Blt']"
   ]
  },
  {
   "cell_type": "code",
   "execution_count": 7641,
   "metadata": {},
   "outputs": [],
   "source": [
    "train = train[train['Garage Yr Blt'] != 2207]"
   ]
  },
  {
   "cell_type": "code",
   "execution_count": 7642,
   "metadata": {},
   "outputs": [
    {
     "data": {
      "image/png": "[encoded data removed]",
      "text/plain": [
       "<Figure size 432x288 with 1 Axes>"
      ]
     },
     "metadata": {
      "needs_background": "light"
     },
     "output_type": "display_data"
    }
   ],
   "source": [
    "sns.histplot(train['Garage Yr Blt'])\n",
    "plt.title('Garae Yr Built Distribution');"
   ]
  },
  {
   "cell_type": "code",
   "execution_count": 7643,
   "metadata": {},
   "outputs": [
    {
     "data": {
      "text/plain": [
       "2005.0    105\n",
       "2007.0     84\n",
       "2006.0     80\n",
       "2004.0     72\n",
       "2003.0     66\n",
       "         ... \n",
       "1896.0      1\n",
       "1919.0      1\n",
       "1917.0      1\n",
       "1895.0      1\n",
       "1933.0      1\n",
       "Name: Garage Yr Blt, Length: 99, dtype: int64"
      ]
     },
     "execution_count": 7643,
     "metadata": {},
     "output_type": "execute_result"
    }
   ],
   "source": [
    "train['Garage Yr Blt'].value_counts()"
   ]
  },
  {
   "cell_type": "code",
   "execution_count": 7644,
   "metadata": {},
   "outputs": [],
   "source": [
    "# I won't use this column because there are a lot of value missing and I don't know how to fill them in"
   ]
  },
  {
   "cell_type": "code",
   "execution_count": 7645,
   "metadata": {},
   "outputs": [
    {
     "data": {
      "text/plain": [
       "2010.0"
      ]
     },
     "execution_count": 7645,
     "metadata": {},
     "output_type": "execute_result"
    }
   ],
   "source": [
    "train['Garage Yr Blt'].max()"
   ]
  },
  {
   "cell_type": "markdown",
   "metadata": {},
   "source": [
    "## Garage Finish"
   ]
  },
  {
   "cell_type": "code",
   "execution_count": 7646,
   "metadata": {},
   "outputs": [
    {
     "data": {
      "text/plain": [
       "array(['RFn', 'Unf', 'Fin', nan], dtype=object)"
      ]
     },
     "execution_count": 7646,
     "metadata": {},
     "output_type": "execute_result"
    }
   ],
   "source": [
    "train['Garage Finish'].unique()"
   ]
  },
  {
   "cell_type": "code",
   "execution_count": 7647,
   "metadata": {},
   "outputs": [],
   "source": [
    "train['Garage Finish'] = train['Garage Finish'].fillna('NA')"
   ]
  },
  {
   "cell_type": "code",
   "execution_count": 7648,
   "metadata": {},
   "outputs": [],
   "source": [
    "test['Garage Finish'] = test['Garage Finish'].fillna('NA')"
   ]
  },
  {
   "cell_type": "code",
   "execution_count": 7649,
   "metadata": {},
   "outputs": [
    {
     "name": "stdout",
     "output_type": "stream",
     "text": [
      "No match\n"
     ]
    }
   ],
   "source": [
    "variable_match(train['Garage Finish'], test['Garage Finish'])"
   ]
  },
  {
   "cell_type": "code",
   "execution_count": 7650,
   "metadata": {},
   "outputs": [
    {
     "name": "stdout",
     "output_type": "stream",
     "text": [
      "object\n",
      "object\n"
     ]
    }
   ],
   "source": [
    "d_types('Garage Finish')"
   ]
  },
  {
   "cell_type": "markdown",
   "metadata": {},
   "source": [
    "## Garage Cars"
   ]
  },
  {
   "cell_type": "code",
   "execution_count": 7651,
   "metadata": {},
   "outputs": [
    {
     "data": {
      "text/plain": [
       "array([ 2.,  1.,  3.,  0.,  4.,  5., nan])"
      ]
     },
     "execution_count": 7651,
     "metadata": {},
     "output_type": "execute_result"
    }
   ],
   "source": [
    "train['Garage Cars'].unique()"
   ]
  },
  {
   "cell_type": "code",
   "execution_count": 7652,
   "metadata": {},
   "outputs": [
    {
     "data": {
      "text/plain": [
       "Text(0.5, 1.0, 'Garage Cars Distribution')"
      ]
     },
     "execution_count": 7652,
     "metadata": {},
     "output_type": "execute_result"
    },
    {
     "data": {
      "image/png": "[encoded data removed]",
      "text/plain": [
       "<Figure size 432x288 with 1 Axes>"
      ]
     },
     "metadata": {
      "needs_background": "light"
     },
     "output_type": "display_data"
    }
   ],
   "source": [
    "sns.histplot(train['Garage Cars'])\n",
    "plt.title('Garage Cars Distribution')"
   ]
  },
  {
   "cell_type": "code",
   "execution_count": 7653,
   "metadata": {},
   "outputs": [
    {
     "data": {
      "image/png": "[encoded data removed]",
      "text/plain": [
       "<Figure size 432x288 with 1 Axes>"
      ]
     },
     "metadata": {
      "needs_background": "light"
     },
     "output_type": "display_data"
    }
   ],
   "source": [
    "sns.histplot(train['Garage Cars'].fillna(2))\n",
    "plt.title('Garage Cars Distribution (w/ Fill)');"
   ]
  },
  {
   "cell_type": "code",
   "execution_count": 7654,
   "metadata": {},
   "outputs": [],
   "source": [
    "train['Garage Cars'] = train['Garage Cars'].fillna(2)"
   ]
  },
  {
   "cell_type": "code",
   "execution_count": 7655,
   "metadata": {},
   "outputs": [
    {
     "data": {
      "text/plain": [
       "0"
      ]
     },
     "execution_count": 7655,
     "metadata": {},
     "output_type": "execute_result"
    }
   ],
   "source": [
    "test['Garage Cars'].isnull().sum()"
   ]
  },
  {
   "cell_type": "code",
   "execution_count": 7656,
   "metadata": {},
   "outputs": [],
   "source": [
    "train['Garage Cars'] = train['Garage Cars'].replace([0, 1], 0)"
   ]
  },
  {
   "cell_type": "code",
   "execution_count": 7657,
   "metadata": {},
   "outputs": [],
   "source": [
    "#Change all cars 2+ to 1 and all below to 0\n",
    "train['Garage Cars'] = train['Garage Cars'].replace([2, 3, 4, 5], 1)"
   ]
  },
  {
   "cell_type": "code",
   "execution_count": 7658,
   "metadata": {},
   "outputs": [
    {
     "data": {
      "text/plain": [
       "array([1., 0.])"
      ]
     },
     "execution_count": 7658,
     "metadata": {},
     "output_type": "execute_result"
    }
   ],
   "source": [
    "train['Garage Cars'].unique()"
   ]
  },
  {
   "cell_type": "code",
   "execution_count": 7659,
   "metadata": {},
   "outputs": [],
   "source": [
    "test['Garage Cars'] = test['Garage Cars'].replace([0, 1], 0)"
   ]
  },
  {
   "cell_type": "code",
   "execution_count": 7660,
   "metadata": {},
   "outputs": [],
   "source": [
    "test['Garage Cars'] = test['Garage Cars'].replace([2, 3, 4], 1)"
   ]
  },
  {
   "cell_type": "code",
   "execution_count": 7661,
   "metadata": {},
   "outputs": [
    {
     "data": {
      "text/plain": [
       "array([0, 1], dtype=int64)"
      ]
     },
     "execution_count": 7661,
     "metadata": {},
     "output_type": "execute_result"
    }
   ],
   "source": [
    "test['Garage Cars'].unique()"
   ]
  },
  {
   "cell_type": "code",
   "execution_count": 7662,
   "metadata": {},
   "outputs": [
    {
     "name": "stdout",
     "output_type": "stream",
     "text": [
      "float64\n",
      "int64\n"
     ]
    }
   ],
   "source": [
    "d_types('Garage Cars')"
   ]
  },
  {
   "cell_type": "markdown",
   "metadata": {},
   "source": [
    "## Garage Area"
   ]
  },
  {
   "cell_type": "code",
   "execution_count": 7663,
   "metadata": {},
   "outputs": [
    {
     "data": {
      "image/png": "[encoded data removed]",
      "text/plain": [
       "<Figure size 432x288 with 1 Axes>"
      ]
     },
     "metadata": {
      "needs_background": "light"
     },
     "output_type": "display_data"
    }
   ],
   "source": [
    "sns.histplot(train['Garage Area'])\n",
    "plt.title('Garage Area Distribution');"
   ]
  },
  {
   "cell_type": "code",
   "execution_count": 7664,
   "metadata": {},
   "outputs": [
    {
     "data": {
      "text/plain": [
       "0.1993864504215629"
      ]
     },
     "execution_count": 7664,
     "metadata": {},
     "output_type": "execute_result"
    }
   ],
   "source": [
    "#Pretty normal!\n",
    "train['Garage Area'].skew()"
   ]
  },
  {
   "cell_type": "code",
   "execution_count": 7665,
   "metadata": {},
   "outputs": [
    {
     "data": {
      "text/plain": [
       "0.1994350277617911"
      ]
     },
     "execution_count": 7665,
     "metadata": {},
     "output_type": "execute_result"
    }
   ],
   "source": [
    "train['Garage Area'].fillna(train['Garage Area'].mean()).skew()"
   ]
  },
  {
   "cell_type": "code",
   "execution_count": 7666,
   "metadata": {},
   "outputs": [],
   "source": [
    "train['Garage Area'] = train['Garage Area'].fillna(train['Garage Area'].mean())"
   ]
  },
  {
   "cell_type": "code",
   "execution_count": 7667,
   "metadata": {},
   "outputs": [
    {
     "data": {
      "text/plain": [
       "0"
      ]
     },
     "execution_count": 7667,
     "metadata": {},
     "output_type": "execute_result"
    }
   ],
   "source": [
    "test['Garage Area'].isnull().sum()"
   ]
  },
  {
   "cell_type": "code",
   "execution_count": 7668,
   "metadata": {},
   "outputs": [
    {
     "name": "stdout",
     "output_type": "stream",
     "text": [
      "float64\n",
      "int64\n"
     ]
    }
   ],
   "source": [
    "d_types('Garage Area')"
   ]
  },
  {
   "cell_type": "markdown",
   "metadata": {},
   "source": [
    "## Garage Qual"
   ]
  },
  {
   "cell_type": "code",
   "execution_count": 7669,
   "metadata": {},
   "outputs": [
    {
     "data": {
      "text/plain": [
       "array(['TA', 'Fa', nan, 'Gd', 'Ex', 'Po'], dtype=object)"
      ]
     },
     "execution_count": 7669,
     "metadata": {},
     "output_type": "execute_result"
    }
   ],
   "source": [
    "train['Garage Qual'].unique()"
   ]
  },
  {
   "cell_type": "code",
   "execution_count": 7670,
   "metadata": {},
   "outputs": [],
   "source": [
    "train['Garage Qual'] = train['Garage Qual'].fillna('NA')"
   ]
  },
  {
   "cell_type": "code",
   "execution_count": 7671,
   "metadata": {},
   "outputs": [],
   "source": [
    "test['Garage Qual'] = test['Garage Qual'].fillna('NA')"
   ]
  },
  {
   "cell_type": "code",
   "execution_count": 7672,
   "metadata": {},
   "outputs": [
    {
     "name": "stdout",
     "output_type": "stream",
     "text": [
      "No match\n"
     ]
    }
   ],
   "source": [
    "variable_match(train['Garage Qual'], test['Garage Qual'])"
   ]
  },
  {
   "cell_type": "code",
   "execution_count": 7673,
   "metadata": {},
   "outputs": [
    {
     "name": "stdout",
     "output_type": "stream",
     "text": [
      "object\n",
      "object\n"
     ]
    }
   ],
   "source": [
    "d_types('Garage Qual')"
   ]
  },
  {
   "cell_type": "markdown",
   "metadata": {},
   "source": [
    "## Garage Cond"
   ]
  },
  {
   "cell_type": "code",
   "execution_count": 7674,
   "metadata": {},
   "outputs": [
    {
     "data": {
      "text/plain": [
       "array(['TA', 'Fa', nan, 'Po', 'Gd', 'Ex'], dtype=object)"
      ]
     },
     "execution_count": 7674,
     "metadata": {},
     "output_type": "execute_result"
    }
   ],
   "source": [
    "train['Garage Cond'].unique()"
   ]
  },
  {
   "cell_type": "code",
   "execution_count": 7675,
   "metadata": {},
   "outputs": [],
   "source": [
    "train['Garage Cond'] = train['Garage Cond'].fillna('NA')"
   ]
  },
  {
   "cell_type": "code",
   "execution_count": 7676,
   "metadata": {},
   "outputs": [],
   "source": [
    "test['Garage Cond'] = test['Garage Cond'].fillna('NA')"
   ]
  },
  {
   "cell_type": "code",
   "execution_count": 7677,
   "metadata": {},
   "outputs": [
    {
     "name": "stdout",
     "output_type": "stream",
     "text": [
      "No match\n"
     ]
    }
   ],
   "source": [
    "variable_match(train['Garage Cond'], test['Garage Cond'])"
   ]
  },
  {
   "cell_type": "code",
   "execution_count": 7678,
   "metadata": {},
   "outputs": [
    {
     "name": "stdout",
     "output_type": "stream",
     "text": [
      "object\n",
      "object\n"
     ]
    }
   ],
   "source": [
    "d_types('Garage Cond')"
   ]
  },
  {
   "cell_type": "markdown",
   "metadata": {},
   "source": [
    "## Pool QC"
   ]
  },
  {
   "cell_type": "code",
   "execution_count": 7679,
   "metadata": {},
   "outputs": [
    {
     "data": {
      "text/plain": [
       "array([nan, 'Fa', 'Gd', 'Ex', 'TA'], dtype=object)"
      ]
     },
     "execution_count": 7679,
     "metadata": {},
     "output_type": "execute_result"
    }
   ],
   "source": [
    "train['Pool QC'].unique()"
   ]
  },
  {
   "cell_type": "code",
   "execution_count": 7680,
   "metadata": {},
   "outputs": [
    {
     "data": {
      "text/plain": [
       "Gd    4\n",
       "Fa    2\n",
       "TA    2\n",
       "Ex    1\n",
       "Name: Pool QC, dtype: int64"
      ]
     },
     "execution_count": 7680,
     "metadata": {},
     "output_type": "execute_result"
    }
   ],
   "source": [
    "#Almost no information!\n",
    "train['Pool QC'].value_counts()"
   ]
  },
  {
   "cell_type": "code",
   "execution_count": 7681,
   "metadata": {},
   "outputs": [],
   "source": [
    "train['Pool QC'] = train['Pool QC'].fillna('NA')"
   ]
  },
  {
   "cell_type": "code",
   "execution_count": 7682,
   "metadata": {},
   "outputs": [],
   "source": [
    "test['Pool QC'] = test['Pool QC'].fillna('NA')"
   ]
  },
  {
   "cell_type": "code",
   "execution_count": 7683,
   "metadata": {},
   "outputs": [
    {
     "name": "stdout",
     "output_type": "stream",
     "text": [
      "object\n",
      "object\n"
     ]
    }
   ],
   "source": [
    "d_types('Pool QC')"
   ]
  },
  {
   "cell_type": "markdown",
   "metadata": {},
   "source": [
    "## Fence"
   ]
  },
  {
   "cell_type": "code",
   "execution_count": 7684,
   "metadata": {},
   "outputs": [
    {
     "data": {
      "text/plain": [
       "array([nan, 'MnPrv', 'GdPrv', 'GdWo', 'MnWw'], dtype=object)"
      ]
     },
     "execution_count": 7684,
     "metadata": {},
     "output_type": "execute_result"
    }
   ],
   "source": [
    "train['Fence'].unique()"
   ]
  },
  {
   "cell_type": "code",
   "execution_count": 7685,
   "metadata": {},
   "outputs": [],
   "source": [
    "train['Fence'] = train['Fence'].fillna('NA')"
   ]
  },
  {
   "cell_type": "code",
   "execution_count": 7686,
   "metadata": {},
   "outputs": [],
   "source": [
    "test['Fence'] = test['Fence'].fillna('NA')"
   ]
  },
  {
   "cell_type": "code",
   "execution_count": 7687,
   "metadata": {},
   "outputs": [
    {
     "name": "stdout",
     "output_type": "stream",
     "text": [
      "No match\n"
     ]
    }
   ],
   "source": [
    "variable_match(train['Fence'], test['Fence'])"
   ]
  },
  {
   "cell_type": "code",
   "execution_count": 7688,
   "metadata": {},
   "outputs": [
    {
     "name": "stdout",
     "output_type": "stream",
     "text": [
      "object\n",
      "object\n"
     ]
    }
   ],
   "source": [
    "d_types('Fence')"
   ]
  },
  {
   "cell_type": "markdown",
   "metadata": {},
   "source": [
    "## Misc Feature"
   ]
  },
  {
   "cell_type": "code",
   "execution_count": 7689,
   "metadata": {},
   "outputs": [
    {
     "data": {
      "text/plain": [
       "array([nan, 'Shed', 'TenC', 'Gar2', 'Othr', 'Elev'], dtype=object)"
      ]
     },
     "execution_count": 7689,
     "metadata": {},
     "output_type": "execute_result"
    }
   ],
   "source": [
    "train['Misc Feature'].unique()"
   ]
  },
  {
   "cell_type": "code",
   "execution_count": 7690,
   "metadata": {},
   "outputs": [],
   "source": [
    "train['Misc Feature'] = train['Misc Feature'].fillna('NA')"
   ]
  },
  {
   "cell_type": "code",
   "execution_count": 7691,
   "metadata": {},
   "outputs": [],
   "source": [
    "test['Misc Feature'] = test['Misc Feature'].fillna('NA')"
   ]
  },
  {
   "cell_type": "code",
   "execution_count": 7692,
   "metadata": {},
   "outputs": [
    {
     "data": {
      "text/plain": [
       "array(['NA', 'Shed', 'Othr', 'Gar2'], dtype=object)"
      ]
     },
     "execution_count": 7692,
     "metadata": {},
     "output_type": "execute_result"
    }
   ],
   "source": [
    "test['Misc Feature'].unique()"
   ]
  },
  {
   "cell_type": "code",
   "execution_count": 7693,
   "metadata": {},
   "outputs": [
    {
     "name": "stdout",
     "output_type": "stream",
     "text": [
      "No match\n"
     ]
    }
   ],
   "source": [
    "variable_match(train['Misc Feature'], test['Misc Feature'])"
   ]
  },
  {
   "cell_type": "code",
   "execution_count": 7694,
   "metadata": {},
   "outputs": [
    {
     "name": "stdout",
     "output_type": "stream",
     "text": [
      "object\n",
      "object\n"
     ]
    }
   ],
   "source": [
    "d_types('Misc Feature')"
   ]
  },
  {
   "cell_type": "markdown",
   "metadata": {},
   "source": [
    "## Electrical (in test set)"
   ]
  },
  {
   "cell_type": "code",
   "execution_count": 7695,
   "metadata": {},
   "outputs": [
    {
     "data": {
      "text/plain": [
       "array(['FuseP', 'SBrkr', 'FuseA', 'FuseF', nan], dtype=object)"
      ]
     },
     "execution_count": 7695,
     "metadata": {},
     "output_type": "execute_result"
    }
   ],
   "source": [
    "test['Electrical'].unique()"
   ]
  },
  {
   "cell_type": "code",
   "execution_count": 7696,
   "metadata": {},
   "outputs": [
    {
     "data": {
      "text/plain": [
       "1"
      ]
     },
     "execution_count": 7696,
     "metadata": {},
     "output_type": "execute_result"
    }
   ],
   "source": [
    "test['Electrical'].isnull().sum()"
   ]
  },
  {
   "cell_type": "code",
   "execution_count": 7697,
   "metadata": {},
   "outputs": [
    {
     "data": {
      "text/plain": [
       "SBrkr    813\n",
       "FuseA     48\n",
       "FuseF     15\n",
       "FuseP      1\n",
       "Name: Electrical, dtype: int64"
      ]
     },
     "execution_count": 7697,
     "metadata": {},
     "output_type": "execute_result"
    }
   ],
   "source": [
    "test['Electrical'].value_counts()"
   ]
  },
  {
   "cell_type": "code",
   "execution_count": 7698,
   "metadata": {},
   "outputs": [],
   "source": [
    "test['Electrical'] = test['Electrical'].fillna('SBrkr')"
   ]
  },
  {
   "cell_type": "code",
   "execution_count": 7699,
   "metadata": {},
   "outputs": [
    {
     "data": {
      "text/plain": [
       "SBrkr    814\n",
       "FuseA     48\n",
       "FuseF     15\n",
       "FuseP      1\n",
       "Name: Electrical, dtype: int64"
      ]
     },
     "execution_count": 7699,
     "metadata": {},
     "output_type": "execute_result"
    }
   ],
   "source": [
    "test['Electrical'].value_counts()"
   ]
  },
  {
   "cell_type": "code",
   "execution_count": 7700,
   "metadata": {},
   "outputs": [
    {
     "name": "stdout",
     "output_type": "stream",
     "text": [
      "object\n",
      "object\n"
     ]
    }
   ],
   "source": [
    "d_types('Electrical')"
   ]
  },
  {
   "cell_type": "code",
   "execution_count": 7701,
   "metadata": {},
   "outputs": [],
   "source": [
    "#Change MS SubClass to object since it is not continuous"
   ]
  },
  {
   "cell_type": "code",
   "execution_count": 7702,
   "metadata": {},
   "outputs": [],
   "source": [
    "train['MS SubClass'] = train['MS SubClass'].astype('object')"
   ]
  },
  {
   "cell_type": "code",
   "execution_count": 7703,
   "metadata": {},
   "outputs": [],
   "source": [
    "test['MS SubClass'] = test['MS SubClass'].astype('object')"
   ]
  },
  {
   "cell_type": "code",
   "execution_count": 7704,
   "metadata": {},
   "outputs": [],
   "source": [
    "#Change years to ages where possible\n",
    "age = []\n",
    "for year in train['Year Built']:\n",
    "    age.append(train['Year Built'].max() - year)"
   ]
  },
  {
   "cell_type": "code",
   "execution_count": 7705,
   "metadata": {},
   "outputs": [],
   "source": [
    "train['Year Built'] = age"
   ]
  },
  {
   "cell_type": "code",
   "execution_count": 7706,
   "metadata": {},
   "outputs": [],
   "source": [
    "train.rename(columns = {'Year Built' : 'property_age'}, inplace = True)"
   ]
  },
  {
   "cell_type": "code",
   "execution_count": 7707,
   "metadata": {},
   "outputs": [],
   "source": [
    "#Yr Sold\n",
    "age = [train['Yr Sold'].max() - year for year in train['Yr Sold']]"
   ]
  },
  {
   "cell_type": "code",
   "execution_count": 7708,
   "metadata": {},
   "outputs": [],
   "source": [
    "train['Yr Sold'] = age"
   ]
  },
  {
   "cell_type": "code",
   "execution_count": 7709,
   "metadata": {},
   "outputs": [],
   "source": [
    "#Year Remod/Add\n",
    "age = [train['Year Remod/Add'].max() - year for year in train['Year Remod/Add']]"
   ]
  },
  {
   "cell_type": "code",
   "execution_count": 7710,
   "metadata": {},
   "outputs": [],
   "source": [
    "train['Year Remod/Add'] = age"
   ]
  },
  {
   "cell_type": "code",
   "execution_count": 7711,
   "metadata": {},
   "outputs": [],
   "source": [
    "#Doing the same for the test set"
   ]
  },
  {
   "cell_type": "code",
   "execution_count": 7712,
   "metadata": {},
   "outputs": [],
   "source": [
    "age = []\n",
    "for year in test['Year Built']:\n",
    "    age.append(test['Year Built'].max() - year)"
   ]
  },
  {
   "cell_type": "code",
   "execution_count": 7713,
   "metadata": {},
   "outputs": [],
   "source": [
    "test['Year Built'] = age"
   ]
  },
  {
   "cell_type": "code",
   "execution_count": 7714,
   "metadata": {},
   "outputs": [],
   "source": [
    "test.rename(columns = {'Year Built' : 'property_age'}, inplace = True)"
   ]
  },
  {
   "cell_type": "code",
   "execution_count": 7715,
   "metadata": {},
   "outputs": [],
   "source": [
    "age = [test['Yr Sold'].max() - year for year in test['Yr Sold']]"
   ]
  },
  {
   "cell_type": "code",
   "execution_count": 7716,
   "metadata": {},
   "outputs": [],
   "source": [
    "test['Yr Sold'] = age"
   ]
  },
  {
   "cell_type": "code",
   "execution_count": 7717,
   "metadata": {},
   "outputs": [],
   "source": [
    "#Year Remod/Add\n",
    "age = [test['Year Remod/Add'].max() - year for year in test['Year Remod/Add']]"
   ]
  },
  {
   "cell_type": "code",
   "execution_count": 7718,
   "metadata": {},
   "outputs": [],
   "source": [
    "test['Year Remod/Add'] = age"
   ]
  },
  {
   "cell_type": "markdown",
   "metadata": {},
   "source": [
    "## Column Drops"
   ]
  },
  {
   "cell_type": "code",
   "execution_count": 7719,
   "metadata": {},
   "outputs": [],
   "source": [
    "# Don't need ID or PID columns for the train set. I also chose not to include\n",
    "#the Garage Yr Built because I didn't want to incorrectly fill in missing values.\n",
    "train.drop(columns = ['Garage Yr Blt', 'Id', 'PID'], inplace = True)"
   ]
  },
  {
   "cell_type": "code",
   "execution_count": 7720,
   "metadata": {},
   "outputs": [],
   "source": [
    "test.drop(columns = 'Garage Yr Blt', inplace = True)"
   ]
  },
  {
   "cell_type": "markdown",
   "metadata": {},
   "source": [
    "## Outliers"
   ]
  },
  {
   "cell_type": "code",
   "execution_count": 7721,
   "metadata": {},
   "outputs": [
    {
     "data": {
      "text/plain": [
       "count      2050.000000\n",
       "mean     181427.833171\n",
       "std       79255.308013\n",
       "min       12789.000000\n",
       "25%      129812.500000\n",
       "50%      162500.000000\n",
       "75%      214000.000000\n",
       "max      611657.000000\n",
       "Name: SalePrice, dtype: float64"
      ]
     },
     "execution_count": 7721,
     "metadata": {},
     "output_type": "execute_result"
    }
   ],
   "source": [
    "#Let's look at the summary statistics for SalePrice\n",
    "\n",
    "train['SalePrice'].describe()\n",
    "\n",
    "#The distance from the min and mean and max and mean are very different which suggests there may be outliers."
   ]
  },
  {
   "cell_type": "code",
   "execution_count": 7722,
   "metadata": {},
   "outputs": [
    {
     "data": {
      "image/png": "[encoded data removed]",
      "text/plain": [
       "<Figure size 432x288 with 1 Axes>"
      ]
     },
     "metadata": {
      "needs_background": "light"
     },
     "output_type": "display_data"
    }
   ],
   "source": [
    "#Removing outliers from Gr Liv Area because it is recommended in the data dictionary\n",
    "sns.histplot(train['Gr Liv Area'])\n",
    "plt.title('Gr Liv Area Distribution');"
   ]
  },
  {
   "cell_type": "code",
   "execution_count": 7723,
   "metadata": {},
   "outputs": [],
   "source": [
    "train = train[train['Gr Liv Area'] < 4000]"
   ]
  },
  {
   "cell_type": "code",
   "execution_count": 7724,
   "metadata": {},
   "outputs": [
    {
     "data": {
      "image/png": "[encoded data removed]",
      "text/plain": [
       "<Figure size 432x288 with 1 Axes>"
      ]
     },
     "metadata": {
      "needs_background": "light"
     },
     "output_type": "display_data"
    }
   ],
   "source": [
    "sns.histplot(train['Gr Liv Area'])\n",
    "plt.title('Gr Live Area Distribution (outliers removed)');"
   ]
  },
  {
   "cell_type": "markdown",
   "metadata": {},
   "source": [
    "## Log transformation on SalePrice"
   ]
  },
  {
   "cell_type": "code",
   "execution_count": 7725,
   "metadata": {
    "scrolled": true
   },
   "outputs": [
    {
     "data": {
      "image/png": "[encoded data removed]",
      "text/plain": [
       "<Figure size 432x288 with 1 Axes>"
      ]
     },
     "metadata": {
      "needs_background": "light"
     },
     "output_type": "display_data"
    }
   ],
   "source": [
    "#here the distribution is skewed to the right\n",
    "sns.histplot(train['SalePrice'])\n",
    "plt.title('SalePrice Distribution');"
   ]
  },
  {
   "cell_type": "code",
   "execution_count": 7726,
   "metadata": {},
   "outputs": [
    {
     "data": {
      "text/plain": [
       "1.5584588270423345"
      ]
     },
     "execution_count": 7726,
     "metadata": {},
     "output_type": "execute_result"
    }
   ],
   "source": [
    "train['SalePrice'].skew()"
   ]
  },
  {
   "cell_type": "code",
   "execution_count": 7727,
   "metadata": {},
   "outputs": [
    {
     "data": {
      "text/plain": [
       "Text(0.5, 1.0, 'SalePrice (log transformation)')"
      ]
     },
     "execution_count": 7727,
     "metadata": {},
     "output_type": "execute_result"
    },
    {
     "data": {
      "image/png": "[encoded data removed]",
      "text/plain": [
       "<Figure size 432x288 with 1 Axes>"
      ]
     },
     "metadata": {
      "needs_background": "light"
     },
     "output_type": "display_data"
    }
   ],
   "source": [
    "#After log transformation, there is almost no skew, removing the lone 9.5 may decrease it even more.\n",
    "sns.histplot(np.log(train['SalePrice']))\n",
    "plt.title('SalePrice (log transformation)')"
   ]
  },
  {
   "cell_type": "code",
   "execution_count": 7728,
   "metadata": {},
   "outputs": [
    {
     "data": {
      "text/plain": [
       "-0.14571926138003885"
      ]
     },
     "execution_count": 7728,
     "metadata": {},
     "output_type": "execute_result"
    }
   ],
   "source": [
    "np.log(train['SalePrice']).skew()"
   ]
  },
  {
   "cell_type": "code",
   "execution_count": 7729,
   "metadata": {},
   "outputs": [],
   "source": [
    "log_SalePrice = np.log(train['SalePrice'])"
   ]
  },
  {
   "cell_type": "code",
   "execution_count": 7730,
   "metadata": {},
   "outputs": [],
   "source": [
    "train['log_SalePrice'] = log_SalePrice"
   ]
  },
  {
   "cell_type": "code",
   "execution_count": 7731,
   "metadata": {},
   "outputs": [],
   "source": [
    "#I'm going to remove 2 entries to make the log_SalePrice more normal\n",
    "train = train[train['log_SalePrice'] > 9.5]"
   ]
  },
  {
   "cell_type": "code",
   "execution_count": 7732,
   "metadata": {},
   "outputs": [
    {
     "data": {
      "text/html": [
       "<div>\n",
       "<style scoped>\n",
       "    .dataframe tbody tr th:only-of-type {\n",
       "        vertical-align: middle;\n",
       "    }\n",
       "\n",
       "    .dataframe tbody tr th {\n",
       "        vertical-align: top;\n",
       "    }\n",
       "\n",
       "    .dataframe thead th {\n",
       "        text-align: right;\n",
       "    }\n",
       "</style>\n",
       "<table border=\"1\" class=\"dataframe\">\n",
       "  <thead>\n",
       "    <tr style=\"text-align: right;\">\n",
       "      <th></th>\n",
       "      <th>MS SubClass</th>\n",
       "      <th>MS Zoning</th>\n",
       "      <th>Lot Frontage</th>\n",
       "      <th>Lot Area</th>\n",
       "      <th>Street</th>\n",
       "      <th>Alley</th>\n",
       "      <th>Lot Shape</th>\n",
       "      <th>Land Contour</th>\n",
       "      <th>Utilities</th>\n",
       "      <th>Lot Config</th>\n",
       "      <th>...</th>\n",
       "      <th>Pool Area</th>\n",
       "      <th>Pool QC</th>\n",
       "      <th>Fence</th>\n",
       "      <th>Misc Feature</th>\n",
       "      <th>Misc Val</th>\n",
       "      <th>Mo Sold</th>\n",
       "      <th>Yr Sold</th>\n",
       "      <th>Sale Type</th>\n",
       "      <th>SalePrice</th>\n",
       "      <th>log_SalePrice</th>\n",
       "    </tr>\n",
       "  </thead>\n",
       "  <tbody>\n",
       "    <tr>\n",
       "      <th>0</th>\n",
       "      <td>60</td>\n",
       "      <td>RL</td>\n",
       "      <td>69.0552</td>\n",
       "      <td>13517</td>\n",
       "      <td>Pave</td>\n",
       "      <td>NA</td>\n",
       "      <td>IR1</td>\n",
       "      <td>Lvl</td>\n",
       "      <td>AllPub</td>\n",
       "      <td>CulDSac</td>\n",
       "      <td>...</td>\n",
       "      <td>0</td>\n",
       "      <td>NA</td>\n",
       "      <td>NA</td>\n",
       "      <td>NA</td>\n",
       "      <td>0</td>\n",
       "      <td>3</td>\n",
       "      <td>0</td>\n",
       "      <td>WD</td>\n",
       "      <td>130500</td>\n",
       "      <td>11.779129</td>\n",
       "    </tr>\n",
       "    <tr>\n",
       "      <th>1</th>\n",
       "      <td>60</td>\n",
       "      <td>RL</td>\n",
       "      <td>43.0000</td>\n",
       "      <td>11492</td>\n",
       "      <td>Pave</td>\n",
       "      <td>NA</td>\n",
       "      <td>IR1</td>\n",
       "      <td>Lvl</td>\n",
       "      <td>AllPub</td>\n",
       "      <td>CulDSac</td>\n",
       "      <td>...</td>\n",
       "      <td>0</td>\n",
       "      <td>NA</td>\n",
       "      <td>NA</td>\n",
       "      <td>NA</td>\n",
       "      <td>0</td>\n",
       "      <td>4</td>\n",
       "      <td>1</td>\n",
       "      <td>WD</td>\n",
       "      <td>220000</td>\n",
       "      <td>12.301383</td>\n",
       "    </tr>\n",
       "    <tr>\n",
       "      <th>2</th>\n",
       "      <td>20</td>\n",
       "      <td>RL</td>\n",
       "      <td>68.0000</td>\n",
       "      <td>7922</td>\n",
       "      <td>Pave</td>\n",
       "      <td>NA</td>\n",
       "      <td>Reg</td>\n",
       "      <td>Lvl</td>\n",
       "      <td>AllPub</td>\n",
       "      <td>Inside</td>\n",
       "      <td>...</td>\n",
       "      <td>0</td>\n",
       "      <td>NA</td>\n",
       "      <td>NA</td>\n",
       "      <td>NA</td>\n",
       "      <td>0</td>\n",
       "      <td>1</td>\n",
       "      <td>0</td>\n",
       "      <td>WD</td>\n",
       "      <td>109000</td>\n",
       "      <td>11.599103</td>\n",
       "    </tr>\n",
       "    <tr>\n",
       "      <th>3</th>\n",
       "      <td>60</td>\n",
       "      <td>RL</td>\n",
       "      <td>73.0000</td>\n",
       "      <td>9802</td>\n",
       "      <td>Pave</td>\n",
       "      <td>NA</td>\n",
       "      <td>Reg</td>\n",
       "      <td>Lvl</td>\n",
       "      <td>AllPub</td>\n",
       "      <td>Inside</td>\n",
       "      <td>...</td>\n",
       "      <td>0</td>\n",
       "      <td>NA</td>\n",
       "      <td>NA</td>\n",
       "      <td>NA</td>\n",
       "      <td>0</td>\n",
       "      <td>4</td>\n",
       "      <td>0</td>\n",
       "      <td>WD</td>\n",
       "      <td>174000</td>\n",
       "      <td>12.066811</td>\n",
       "    </tr>\n",
       "    <tr>\n",
       "      <th>4</th>\n",
       "      <td>50</td>\n",
       "      <td>RL</td>\n",
       "      <td>82.0000</td>\n",
       "      <td>14235</td>\n",
       "      <td>Pave</td>\n",
       "      <td>NA</td>\n",
       "      <td>IR1</td>\n",
       "      <td>Lvl</td>\n",
       "      <td>AllPub</td>\n",
       "      <td>Inside</td>\n",
       "      <td>...</td>\n",
       "      <td>0</td>\n",
       "      <td>NA</td>\n",
       "      <td>NA</td>\n",
       "      <td>NA</td>\n",
       "      <td>0</td>\n",
       "      <td>3</td>\n",
       "      <td>0</td>\n",
       "      <td>WD</td>\n",
       "      <td>138500</td>\n",
       "      <td>11.838626</td>\n",
       "    </tr>\n",
       "  </tbody>\n",
       "</table>\n",
       "<p>5 rows × 79 columns</p>\n",
       "</div>"
      ],
      "text/plain": [
       "  MS SubClass MS Zoning  Lot Frontage  Lot Area Street Alley Lot Shape  \\\n",
       "0          60        RL       69.0552     13517   Pave    NA       IR1   \n",
       "1          60        RL       43.0000     11492   Pave    NA       IR1   \n",
       "2          20        RL       68.0000      7922   Pave    NA       Reg   \n",
       "3          60        RL       73.0000      9802   Pave    NA       Reg   \n",
       "4          50        RL       82.0000     14235   Pave    NA       IR1   \n",
       "\n",
       "  Land Contour Utilities Lot Config  ... Pool Area Pool QC Fence Misc Feature  \\\n",
       "0          Lvl    AllPub    CulDSac  ...         0      NA    NA           NA   \n",
       "1          Lvl    AllPub    CulDSac  ...         0      NA    NA           NA   \n",
       "2          Lvl    AllPub     Inside  ...         0      NA    NA           NA   \n",
       "3          Lvl    AllPub     Inside  ...         0      NA    NA           NA   \n",
       "4          Lvl    AllPub     Inside  ...         0      NA    NA           NA   \n",
       "\n",
       "  Misc Val Mo Sold  Yr Sold  Sale Type  SalePrice  log_SalePrice  \n",
       "0        0       3        0        WD      130500      11.779129  \n",
       "1        0       4        1        WD      220000      12.301383  \n",
       "2        0       1        0        WD      109000      11.599103  \n",
       "3        0       4        0        WD      174000      12.066811  \n",
       "4        0       3        0        WD      138500      11.838626  \n",
       "\n",
       "[5 rows x 79 columns]"
      ]
     },
     "execution_count": 7732,
     "metadata": {},
     "output_type": "execute_result"
    }
   ],
   "source": [
    "train.head()"
   ]
  },
  {
   "cell_type": "markdown",
   "metadata": {},
   "source": [
    "Now that all the features have been cleaned, it will be easier to create a model that may more accurately predict home prices."
   ]
  },
  {
   "cell_type": "markdown",
   "metadata": {},
   "source": [
    "## NA Final Check"
   ]
  },
  {
   "cell_type": "code",
   "execution_count": 7733,
   "metadata": {},
   "outputs": [
    {
     "data": {
      "text/plain": [
       "[]"
      ]
     },
     "execution_count": 7733,
     "metadata": {},
     "output_type": "execute_result"
    }
   ],
   "source": [
    "#train\n",
    "NA_columns = []\n",
    "for column in train.columns:\n",
    "    if train[column].isnull().sum() > 0:\n",
    "        NA_columns.append(column)\n",
    "NA_columns"
   ]
  },
  {
   "cell_type": "code",
   "execution_count": 7734,
   "metadata": {},
   "outputs": [
    {
     "data": {
      "text/plain": [
       "[]"
      ]
     },
     "execution_count": 7734,
     "metadata": {},
     "output_type": "execute_result"
    }
   ],
   "source": [
    "#test\n",
    "NA_columns = []\n",
    "for column in test.columns:\n",
    "    if test[column].isnull().sum() > 0:\n",
    "        NA_columns.append(column)\n",
    "NA_columns"
   ]
  },
  {
   "cell_type": "markdown",
   "metadata": {},
   "source": [
    "## to_csv"
   ]
  },
  {
   "cell_type": "code",
   "execution_count": 7735,
   "metadata": {},
   "outputs": [],
   "source": [
    "train.to_csv('train_cleaned.csv')"
   ]
  },
  {
   "cell_type": "code",
   "execution_count": 7736,
   "metadata": {},
   "outputs": [],
   "source": [
    "test.to_csv('test_cleaned.csv')"
   ]
  },
  {
   "cell_type": "markdown",
   "metadata": {},
   "source": [
    "## working dataframes"
   ]
  },
  {
   "cell_type": "code",
   "execution_count": 7737,
   "metadata": {},
   "outputs": [],
   "source": [
    "train_clean = train.copy()"
   ]
  },
  {
   "cell_type": "markdown",
   "metadata": {},
   "source": [
    "## Numerical Columns Only"
   ]
  },
  {
   "cell_type": "code",
   "execution_count": 7738,
   "metadata": {},
   "outputs": [],
   "source": [
    "numeric_variables = train_clean.select_dtypes(exclude = 'object')"
   ]
  },
  {
   "cell_type": "markdown",
   "metadata": {},
   "source": [
    "## Categorical Columns Only"
   ]
  },
  {
   "cell_type": "code",
   "execution_count": 7739,
   "metadata": {},
   "outputs": [],
   "source": [
    "categorical_variables = train_clean.select_dtypes(include = 'object')"
   ]
  },
  {
   "cell_type": "code",
   "execution_count": 7740,
   "metadata": {},
   "outputs": [
    {
     "data": {
      "text/html": [
       "<div>\n",
       "<style scoped>\n",
       "    .dataframe tbody tr th:only-of-type {\n",
       "        vertical-align: middle;\n",
       "    }\n",
       "\n",
       "    .dataframe tbody tr th {\n",
       "        vertical-align: top;\n",
       "    }\n",
       "\n",
       "    .dataframe thead th {\n",
       "        text-align: right;\n",
       "    }\n",
       "</style>\n",
       "<table border=\"1\" class=\"dataframe\">\n",
       "  <thead>\n",
       "    <tr style=\"text-align: right;\">\n",
       "      <th></th>\n",
       "      <th>MS SubClass</th>\n",
       "      <th>MS Zoning</th>\n",
       "      <th>Street</th>\n",
       "      <th>Alley</th>\n",
       "      <th>Lot Shape</th>\n",
       "      <th>Land Contour</th>\n",
       "      <th>Utilities</th>\n",
       "      <th>Lot Config</th>\n",
       "      <th>Land Slope</th>\n",
       "      <th>Neighborhood</th>\n",
       "      <th>...</th>\n",
       "      <th>Fireplace Qu</th>\n",
       "      <th>Garage Type</th>\n",
       "      <th>Garage Finish</th>\n",
       "      <th>Garage Qual</th>\n",
       "      <th>Garage Cond</th>\n",
       "      <th>Paved Drive</th>\n",
       "      <th>Pool QC</th>\n",
       "      <th>Fence</th>\n",
       "      <th>Misc Feature</th>\n",
       "      <th>Sale Type</th>\n",
       "    </tr>\n",
       "  </thead>\n",
       "  <tbody>\n",
       "    <tr>\n",
       "      <th>0</th>\n",
       "      <td>60</td>\n",
       "      <td>RL</td>\n",
       "      <td>Pave</td>\n",
       "      <td>NA</td>\n",
       "      <td>IR1</td>\n",
       "      <td>Lvl</td>\n",
       "      <td>AllPub</td>\n",
       "      <td>CulDSac</td>\n",
       "      <td>Gtl</td>\n",
       "      <td>Sawyer</td>\n",
       "      <td>...</td>\n",
       "      <td>NA</td>\n",
       "      <td>Attchd</td>\n",
       "      <td>RFn</td>\n",
       "      <td>TA</td>\n",
       "      <td>TA</td>\n",
       "      <td>Y</td>\n",
       "      <td>NA</td>\n",
       "      <td>NA</td>\n",
       "      <td>NA</td>\n",
       "      <td>WD</td>\n",
       "    </tr>\n",
       "    <tr>\n",
       "      <th>1</th>\n",
       "      <td>60</td>\n",
       "      <td>RL</td>\n",
       "      <td>Pave</td>\n",
       "      <td>NA</td>\n",
       "      <td>IR1</td>\n",
       "      <td>Lvl</td>\n",
       "      <td>AllPub</td>\n",
       "      <td>CulDSac</td>\n",
       "      <td>Gtl</td>\n",
       "      <td>SawyerW</td>\n",
       "      <td>...</td>\n",
       "      <td>TA</td>\n",
       "      <td>Attchd</td>\n",
       "      <td>RFn</td>\n",
       "      <td>TA</td>\n",
       "      <td>TA</td>\n",
       "      <td>Y</td>\n",
       "      <td>NA</td>\n",
       "      <td>NA</td>\n",
       "      <td>NA</td>\n",
       "      <td>WD</td>\n",
       "    </tr>\n",
       "    <tr>\n",
       "      <th>2</th>\n",
       "      <td>20</td>\n",
       "      <td>RL</td>\n",
       "      <td>Pave</td>\n",
       "      <td>NA</td>\n",
       "      <td>Reg</td>\n",
       "      <td>Lvl</td>\n",
       "      <td>AllPub</td>\n",
       "      <td>Inside</td>\n",
       "      <td>Gtl</td>\n",
       "      <td>NAmes</td>\n",
       "      <td>...</td>\n",
       "      <td>NA</td>\n",
       "      <td>Detchd</td>\n",
       "      <td>Unf</td>\n",
       "      <td>TA</td>\n",
       "      <td>TA</td>\n",
       "      <td>Y</td>\n",
       "      <td>NA</td>\n",
       "      <td>NA</td>\n",
       "      <td>NA</td>\n",
       "      <td>WD</td>\n",
       "    </tr>\n",
       "    <tr>\n",
       "      <th>3</th>\n",
       "      <td>60</td>\n",
       "      <td>RL</td>\n",
       "      <td>Pave</td>\n",
       "      <td>NA</td>\n",
       "      <td>Reg</td>\n",
       "      <td>Lvl</td>\n",
       "      <td>AllPub</td>\n",
       "      <td>Inside</td>\n",
       "      <td>Gtl</td>\n",
       "      <td>Timber</td>\n",
       "      <td>...</td>\n",
       "      <td>NA</td>\n",
       "      <td>BuiltIn</td>\n",
       "      <td>Fin</td>\n",
       "      <td>TA</td>\n",
       "      <td>TA</td>\n",
       "      <td>Y</td>\n",
       "      <td>NA</td>\n",
       "      <td>NA</td>\n",
       "      <td>NA</td>\n",
       "      <td>WD</td>\n",
       "    </tr>\n",
       "    <tr>\n",
       "      <th>4</th>\n",
       "      <td>50</td>\n",
       "      <td>RL</td>\n",
       "      <td>Pave</td>\n",
       "      <td>NA</td>\n",
       "      <td>IR1</td>\n",
       "      <td>Lvl</td>\n",
       "      <td>AllPub</td>\n",
       "      <td>Inside</td>\n",
       "      <td>Gtl</td>\n",
       "      <td>SawyerW</td>\n",
       "      <td>...</td>\n",
       "      <td>NA</td>\n",
       "      <td>Detchd</td>\n",
       "      <td>Unf</td>\n",
       "      <td>TA</td>\n",
       "      <td>TA</td>\n",
       "      <td>N</td>\n",
       "      <td>NA</td>\n",
       "      <td>NA</td>\n",
       "      <td>NA</td>\n",
       "      <td>WD</td>\n",
       "    </tr>\n",
       "  </tbody>\n",
       "</table>\n",
       "<p>5 rows × 43 columns</p>\n",
       "</div>"
      ],
      "text/plain": [
       "  MS SubClass MS Zoning Street Alley Lot Shape Land Contour Utilities  \\\n",
       "0          60        RL   Pave    NA       IR1          Lvl    AllPub   \n",
       "1          60        RL   Pave    NA       IR1          Lvl    AllPub   \n",
       "2          20        RL   Pave    NA       Reg          Lvl    AllPub   \n",
       "3          60        RL   Pave    NA       Reg          Lvl    AllPub   \n",
       "4          50        RL   Pave    NA       IR1          Lvl    AllPub   \n",
       "\n",
       "  Lot Config Land Slope Neighborhood  ... Fireplace Qu Garage Type  \\\n",
       "0    CulDSac        Gtl       Sawyer  ...           NA      Attchd   \n",
       "1    CulDSac        Gtl      SawyerW  ...           TA      Attchd   \n",
       "2     Inside        Gtl        NAmes  ...           NA      Detchd   \n",
       "3     Inside        Gtl       Timber  ...           NA     BuiltIn   \n",
       "4     Inside        Gtl      SawyerW  ...           NA      Detchd   \n",
       "\n",
       "  Garage Finish Garage Qual Garage Cond Paved Drive Pool QC Fence  \\\n",
       "0           RFn          TA          TA           Y      NA    NA   \n",
       "1           RFn          TA          TA           Y      NA    NA   \n",
       "2           Unf          TA          TA           Y      NA    NA   \n",
       "3           Fin          TA          TA           Y      NA    NA   \n",
       "4           Unf          TA          TA           N      NA    NA   \n",
       "\n",
       "  Misc Feature Sale Type  \n",
       "0           NA       WD   \n",
       "1           NA       WD   \n",
       "2           NA       WD   \n",
       "3           NA       WD   \n",
       "4           NA       WD   \n",
       "\n",
       "[5 rows x 43 columns]"
      ]
     },
     "execution_count": 7740,
     "metadata": {},
     "output_type": "execute_result"
    }
   ],
   "source": [
    "categorical_variabels.head()"
   ]
  },
  {
   "cell_type": "markdown",
   "metadata": {},
   "source": [
    "## Line Assumptions"
   ]
  },
  {
   "cell_type": "markdown",
   "metadata": {},
   "source": [
    "### Linearity"
   ]
  },
  {
   "cell_type": "markdown",
   "metadata": {},
   "source": [
    "I've chosen to keep all variables that have an absolute value correlation with the target variable of greater than 0.2"
   ]
  },
  {
   "cell_type": "code",
   "execution_count": 7741,
   "metadata": {
    "scrolled": true
   },
   "outputs": [],
   "source": [
    "corr_table = numeric_variables.corr()[['SalePrice']]"
   ]
  },
  {
   "cell_type": "code",
   "execution_count": 7742,
   "metadata": {
    "scrolled": true
   },
   "outputs": [
    {
     "data": {
      "text/html": [
       "<div>\n",
       "<style scoped>\n",
       "    .dataframe tbody tr th:only-of-type {\n",
       "        vertical-align: middle;\n",
       "    }\n",
       "\n",
       "    .dataframe tbody tr th {\n",
       "        vertical-align: top;\n",
       "    }\n",
       "\n",
       "    .dataframe thead th {\n",
       "        text-align: right;\n",
       "    }\n",
       "</style>\n",
       "<table border=\"1\" class=\"dataframe\">\n",
       "  <thead>\n",
       "    <tr style=\"text-align: right;\">\n",
       "      <th></th>\n",
       "      <th>SalePrice</th>\n",
       "    </tr>\n",
       "  </thead>\n",
       "  <tbody>\n",
       "    <tr>\n",
       "      <th>Lot Frontage</th>\n",
       "      <td>0.340421</td>\n",
       "    </tr>\n",
       "    <tr>\n",
       "      <th>Lot Area</th>\n",
       "      <td>0.305343</td>\n",
       "    </tr>\n",
       "    <tr>\n",
       "      <th>Overall Qual</th>\n",
       "      <td>0.802548</td>\n",
       "    </tr>\n",
       "    <tr>\n",
       "      <th>Overall Cond</th>\n",
       "      <td>-0.101227</td>\n",
       "    </tr>\n",
       "    <tr>\n",
       "      <th>property_age</th>\n",
       "      <td>-0.571479</td>\n",
       "    </tr>\n",
       "    <tr>\n",
       "      <th>Year Remod/Add</th>\n",
       "      <td>-0.549916</td>\n",
       "    </tr>\n",
       "    <tr>\n",
       "      <th>Mas Vnr Area</th>\n",
       "      <td>0.516553</td>\n",
       "    </tr>\n",
       "    <tr>\n",
       "      <th>BsmtFin SF 1</th>\n",
       "      <td>0.445199</td>\n",
       "    </tr>\n",
       "    <tr>\n",
       "      <th>BsmtFin SF 2</th>\n",
       "      <td>0.015989</td>\n",
       "    </tr>\n",
       "    <tr>\n",
       "      <th>Bsmt Unf SF</th>\n",
       "      <td>0.189206</td>\n",
       "    </tr>\n",
       "    <tr>\n",
       "      <th>Total Bsmt SF</th>\n",
       "      <td>0.663436</td>\n",
       "    </tr>\n",
       "    <tr>\n",
       "      <th>1st Flr SF</th>\n",
       "      <td>0.647733</td>\n",
       "    </tr>\n",
       "    <tr>\n",
       "      <th>2nd Flr SF</th>\n",
       "      <td>0.248356</td>\n",
       "    </tr>\n",
       "    <tr>\n",
       "      <th>Low Qual Fin SF</th>\n",
       "      <td>-0.041880</td>\n",
       "    </tr>\n",
       "    <tr>\n",
       "      <th>Gr Liv Area</th>\n",
       "      <td>0.718897</td>\n",
       "    </tr>\n",
       "    <tr>\n",
       "      <th>Bsmt Full Bath</th>\n",
       "      <td>0.282765</td>\n",
       "    </tr>\n",
       "    <tr>\n",
       "      <th>Bsmt Half Bath</th>\n",
       "      <td>-0.047799</td>\n",
       "    </tr>\n",
       "    <tr>\n",
       "      <th>Full Bath</th>\n",
       "      <td>0.537345</td>\n",
       "    </tr>\n",
       "    <tr>\n",
       "      <th>Half Bath</th>\n",
       "      <td>0.283046</td>\n",
       "    </tr>\n",
       "    <tr>\n",
       "      <th>Bedroom AbvGr</th>\n",
       "      <td>0.136007</td>\n",
       "    </tr>\n",
       "    <tr>\n",
       "      <th>Kitchen AbvGr</th>\n",
       "      <td>-0.126108</td>\n",
       "    </tr>\n",
       "    <tr>\n",
       "      <th>TotRms AbvGrd</th>\n",
       "      <td>0.509022</td>\n",
       "    </tr>\n",
       "    <tr>\n",
       "      <th>Fireplaces</th>\n",
       "      <td>0.474533</td>\n",
       "    </tr>\n",
       "    <tr>\n",
       "      <th>Garage Cars</th>\n",
       "      <td>0.497297</td>\n",
       "    </tr>\n",
       "    <tr>\n",
       "      <th>Garage Area</th>\n",
       "      <td>0.658921</td>\n",
       "    </tr>\n",
       "    <tr>\n",
       "      <th>Wood Deck SF</th>\n",
       "      <td>0.326863</td>\n",
       "    </tr>\n",
       "    <tr>\n",
       "      <th>Open Porch SF</th>\n",
       "      <td>0.338406</td>\n",
       "    </tr>\n",
       "    <tr>\n",
       "      <th>Enclosed Porch</th>\n",
       "      <td>-0.136653</td>\n",
       "    </tr>\n",
       "    <tr>\n",
       "      <th>3Ssn Porch</th>\n",
       "      <td>0.048684</td>\n",
       "    </tr>\n",
       "    <tr>\n",
       "      <th>Screen Porch</th>\n",
       "      <td>0.134453</td>\n",
       "    </tr>\n",
       "    <tr>\n",
       "      <th>Pool Area</th>\n",
       "      <td>0.025777</td>\n",
       "    </tr>\n",
       "    <tr>\n",
       "      <th>Misc Val</th>\n",
       "      <td>-0.010504</td>\n",
       "    </tr>\n",
       "    <tr>\n",
       "      <th>Mo Sold</th>\n",
       "      <td>0.030394</td>\n",
       "    </tr>\n",
       "    <tr>\n",
       "      <th>Yr Sold</th>\n",
       "      <td>0.012966</td>\n",
       "    </tr>\n",
       "    <tr>\n",
       "      <th>SalePrice</th>\n",
       "      <td>1.000000</td>\n",
       "    </tr>\n",
       "    <tr>\n",
       "      <th>log_SalePrice</th>\n",
       "      <td>0.953437</td>\n",
       "    </tr>\n",
       "  </tbody>\n",
       "</table>\n",
       "</div>"
      ],
      "text/plain": [
       "                 SalePrice\n",
       "Lot Frontage      0.340421\n",
       "Lot Area          0.305343\n",
       "Overall Qual      0.802548\n",
       "Overall Cond     -0.101227\n",
       "property_age     -0.571479\n",
       "Year Remod/Add   -0.549916\n",
       "Mas Vnr Area      0.516553\n",
       "BsmtFin SF 1      0.445199\n",
       "BsmtFin SF 2      0.015989\n",
       "Bsmt Unf SF       0.189206\n",
       "Total Bsmt SF     0.663436\n",
       "1st Flr SF        0.647733\n",
       "2nd Flr SF        0.248356\n",
       "Low Qual Fin SF  -0.041880\n",
       "Gr Liv Area       0.718897\n",
       "Bsmt Full Bath    0.282765\n",
       "Bsmt Half Bath   -0.047799\n",
       "Full Bath         0.537345\n",
       "Half Bath         0.283046\n",
       "Bedroom AbvGr     0.136007\n",
       "Kitchen AbvGr    -0.126108\n",
       "TotRms AbvGrd     0.509022\n",
       "Fireplaces        0.474533\n",
       "Garage Cars       0.497297\n",
       "Garage Area       0.658921\n",
       "Wood Deck SF      0.326863\n",
       "Open Porch SF     0.338406\n",
       "Enclosed Porch   -0.136653\n",
       "3Ssn Porch        0.048684\n",
       "Screen Porch      0.134453\n",
       "Pool Area         0.025777\n",
       "Misc Val         -0.010504\n",
       "Mo Sold           0.030394\n",
       "Yr Sold           0.012966\n",
       "SalePrice         1.000000\n",
       "log_SalePrice     0.953437"
      ]
     },
     "execution_count": 7742,
     "metadata": {},
     "output_type": "execute_result"
    }
   ],
   "source": [
    "corr_table"
   ]
  },
  {
   "cell_type": "code",
   "execution_count": 7743,
   "metadata": {},
   "outputs": [],
   "source": [
    "linear_features = corr_table[corr_table['SalePrice'].abs() > 0.2].index"
   ]
  },
  {
   "cell_type": "code",
   "execution_count": 7744,
   "metadata": {},
   "outputs": [],
   "source": [
    "numeric_variables = numeric_variables[linear_features]"
   ]
  },
  {
   "cell_type": "code",
   "execution_count": 7745,
   "metadata": {},
   "outputs": [
    {
     "data": {
      "text/html": [
       "<div>\n",
       "<style scoped>\n",
       "    .dataframe tbody tr th:only-of-type {\n",
       "        vertical-align: middle;\n",
       "    }\n",
       "\n",
       "    .dataframe tbody tr th {\n",
       "        vertical-align: top;\n",
       "    }\n",
       "\n",
       "    .dataframe thead th {\n",
       "        text-align: right;\n",
       "    }\n",
       "</style>\n",
       "<table border=\"1\" class=\"dataframe\">\n",
       "  <thead>\n",
       "    <tr style=\"text-align: right;\">\n",
       "      <th></th>\n",
       "      <th>Lot Frontage</th>\n",
       "      <th>Lot Area</th>\n",
       "      <th>Overall Qual</th>\n",
       "      <th>property_age</th>\n",
       "      <th>Year Remod/Add</th>\n",
       "      <th>Mas Vnr Area</th>\n",
       "      <th>BsmtFin SF 1</th>\n",
       "      <th>Total Bsmt SF</th>\n",
       "      <th>1st Flr SF</th>\n",
       "      <th>2nd Flr SF</th>\n",
       "      <th>...</th>\n",
       "      <th>Full Bath</th>\n",
       "      <th>Half Bath</th>\n",
       "      <th>TotRms AbvGrd</th>\n",
       "      <th>Fireplaces</th>\n",
       "      <th>Garage Cars</th>\n",
       "      <th>Garage Area</th>\n",
       "      <th>Wood Deck SF</th>\n",
       "      <th>Open Porch SF</th>\n",
       "      <th>SalePrice</th>\n",
       "      <th>log_SalePrice</th>\n",
       "    </tr>\n",
       "  </thead>\n",
       "  <tbody>\n",
       "    <tr>\n",
       "      <th>0</th>\n",
       "      <td>69.0552</td>\n",
       "      <td>13517</td>\n",
       "      <td>6</td>\n",
       "      <td>34</td>\n",
       "      <td>5</td>\n",
       "      <td>289.0</td>\n",
       "      <td>533.0</td>\n",
       "      <td>725.0</td>\n",
       "      <td>725</td>\n",
       "      <td>754</td>\n",
       "      <td>...</td>\n",
       "      <td>2</td>\n",
       "      <td>1</td>\n",
       "      <td>6</td>\n",
       "      <td>0</td>\n",
       "      <td>1.0</td>\n",
       "      <td>475.0</td>\n",
       "      <td>0</td>\n",
       "      <td>44</td>\n",
       "      <td>130500</td>\n",
       "      <td>11.779129</td>\n",
       "    </tr>\n",
       "    <tr>\n",
       "      <th>1</th>\n",
       "      <td>43.0000</td>\n",
       "      <td>11492</td>\n",
       "      <td>7</td>\n",
       "      <td>14</td>\n",
       "      <td>13</td>\n",
       "      <td>132.0</td>\n",
       "      <td>637.0</td>\n",
       "      <td>913.0</td>\n",
       "      <td>913</td>\n",
       "      <td>1209</td>\n",
       "      <td>...</td>\n",
       "      <td>2</td>\n",
       "      <td>1</td>\n",
       "      <td>8</td>\n",
       "      <td>1</td>\n",
       "      <td>1.0</td>\n",
       "      <td>559.0</td>\n",
       "      <td>0</td>\n",
       "      <td>74</td>\n",
       "      <td>220000</td>\n",
       "      <td>12.301383</td>\n",
       "    </tr>\n",
       "    <tr>\n",
       "      <th>2</th>\n",
       "      <td>68.0000</td>\n",
       "      <td>7922</td>\n",
       "      <td>5</td>\n",
       "      <td>57</td>\n",
       "      <td>3</td>\n",
       "      <td>0.0</td>\n",
       "      <td>731.0</td>\n",
       "      <td>1057.0</td>\n",
       "      <td>1057</td>\n",
       "      <td>0</td>\n",
       "      <td>...</td>\n",
       "      <td>1</td>\n",
       "      <td>0</td>\n",
       "      <td>5</td>\n",
       "      <td>0</td>\n",
       "      <td>0.0</td>\n",
       "      <td>246.0</td>\n",
       "      <td>0</td>\n",
       "      <td>52</td>\n",
       "      <td>109000</td>\n",
       "      <td>11.599103</td>\n",
       "    </tr>\n",
       "    <tr>\n",
       "      <th>3</th>\n",
       "      <td>73.0000</td>\n",
       "      <td>9802</td>\n",
       "      <td>5</td>\n",
       "      <td>4</td>\n",
       "      <td>3</td>\n",
       "      <td>0.0</td>\n",
       "      <td>0.0</td>\n",
       "      <td>384.0</td>\n",
       "      <td>744</td>\n",
       "      <td>700</td>\n",
       "      <td>...</td>\n",
       "      <td>2</td>\n",
       "      <td>1</td>\n",
       "      <td>7</td>\n",
       "      <td>0</td>\n",
       "      <td>1.0</td>\n",
       "      <td>400.0</td>\n",
       "      <td>100</td>\n",
       "      <td>0</td>\n",
       "      <td>174000</td>\n",
       "      <td>12.066811</td>\n",
       "    </tr>\n",
       "    <tr>\n",
       "      <th>4</th>\n",
       "      <td>82.0000</td>\n",
       "      <td>14235</td>\n",
       "      <td>6</td>\n",
       "      <td>110</td>\n",
       "      <td>17</td>\n",
       "      <td>0.0</td>\n",
       "      <td>0.0</td>\n",
       "      <td>676.0</td>\n",
       "      <td>831</td>\n",
       "      <td>614</td>\n",
       "      <td>...</td>\n",
       "      <td>2</td>\n",
       "      <td>0</td>\n",
       "      <td>6</td>\n",
       "      <td>0</td>\n",
       "      <td>1.0</td>\n",
       "      <td>484.0</td>\n",
       "      <td>0</td>\n",
       "      <td>59</td>\n",
       "      <td>138500</td>\n",
       "      <td>11.838626</td>\n",
       "    </tr>\n",
       "  </tbody>\n",
       "</table>\n",
       "<p>5 rows × 22 columns</p>\n",
       "</div>"
      ],
      "text/plain": [
       "   Lot Frontage  Lot Area  Overall Qual  property_age  Year Remod/Add  \\\n",
       "0       69.0552     13517             6            34               5   \n",
       "1       43.0000     11492             7            14              13   \n",
       "2       68.0000      7922             5            57               3   \n",
       "3       73.0000      9802             5             4               3   \n",
       "4       82.0000     14235             6           110              17   \n",
       "\n",
       "   Mas Vnr Area  BsmtFin SF 1  Total Bsmt SF  1st Flr SF  2nd Flr SF  ...  \\\n",
       "0         289.0         533.0          725.0         725         754  ...   \n",
       "1         132.0         637.0          913.0         913        1209  ...   \n",
       "2           0.0         731.0         1057.0        1057           0  ...   \n",
       "3           0.0           0.0          384.0         744         700  ...   \n",
       "4           0.0           0.0          676.0         831         614  ...   \n",
       "\n",
       "   Full Bath  Half Bath  TotRms AbvGrd  Fireplaces  Garage Cars  Garage Area  \\\n",
       "0          2          1              6           0          1.0        475.0   \n",
       "1          2          1              8           1          1.0        559.0   \n",
       "2          1          0              5           0          0.0        246.0   \n",
       "3          2          1              7           0          1.0        400.0   \n",
       "4          2          0              6           0          1.0        484.0   \n",
       "\n",
       "   Wood Deck SF  Open Porch SF  SalePrice  log_SalePrice  \n",
       "0             0             44     130500      11.779129  \n",
       "1             0             74     220000      12.301383  \n",
       "2             0             52     109000      11.599103  \n",
       "3           100              0     174000      12.066811  \n",
       "4             0             59     138500      11.838626  \n",
       "\n",
       "[5 rows x 22 columns]"
      ]
     },
     "execution_count": 7745,
     "metadata": {},
     "output_type": "execute_result"
    }
   ],
   "source": [
    "numeric_variables.head()"
   ]
  },
  {
   "cell_type": "markdown",
   "metadata": {},
   "source": [
    "Based on everything I have done so far, I believe I will be able to create a model that will assist home owners and home sellers in the valuation of their properties."
   ]
  },
  {
   "cell_type": "markdown",
   "metadata": {},
   "source": [
    "## Independence"
   ]
  },
  {
   "cell_type": "markdown",
   "metadata": {},
   "source": [
    "The samples are independent."
   ]
  },
  {
   "cell_type": "markdown",
   "metadata": {},
   "source": [
    "## Creating variable for Linear Regression"
   ]
  },
  {
   "cell_type": "code",
   "execution_count": 7746,
   "metadata": {},
   "outputs": [],
   "source": [
    "lr = LinearRegression()"
   ]
  },
  {
   "cell_type": "markdown",
   "metadata": {},
   "source": [
    "## Multicollinearity"
   ]
  },
  {
   "cell_type": "code",
   "execution_count": 7747,
   "metadata": {},
   "outputs": [],
   "source": [
    "#I will be checking for multicollinearity using variance inflation factor from stats\n",
    "X = numeric_variables.iloc[ : , 0 : -2]"
   ]
  },
  {
   "cell_type": "code",
   "execution_count": 7748,
   "metadata": {},
   "outputs": [],
   "source": [
    "#using the log of SalePrice column because it gets better r2s \n",
    "\n",
    "y = numeric_variables['log_SalePrice']"
   ]
  },
  {
   "cell_type": "code",
   "execution_count": 7749,
   "metadata": {},
   "outputs": [],
   "source": [
    "#code sourced from: https://www.geeksforgeeks.org/detecting-multicollinearity-with-vif-python/\n",
    "vif_data = [variance_inflation_factor(X.values, i) \n",
    "                          for i in range(len(X.columns))] "
   ]
  },
  {
   "cell_type": "code",
   "execution_count": 7750,
   "metadata": {},
   "outputs": [],
   "source": [
    "vif_data = pd.DataFrame(vif_data, index = X.columns)"
   ]
  },
  {
   "cell_type": "code",
   "execution_count": 7751,
   "metadata": {},
   "outputs": [],
   "source": [
    "vif_data = vif_data.sort_values(0, ascending = False)"
   ]
  },
  {
   "cell_type": "code",
   "execution_count": 7752,
   "metadata": {
    "scrolled": true
   },
   "outputs": [
    {
     "data": {
      "text/html": [
       "<div>\n",
       "<style scoped>\n",
       "    .dataframe tbody tr th:only-of-type {\n",
       "        vertical-align: middle;\n",
       "    }\n",
       "\n",
       "    .dataframe tbody tr th {\n",
       "        vertical-align: top;\n",
       "    }\n",
       "\n",
       "    .dataframe thead th {\n",
       "        text-align: right;\n",
       "    }\n",
       "</style>\n",
       "<table border=\"1\" class=\"dataframe\">\n",
       "  <thead>\n",
       "    <tr style=\"text-align: right;\">\n",
       "      <th></th>\n",
       "      <th>0</th>\n",
       "    </tr>\n",
       "  </thead>\n",
       "  <tbody>\n",
       "    <tr>\n",
       "      <th>Gr Liv Area</th>\n",
       "      <td>1004.964450</td>\n",
       "    </tr>\n",
       "    <tr>\n",
       "      <th>1st Flr SF</th>\n",
       "      <td>634.739239</td>\n",
       "    </tr>\n",
       "    <tr>\n",
       "      <th>2nd Flr SF</th>\n",
       "      <td>119.879095</td>\n",
       "    </tr>\n",
       "    <tr>\n",
       "      <th>TotRms AbvGrd</th>\n",
       "      <td>54.223319</td>\n",
       "    </tr>\n",
       "    <tr>\n",
       "      <th>Overall Qual</th>\n",
       "      <td>32.536891</td>\n",
       "    </tr>\n",
       "    <tr>\n",
       "      <th>Total Bsmt SF</th>\n",
       "      <td>24.124233</td>\n",
       "    </tr>\n",
       "    <tr>\n",
       "      <th>Full Bath</th>\n",
       "      <td>21.973713</td>\n",
       "    </tr>\n",
       "    <tr>\n",
       "      <th>Garage Area</th>\n",
       "      <td>16.713953</td>\n",
       "    </tr>\n",
       "    <tr>\n",
       "      <th>Lot Frontage</th>\n",
       "      <td>16.032595</td>\n",
       "    </tr>\n",
       "    <tr>\n",
       "      <th>Garage Cars</th>\n",
       "      <td>8.320600</td>\n",
       "    </tr>\n",
       "    <tr>\n",
       "      <th>property_age</th>\n",
       "      <td>5.818750</td>\n",
       "    </tr>\n",
       "    <tr>\n",
       "      <th>Year Remod/Add</th>\n",
       "      <td>4.431236</td>\n",
       "    </tr>\n",
       "    <tr>\n",
       "      <th>BsmtFin SF 1</th>\n",
       "      <td>4.384576</td>\n",
       "    </tr>\n",
       "    <tr>\n",
       "      <th>Lot Area</th>\n",
       "      <td>4.330339</td>\n",
       "    </tr>\n",
       "    <tr>\n",
       "      <th>Half Bath</th>\n",
       "      <td>3.151569</td>\n",
       "    </tr>\n",
       "    <tr>\n",
       "      <th>Bsmt Full Bath</th>\n",
       "      <td>3.048310</td>\n",
       "    </tr>\n",
       "    <tr>\n",
       "      <th>Fireplaces</th>\n",
       "      <td>2.650549</td>\n",
       "    </tr>\n",
       "    <tr>\n",
       "      <th>Mas Vnr Area</th>\n",
       "      <td>1.809918</td>\n",
       "    </tr>\n",
       "    <tr>\n",
       "      <th>Open Porch SF</th>\n",
       "      <td>1.797638</td>\n",
       "    </tr>\n",
       "    <tr>\n",
       "      <th>Wood Deck SF</th>\n",
       "      <td>1.783488</td>\n",
       "    </tr>\n",
       "  </tbody>\n",
       "</table>\n",
       "</div>"
      ],
      "text/plain": [
       "                          0\n",
       "Gr Liv Area     1004.964450\n",
       "1st Flr SF       634.739239\n",
       "2nd Flr SF       119.879095\n",
       "TotRms AbvGrd     54.223319\n",
       "Overall Qual      32.536891\n",
       "Total Bsmt SF     24.124233\n",
       "Full Bath         21.973713\n",
       "Garage Area       16.713953\n",
       "Lot Frontage      16.032595\n",
       "Garage Cars        8.320600\n",
       "property_age       5.818750\n",
       "Year Remod/Add     4.431236\n",
       "BsmtFin SF 1       4.384576\n",
       "Lot Area           4.330339\n",
       "Half Bath          3.151569\n",
       "Bsmt Full Bath     3.048310\n",
       "Fireplaces         2.650549\n",
       "Mas Vnr Area       1.809918\n",
       "Open Porch SF      1.797638\n",
       "Wood Deck SF       1.783488"
      ]
     },
     "execution_count": 7752,
     "metadata": {},
     "output_type": "execute_result"
    }
   ],
   "source": [
    "vif_data"
   ]
  },
  {
   "cell_type": "code",
   "execution_count": 7753,
   "metadata": {},
   "outputs": [],
   "source": [
    "#This is going to drop features with the highest VIF until there are only 10 features left\n",
    "#The neg_mean_absolute_error and r2 score will be stored as the keys in dictionaries with the features\n",
    "#that led to the score as the value.\n",
    "\n",
    "models_r2 = {}\n",
    "models_nmse = {}\n",
    "\n",
    "while len(vif_data) > 10:\n",
    "    vif_data = [variance_inflation_factor(X.values, i) for i in range(len(X.columns))]\n",
    "    vif_data = pd.DataFrame(vif_data, index = X.columns)\n",
    "    score = cross_val_score(lr, X, y, cv = 20).mean()\n",
    "    models_r2[score] = vif_data.index\n",
    "    score = cross_val_score(lr, X, y, scoring = 'neg_mean_absolute_error', cv = 20).mean()\n",
    "    models_nmse[score] = vif_data.index\n",
    "    vif_data = vif_data.sort_values(0, ascending = False)\n",
    "    vif_data = vif_data.iloc[1 : , :]\n",
    "    features = vif_data.index\n",
    "    X = X[features]"
   ]
  },
  {
   "cell_type": "code",
   "execution_count": 7754,
   "metadata": {
    "scrolled": true
   },
   "outputs": [
    {
     "data": {
      "text/plain": [
       "{0.8895168573805055: Index(['Lot Frontage', 'Lot Area', 'Overall Qual', 'property_age',\n",
       "        'Year Remod/Add', 'Mas Vnr Area', 'BsmtFin SF 1', 'Total Bsmt SF',\n",
       "        '1st Flr SF', '2nd Flr SF', 'Gr Liv Area', 'Bsmt Full Bath',\n",
       "        'Full Bath', 'Half Bath', 'TotRms AbvGrd', 'Fireplaces', 'Garage Cars',\n",
       "        'Garage Area', 'Wood Deck SF', 'Open Porch SF'],\n",
       "       dtype='object'),\n",
       " 0.8894048844713167: Index(['1st Flr SF', '2nd Flr SF', 'TotRms AbvGrd', 'Overall Qual',\n",
       "        'Total Bsmt SF', 'Full Bath', 'Garage Area', 'Lot Frontage',\n",
       "        'Garage Cars', 'property_age', 'Year Remod/Add', 'BsmtFin SF 1',\n",
       "        'Lot Area', 'Half Bath', 'Bsmt Full Bath', 'Fireplaces', 'Mas Vnr Area',\n",
       "        'Open Porch SF', 'Wood Deck SF'],\n",
       "       dtype='object'),\n",
       " 0.8790353592141246: Index(['TotRms AbvGrd', 'Overall Qual', 'Total Bsmt SF', 'Full Bath',\n",
       "        'Garage Area', 'Lot Frontage', 'Garage Cars', '2nd Flr SF',\n",
       "        'property_age', 'Year Remod/Add', 'BsmtFin SF 1', 'Lot Area',\n",
       "        'Half Bath', 'Bsmt Full Bath', 'Fireplaces', 'Mas Vnr Area',\n",
       "        'Open Porch SF', 'Wood Deck SF'],\n",
       "       dtype='object'),\n",
       " 0.8766503356689418: Index(['Overall Qual', 'Full Bath', 'Total Bsmt SF', 'Garage Area',\n",
       "        'Lot Frontage', 'Garage Cars', 'property_age', '2nd Flr SF',\n",
       "        'Year Remod/Add', 'BsmtFin SF 1', 'Lot Area', 'Half Bath',\n",
       "        'Bsmt Full Bath', 'Fireplaces', 'Mas Vnr Area', 'Wood Deck SF',\n",
       "        'Open Porch SF'],\n",
       "       dtype='object'),\n",
       " 0.8368142111667385: Index(['Full Bath', 'Total Bsmt SF', 'Garage Area', 'Lot Frontage',\n",
       "        'Garage Cars', 'property_age', 'BsmtFin SF 1', 'Year Remod/Add',\n",
       "        '2nd Flr SF', 'Lot Area', 'Half Bath', 'Bsmt Full Bath', 'Fireplaces',\n",
       "        'Mas Vnr Area', 'Wood Deck SF', 'Open Porch SF'],\n",
       "       dtype='object'),\n",
       " 0.8239944168438453: Index(['Total Bsmt SF', 'Full Bath', 'Lot Frontage', 'Garage Cars',\n",
       "        'property_age', 'BsmtFin SF 1', 'Year Remod/Add', '2nd Flr SF',\n",
       "        'Lot Area', 'Bsmt Full Bath', 'Half Bath', 'Fireplaces', 'Mas Vnr Area',\n",
       "        'Wood Deck SF', 'Open Porch SF'],\n",
       "       dtype='object'),\n",
       " 0.8234476181170759: Index(['Total Bsmt SF', 'Lot Frontage', 'Garage Cars', 'property_age',\n",
       "        'Year Remod/Add', 'BsmtFin SF 1', '2nd Flr SF', 'Lot Area',\n",
       "        'Bsmt Full Bath', 'Half Bath', 'Fireplaces', 'Open Porch SF',\n",
       "        'Wood Deck SF', 'Mas Vnr Area'],\n",
       "       dtype='object'),\n",
       " 0.8159204099701822: Index(['Total Bsmt SF', 'property_age', 'Garage Cars', 'Year Remod/Add',\n",
       "        'BsmtFin SF 1', 'Lot Area', '2nd Flr SF', 'Bsmt Full Bath', 'Half Bath',\n",
       "        'Fireplaces', 'Open Porch SF', 'Wood Deck SF', 'Mas Vnr Area'],\n",
       "       dtype='object'),\n",
       " 0.7374974272840944: Index(['property_age', 'Garage Cars', 'BsmtFin SF 1', 'Year Remod/Add',\n",
       "        'Lot Area', '2nd Flr SF', 'Bsmt Full Bath', 'Half Bath', 'Fireplaces',\n",
       "        'Wood Deck SF', 'Open Porch SF', 'Mas Vnr Area'],\n",
       "       dtype='object'),\n",
       " 0.7083654666749613: Index(['Year Remod/Add', 'BsmtFin SF 1', 'Lot Area', 'Garage Cars',\n",
       "        '2nd Flr SF', 'Bsmt Full Bath', 'Half Bath', 'Fireplaces',\n",
       "        'Wood Deck SF', 'Open Porch SF', 'Mas Vnr Area'],\n",
       "       dtype='object')}"
      ]
     },
     "execution_count": 7754,
     "metadata": {},
     "output_type": "execute_result"
    }
   ],
   "source": [
    "models_r2"
   ]
  },
  {
   "cell_type": "code",
   "execution_count": 7755,
   "metadata": {
    "scrolled": true
   },
   "outputs": [
    {
     "data": {
      "text/plain": [
       "{-0.0949164636504695: Index(['Lot Frontage', 'Lot Area', 'Overall Qual', 'property_age',\n",
       "        'Year Remod/Add', 'Mas Vnr Area', 'BsmtFin SF 1', 'Total Bsmt SF',\n",
       "        '1st Flr SF', '2nd Flr SF', 'Gr Liv Area', 'Bsmt Full Bath',\n",
       "        'Full Bath', 'Half Bath', 'TotRms AbvGrd', 'Fireplaces', 'Garage Cars',\n",
       "        'Garage Area', 'Wood Deck SF', 'Open Porch SF'],\n",
       "       dtype='object'),\n",
       " -0.09496931293023869: Index(['1st Flr SF', '2nd Flr SF', 'TotRms AbvGrd', 'Overall Qual',\n",
       "        'Total Bsmt SF', 'Full Bath', 'Garage Area', 'Lot Frontage',\n",
       "        'Garage Cars', 'property_age', 'Year Remod/Add', 'BsmtFin SF 1',\n",
       "        'Lot Area', 'Half Bath', 'Bsmt Full Bath', 'Fireplaces', 'Mas Vnr Area',\n",
       "        'Open Porch SF', 'Wood Deck SF'],\n",
       "       dtype='object'),\n",
       " -0.09961161238328052: Index(['TotRms AbvGrd', 'Overall Qual', 'Total Bsmt SF', 'Full Bath',\n",
       "        'Garage Area', 'Lot Frontage', 'Garage Cars', '2nd Flr SF',\n",
       "        'property_age', 'Year Remod/Add', 'BsmtFin SF 1', 'Lot Area',\n",
       "        'Half Bath', 'Bsmt Full Bath', 'Fireplaces', 'Mas Vnr Area',\n",
       "        'Open Porch SF', 'Wood Deck SF'],\n",
       "       dtype='object'),\n",
       " -0.10034721618179021: Index(['Overall Qual', 'Full Bath', 'Total Bsmt SF', 'Garage Area',\n",
       "        'Lot Frontage', 'Garage Cars', 'property_age', '2nd Flr SF',\n",
       "        'Year Remod/Add', 'BsmtFin SF 1', 'Lot Area', 'Half Bath',\n",
       "        'Bsmt Full Bath', 'Fireplaces', 'Mas Vnr Area', 'Wood Deck SF',\n",
       "        'Open Porch SF'],\n",
       "       dtype='object'),\n",
       " -0.11593273024013129: Index(['Full Bath', 'Total Bsmt SF', 'Garage Area', 'Lot Frontage',\n",
       "        'Garage Cars', 'property_age', 'BsmtFin SF 1', 'Year Remod/Add',\n",
       "        '2nd Flr SF', 'Lot Area', 'Half Bath', 'Bsmt Full Bath', 'Fireplaces',\n",
       "        'Mas Vnr Area', 'Wood Deck SF', 'Open Porch SF'],\n",
       "       dtype='object'),\n",
       " -0.12179587657396689: Index(['Total Bsmt SF', 'Full Bath', 'Lot Frontage', 'Garage Cars',\n",
       "        'property_age', 'BsmtFin SF 1', 'Year Remod/Add', '2nd Flr SF',\n",
       "        'Lot Area', 'Bsmt Full Bath', 'Half Bath', 'Fireplaces', 'Mas Vnr Area',\n",
       "        'Wood Deck SF', 'Open Porch SF'],\n",
       "       dtype='object'),\n",
       " -0.1218555266215654: Index(['Total Bsmt SF', 'Lot Frontage', 'Garage Cars', 'property_age',\n",
       "        'Year Remod/Add', 'BsmtFin SF 1', '2nd Flr SF', 'Lot Area',\n",
       "        'Bsmt Full Bath', 'Half Bath', 'Fireplaces', 'Open Porch SF',\n",
       "        'Wood Deck SF', 'Mas Vnr Area'],\n",
       "       dtype='object'),\n",
       " -0.12460342327022697: Index(['Total Bsmt SF', 'property_age', 'Garage Cars', 'Year Remod/Add',\n",
       "        'BsmtFin SF 1', 'Lot Area', '2nd Flr SF', 'Bsmt Full Bath', 'Half Bath',\n",
       "        'Fireplaces', 'Open Porch SF', 'Wood Deck SF', 'Mas Vnr Area'],\n",
       "       dtype='object'),\n",
       " -0.15608070435612925: Index(['property_age', 'Garage Cars', 'BsmtFin SF 1', 'Year Remod/Add',\n",
       "        'Lot Area', '2nd Flr SF', 'Bsmt Full Bath', 'Half Bath', 'Fireplaces',\n",
       "        'Wood Deck SF', 'Open Porch SF', 'Mas Vnr Area'],\n",
       "       dtype='object'),\n",
       " -0.16675598959923785: Index(['Year Remod/Add', 'BsmtFin SF 1', 'Lot Area', 'Garage Cars',\n",
       "        '2nd Flr SF', 'Bsmt Full Bath', 'Half Bath', 'Fireplaces',\n",
       "        'Wood Deck SF', 'Open Porch SF', 'Mas Vnr Area'],\n",
       "       dtype='object')}"
      ]
     },
     "execution_count": 7755,
     "metadata": {},
     "output_type": "execute_result"
    }
   ],
   "source": [
    "models_nmse"
   ]
  },
  {
   "cell_type": "code",
   "execution_count": 7756,
   "metadata": {},
   "outputs": [],
   "source": [
    "# I chose to be fairly harsh on the VIF so the r2 score took a hit,\n",
    "#but it still performs at 0.83 which isn't bad.\n",
    "\n",
    "X = numeric_variables[['Total Bsmt SF', 'Garage Area',\n",
    "        'Lot Frontage', 'Garage Cars', 'property_age', '2nd Flr SF',\n",
    "        'Year Remod/Add', 'BsmtFin SF 1', 'Lot Area', 'Half Bath',\n",
    "        'Bsmt Full Bath', 'Fireplaces', 'Mas Vnr Area', 'Wood Deck SF',\n",
    "        'Open Porch SF']]"
   ]
  },
  {
   "cell_type": "code",
   "execution_count": 7757,
   "metadata": {},
   "outputs": [],
   "source": [
    "#code sourced from: https://www.geeksforgeeks.org/detecting-multicollinearity-with-vif-python/\n",
    "vif_data = [variance_inflation_factor(X.values, i) \n",
    "                          for i in range(len(X.columns))] "
   ]
  },
  {
   "cell_type": "code",
   "execution_count": 7758,
   "metadata": {},
   "outputs": [],
   "source": [
    "vif_data = pd.DataFrame(vif_data, index = X.columns)"
   ]
  },
  {
   "cell_type": "code",
   "execution_count": 7759,
   "metadata": {},
   "outputs": [],
   "source": [
    "vif_data = vif_data.sort_values(0, ascending = False)"
   ]
  },
  {
   "cell_type": "code",
   "execution_count": 7760,
   "metadata": {
    "scrolled": true
   },
   "outputs": [
    {
     "data": {
      "text/html": [
       "<div>\n",
       "<style scoped>\n",
       "    .dataframe tbody tr th:only-of-type {\n",
       "        vertical-align: middle;\n",
       "    }\n",
       "\n",
       "    .dataframe tbody tr th {\n",
       "        vertical-align: top;\n",
       "    }\n",
       "\n",
       "    .dataframe thead th {\n",
       "        text-align: right;\n",
       "    }\n",
       "</style>\n",
       "<table border=\"1\" class=\"dataframe\">\n",
       "  <thead>\n",
       "    <tr style=\"text-align: right;\">\n",
       "      <th></th>\n",
       "      <th>0</th>\n",
       "    </tr>\n",
       "  </thead>\n",
       "  <tbody>\n",
       "    <tr>\n",
       "      <th>Garage Area</th>\n",
       "      <td>15.456143</td>\n",
       "    </tr>\n",
       "    <tr>\n",
       "      <th>Lot Frontage</th>\n",
       "      <td>12.886090</td>\n",
       "    </tr>\n",
       "    <tr>\n",
       "      <th>Total Bsmt SF</th>\n",
       "      <td>11.633265</td>\n",
       "    </tr>\n",
       "    <tr>\n",
       "      <th>Garage Cars</th>\n",
       "      <td>7.540733</td>\n",
       "    </tr>\n",
       "    <tr>\n",
       "      <th>property_age</th>\n",
       "      <td>5.104174</td>\n",
       "    </tr>\n",
       "    <tr>\n",
       "      <th>BsmtFin SF 1</th>\n",
       "      <td>4.328929</td>\n",
       "    </tr>\n",
       "    <tr>\n",
       "      <th>Year Remod/Add</th>\n",
       "      <td>4.314046</td>\n",
       "    </tr>\n",
       "    <tr>\n",
       "      <th>Lot Area</th>\n",
       "      <td>4.117430</td>\n",
       "    </tr>\n",
       "    <tr>\n",
       "      <th>2nd Flr SF</th>\n",
       "      <td>3.166040</td>\n",
       "    </tr>\n",
       "    <tr>\n",
       "      <th>Bsmt Full Bath</th>\n",
       "      <td>2.987100</td>\n",
       "    </tr>\n",
       "    <tr>\n",
       "      <th>Half Bath</th>\n",
       "      <td>2.790162</td>\n",
       "    </tr>\n",
       "    <tr>\n",
       "      <th>Fireplaces</th>\n",
       "      <td>2.447767</td>\n",
       "    </tr>\n",
       "    <tr>\n",
       "      <th>Mas Vnr Area</th>\n",
       "      <td>1.777500</td>\n",
       "    </tr>\n",
       "    <tr>\n",
       "      <th>Wood Deck SF</th>\n",
       "      <td>1.772623</td>\n",
       "    </tr>\n",
       "    <tr>\n",
       "      <th>Open Porch SF</th>\n",
       "      <td>1.767614</td>\n",
       "    </tr>\n",
       "  </tbody>\n",
       "</table>\n",
       "</div>"
      ],
      "text/plain": [
       "                        0\n",
       "Garage Area     15.456143\n",
       "Lot Frontage    12.886090\n",
       "Total Bsmt SF   11.633265\n",
       "Garage Cars      7.540733\n",
       "property_age     5.104174\n",
       "BsmtFin SF 1     4.328929\n",
       "Year Remod/Add   4.314046\n",
       "Lot Area         4.117430\n",
       "2nd Flr SF       3.166040\n",
       "Bsmt Full Bath   2.987100\n",
       "Half Bath        2.790162\n",
       "Fireplaces       2.447767\n",
       "Mas Vnr Area     1.777500\n",
       "Wood Deck SF     1.772623\n",
       "Open Porch SF    1.767614"
      ]
     },
     "execution_count": 7760,
     "metadata": {},
     "output_type": "execute_result"
    }
   ],
   "source": [
    "#I was able to get rid of a lot of multicollinearity without taking TOO big of a hit on r2 score\n",
    "\n",
    "vif_data"
   ]
  },
  {
   "cell_type": "markdown",
   "metadata": {},
   "source": [
    "## Linear Regression Test"
   ]
  },
  {
   "cell_type": "code",
   "execution_count": 7761,
   "metadata": {},
   "outputs": [],
   "source": [
    "X_train, X_test, y_train, y_test = train_test_split(X, y, test_size = 0.05)"
   ]
  },
  {
   "cell_type": "code",
   "execution_count": 7762,
   "metadata": {},
   "outputs": [
    {
     "data": {
      "text/plain": [
       "0.8312138281805539"
      ]
     },
     "execution_count": 7762,
     "metadata": {},
     "output_type": "execute_result"
    }
   ],
   "source": [
    "#So this is pretty good performance for just numerical features, \n",
    "#especially considering we went from 30+ columns to only 16\n",
    "lr.fit(X_train, y_train)\n",
    "lr.score(X_test, y_test)"
   ]
  },
  {
   "cell_type": "code",
   "execution_count": 7763,
   "metadata": {},
   "outputs": [],
   "source": [
    "residuals = y_test - lr.predict(X_test) "
   ]
  },
  {
   "cell_type": "code",
   "execution_count": 7764,
   "metadata": {},
   "outputs": [
    {
     "data": {
      "text/plain": [
       "Text(0.5, 0, 'log_SalePrice Residual')"
      ]
     },
     "execution_count": 7764,
     "metadata": {},
     "output_type": "execute_result"
    },
    {
     "data": {
      "image/png": "[encoded data removed]",
      "text/plain": [
       "<Figure size 432x288 with 1 Axes>"
      ]
     },
     "metadata": {
      "needs_background": "light"
     },
     "output_type": "display_data"
    }
   ],
   "source": [
    "sns.histplot(residuals, kde = True)\n",
    "plt.title('log_SalePrice Residual Distribution')\n",
    "plt.xlabel('log_SalePrice Residual')"
   ]
  },
  {
   "cell_type": "code",
   "execution_count": 7765,
   "metadata": {},
   "outputs": [
    {
     "data": {
      "text/plain": [
       "-1.795597448244649"
      ]
     },
     "execution_count": 7765,
     "metadata": {},
     "output_type": "execute_result"
    }
   ],
   "source": [
    "#Nice, that's pretty much normal\n",
    "\n",
    "residuals.skew()"
   ]
  },
  {
   "cell_type": "code",
   "execution_count": 7766,
   "metadata": {},
   "outputs": [
    {
     "name": "stderr",
     "output_type": "stream",
     "text": [
      "C:\\Users\\Anonymous\\anaconda3\\lib\\site-packages\\seaborn\\_decorators.py:36: FutureWarning: Pass the following variables as keyword args: x, y. From version 0.12, the only valid positional argument will be `data`, and passing other arguments without an explicit keyword will result in an error or misinterpretation.\n",
      "  warnings.warn(\n"
     ]
    },
    {
     "data": {
      "image/png": "[encoded data removed]",
      "text/plain": [
       "<Figure size 432x288 with 1 Axes>"
      ]
     },
     "metadata": {
      "needs_background": "light"
     },
     "output_type": "display_data"
    }
   ],
   "source": [
    "#I would say this is pretty random. One could argue\n",
    "#there is a pattern, but it seems mostly random\n",
    "sns.scatterplot(lr.predict(X_test), residuals)\n",
    "plt.xlabel('Predicted')\n",
    "plt.ylabel('Residuals')\n",
    "plt.title('Predicted Values vs Residuals');"
   ]
  },
  {
   "cell_type": "markdown",
   "metadata": {},
   "source": [
    "## Ridge regression"
   ]
  },
  {
   "cell_type": "code",
   "execution_count": 7767,
   "metadata": {},
   "outputs": [
    {
     "data": {
      "text/plain": [
       "GridSearchCV(cv=20, estimator=Ridge(),\n",
       "             param_grid={'alpha': [1e-15, 1e-10, 1e-08, 0.001, 0.01, 1, 5, 10,\n",
       "                                   20, 30, 35, 40, 45, 50, 55, 100]},\n",
       "             scoring='r2')"
      ]
     },
     "execution_count": 7767,
     "metadata": {},
     "output_type": "execute_result"
    }
   ],
   "source": [
    "#Code from https://www.youtube.com/watch?v=0yI0-r3Ly40&t=322s\n",
    "\n",
    "ridge = Ridge()\n",
    "parameters = {'alpha' : [1e-15, 1e-10, 1e-8, 1e-3, 1e-2, 1, 5, 10, 20, 30, 35, 40, 45, 50, 55, 100]}\n",
    "ridge_regressor = GridSearchCV(ridge, parameters, scoring = 'r2', cv = 20)\n",
    "ridge_regressor.fit(X, y)"
   ]
  },
  {
   "cell_type": "code",
   "execution_count": 7768,
   "metadata": {
    "scrolled": true
   },
   "outputs": [
    {
     "name": "stdout",
     "output_type": "stream",
     "text": [
      "{'alpha': 10}\n",
      "0.8353070636892251\n"
     ]
    }
   ],
   "source": [
    "#This score is an improvement on the initial linear regression\n",
    "\n",
    "print(ridge_regressor.best_params_)\n",
    "print(ridge_regressor.best_score_)"
   ]
  },
  {
   "cell_type": "code",
   "execution_count": 7769,
   "metadata": {},
   "outputs": [
    {
     "data": {
      "text/plain": [
       "GridSearchCV(cv=20, estimator=Ridge(),\n",
       "             param_grid={'alpha': [1e-15, 1e-10, 1e-08, 0.001, 0.01, 1, 5, 10,\n",
       "                                   20, 30, 35, 40, 45, 50, 55, 100]},\n",
       "             scoring='neg_mean_squared_error')"
      ]
     },
     "execution_count": 7769,
     "metadata": {},
     "output_type": "execute_result"
    }
   ],
   "source": [
    "ridge_regressor = GridSearchCV(ridge, parameters, scoring = 'neg_mean_squared_error', cv = 20)\n",
    "ridge_regressor.fit(X, y)"
   ]
  },
  {
   "cell_type": "code",
   "execution_count": 7770,
   "metadata": {},
   "outputs": [
    {
     "name": "stdout",
     "output_type": "stream",
     "text": [
      "{'alpha': 10}\n",
      "-0.02665945328648527\n"
     ]
    }
   ],
   "source": [
    "#This score is an improvement on the previous score\n",
    "\n",
    "print(ridge_regressor.best_params_)\n",
    "print(ridge_regressor.best_score_)"
   ]
  },
  {
   "cell_type": "code",
   "execution_count": 7771,
   "metadata": {},
   "outputs": [],
   "source": [
    "residuals_ridge = y_test - ridge_regressor.predict(X_test)"
   ]
  },
  {
   "cell_type": "code",
   "execution_count": 7772,
   "metadata": {},
   "outputs": [
    {
     "data": {
      "image/png": "[encoded data removed]",
      "text/plain": [
       "<Figure size 432x288 with 1 Axes>"
      ]
     },
     "metadata": {
      "needs_background": "light"
     },
     "output_type": "display_data"
    }
   ],
   "source": [
    "sns.histplot(residuals_ridge)\n",
    "plt.xlabel('log_SalePrice Residuals')\n",
    "plt.title(' log_SalePrice Residual Distribution');"
   ]
  },
  {
   "cell_type": "code",
   "execution_count": 7773,
   "metadata": {},
   "outputs": [
    {
     "data": {
      "text/plain": [
       "-1.7972415494614473"
      ]
     },
     "execution_count": 7773,
     "metadata": {},
     "output_type": "execute_result"
    }
   ],
   "source": [
    "#Nice! This is pretty normal since it's clsoe to 0.\n",
    "\n",
    "residuals_ridge.skew()"
   ]
  },
  {
   "cell_type": "code",
   "execution_count": 7774,
   "metadata": {},
   "outputs": [
    {
     "name": "stderr",
     "output_type": "stream",
     "text": [
      "C:\\Users\\Anonymous\\anaconda3\\lib\\site-packages\\seaborn\\_decorators.py:36: FutureWarning: Pass the following variables as keyword args: x, y. From version 0.12, the only valid positional argument will be `data`, and passing other arguments without an explicit keyword will result in an error or misinterpretation.\n",
      "  warnings.warn(\n"
     ]
    },
    {
     "data": {
      "text/plain": [
       "Text(0.5, 1.0, 'Residuals vs Predicted Values')"
      ]
     },
     "execution_count": 7774,
     "metadata": {},
     "output_type": "execute_result"
    },
    {
     "data": {
      "image/png": "[encoded data removed]",
      "text/plain": [
       "<Figure size 432x288 with 1 Axes>"
      ]
     },
     "metadata": {
      "needs_background": "light"
     },
     "output_type": "display_data"
    }
   ],
   "source": [
    "#Looks pretty random to me.\n",
    "\n",
    "sns.scatterplot(ridge_regressor.predict(X_test), residuals_ridge)\n",
    "plt.xlabel('Predicted Values')\n",
    "plt.ylabel('Residuals')\n",
    "plt.title('Residuals vs Predicted Values')"
   ]
  },
  {
   "cell_type": "markdown",
   "metadata": {},
   "source": [
    "## Lasso Regression"
   ]
  },
  {
   "cell_type": "code",
   "execution_count": 7775,
   "metadata": {},
   "outputs": [],
   "source": [
    "lasso = Lasso()"
   ]
  },
  {
   "cell_type": "code",
   "execution_count": 7776,
   "metadata": {
    "scrolled": true
   },
   "outputs": [
    {
     "name": "stderr",
     "output_type": "stream",
     "text": [
      "C:\\Users\\Anonymous\\anaconda3\\lib\\site-packages\\sklearn\\linear_model\\_coordinate_descent.py:529: ConvergenceWarning: Objective did not converge. You might want to increase the number of iterations. Duality gap: 24.087158500512196, tolerance: 0.031838186795103814\n",
      "  model = cd_fast.enet_coordinate_descent(\n",
      "C:\\Users\\Anonymous\\anaconda3\\lib\\site-packages\\sklearn\\linear_model\\_coordinate_descent.py:529: ConvergenceWarning: Objective did not converge. You might want to increase the number of iterations. Duality gap: 20.185884834141866, tolerance: 0.03152837967035225\n",
      "  model = cd_fast.enet_coordinate_descent(\n",
      "C:\\Users\\Anonymous\\anaconda3\\lib\\site-packages\\sklearn\\linear_model\\_coordinate_descent.py:529: ConvergenceWarning: Objective did not converge. You might want to increase the number of iterations. Duality gap: 18.530475501716694, tolerance: 0.032057983322464005\n",
      "  model = cd_fast.enet_coordinate_descent(\n",
      "C:\\Users\\Anonymous\\anaconda3\\lib\\site-packages\\sklearn\\linear_model\\_coordinate_descent.py:529: ConvergenceWarning: Objective did not converge. You might want to increase the number of iterations. Duality gap: 17.069179555824636, tolerance: 0.031321893376402773\n",
      "  model = cd_fast.enet_coordinate_descent(\n",
      "C:\\Users\\Anonymous\\anaconda3\\lib\\site-packages\\sklearn\\linear_model\\_coordinate_descent.py:529: ConvergenceWarning: Objective did not converge. You might want to increase the number of iterations. Duality gap: 21.48759753516379, tolerance: 0.031636726251758174\n",
      "  model = cd_fast.enet_coordinate_descent(\n",
      "C:\\Users\\Anonymous\\anaconda3\\lib\\site-packages\\sklearn\\linear_model\\_coordinate_descent.py:529: ConvergenceWarning: Objective did not converge. You might want to increase the number of iterations. Duality gap: 21.29432252539454, tolerance: 0.031990140421279865\n",
      "  model = cd_fast.enet_coordinate_descent(\n",
      "C:\\Users\\Anonymous\\anaconda3\\lib\\site-packages\\sklearn\\linear_model\\_coordinate_descent.py:529: ConvergenceWarning: Objective did not converge. You might want to increase the number of iterations. Duality gap: 24.381286994726633, tolerance: 0.0313816932464935\n",
      "  model = cd_fast.enet_coordinate_descent(\n",
      "C:\\Users\\Anonymous\\anaconda3\\lib\\site-packages\\sklearn\\linear_model\\_coordinate_descent.py:529: ConvergenceWarning: Objective did not converge. You might want to increase the number of iterations. Duality gap: 23.675975952578195, tolerance: 0.03200681164860936\n",
      "  model = cd_fast.enet_coordinate_descent(\n",
      "C:\\Users\\Anonymous\\anaconda3\\lib\\site-packages\\sklearn\\linear_model\\_coordinate_descent.py:529: ConvergenceWarning: Objective did not converge. You might want to increase the number of iterations. Duality gap: 24.276432590570113, tolerance: 0.03187407243633861\n",
      "  model = cd_fast.enet_coordinate_descent(\n",
      "C:\\Users\\Anonymous\\anaconda3\\lib\\site-packages\\sklearn\\linear_model\\_coordinate_descent.py:529: ConvergenceWarning: Objective did not converge. You might want to increase the number of iterations. Duality gap: 21.991465725678093, tolerance: 0.031799919607132854\n",
      "  model = cd_fast.enet_coordinate_descent(\n",
      "C:\\Users\\Anonymous\\anaconda3\\lib\\site-packages\\sklearn\\linear_model\\_coordinate_descent.py:529: ConvergenceWarning: Objective did not converge. You might want to increase the number of iterations. Duality gap: 22.68870250248935, tolerance: 0.031818362106599316\n",
      "  model = cd_fast.enet_coordinate_descent(\n",
      "C:\\Users\\Anonymous\\anaconda3\\lib\\site-packages\\sklearn\\linear_model\\_coordinate_descent.py:529: ConvergenceWarning: Objective did not converge. You might want to increase the number of iterations. Duality gap: 23.35639389595051, tolerance: 0.03157314968497104\n",
      "  model = cd_fast.enet_coordinate_descent(\n",
      "C:\\Users\\Anonymous\\anaconda3\\lib\\site-packages\\sklearn\\linear_model\\_coordinate_descent.py:529: ConvergenceWarning: Objective did not converge. You might want to increase the number of iterations. Duality gap: 23.62501496687795, tolerance: 0.03136301109568202\n",
      "  model = cd_fast.enet_coordinate_descent(\n",
      "C:\\Users\\Anonymous\\anaconda3\\lib\\site-packages\\sklearn\\linear_model\\_coordinate_descent.py:529: ConvergenceWarning: Objective did not converge. You might want to increase the number of iterations. Duality gap: 22.682284376776234, tolerance: 0.031370056011843096\n",
      "  model = cd_fast.enet_coordinate_descent(\n",
      "C:\\Users\\Anonymous\\anaconda3\\lib\\site-packages\\sklearn\\linear_model\\_coordinate_descent.py:529: ConvergenceWarning: Objective did not converge. You might want to increase the number of iterations. Duality gap: 20.829338018339563, tolerance: 0.0318394345378268\n",
      "  model = cd_fast.enet_coordinate_descent(\n",
      "C:\\Users\\Anonymous\\anaconda3\\lib\\site-packages\\sklearn\\linear_model\\_coordinate_descent.py:529: ConvergenceWarning: Objective did not converge. You might want to increase the number of iterations. Duality gap: 24.895222104505553, tolerance: 0.03161036844384828\n",
      "  model = cd_fast.enet_coordinate_descent(\n",
      "C:\\Users\\Anonymous\\anaconda3\\lib\\site-packages\\sklearn\\linear_model\\_coordinate_descent.py:529: ConvergenceWarning: Objective did not converge. You might want to increase the number of iterations. Duality gap: 22.26256201957812, tolerance: 0.031444696363899974\n",
      "  model = cd_fast.enet_coordinate_descent(\n",
      "C:\\Users\\Anonymous\\anaconda3\\lib\\site-packages\\sklearn\\linear_model\\_coordinate_descent.py:529: ConvergenceWarning: Objective did not converge. You might want to increase the number of iterations. Duality gap: 24.377148652167005, tolerance: 0.03158511477040073\n",
      "  model = cd_fast.enet_coordinate_descent(\n",
      "C:\\Users\\Anonymous\\anaconda3\\lib\\site-packages\\sklearn\\linear_model\\_coordinate_descent.py:529: ConvergenceWarning: Objective did not converge. You might want to increase the number of iterations. Duality gap: 23.789987667302878, tolerance: 0.03211515912885368\n",
      "  model = cd_fast.enet_coordinate_descent(\n",
      "C:\\Users\\Anonymous\\anaconda3\\lib\\site-packages\\sklearn\\linear_model\\_coordinate_descent.py:529: ConvergenceWarning: Objective did not converge. You might want to increase the number of iterations. Duality gap: 24.304606961866128, tolerance: 0.0314963233389811\n",
      "  model = cd_fast.enet_coordinate_descent(\n"
     ]
    },
    {
     "data": {
      "text/plain": [
       "GridSearchCV(cv=20, estimator=Lasso(),\n",
       "             param_grid={'alpha': [1e-15, 1e-10, 1e-08, 0.001, 0.01, 1, 5, 10,\n",
       "                                   20, 30, 35, 40, 45, 50, 55, 100]},\n",
       "             scoring='r2')"
      ]
     },
     "execution_count": 7776,
     "metadata": {},
     "output_type": "execute_result"
    }
   ],
   "source": [
    "#Running GridSearch to helpfind the best parameters\n",
    "#Using the same parameters as in the last GridSearch\n",
    "\n",
    "lasso_regressor = GridSearchCV(lasso, parameters, scoring = 'r2', cv = 20)\n",
    "lasso_regressor.fit(X, y)"
   ]
  },
  {
   "cell_type": "code",
   "execution_count": 7777,
   "metadata": {},
   "outputs": [
    {
     "name": "stdout",
     "output_type": "stream",
     "text": [
      "{'alpha': 0.001}\n",
      "0.8353297444203733\n"
     ]
    }
   ],
   "source": [
    "#This is also an improvement on the previous score\n",
    "\n",
    "print(lasso_regressor.best_params_)\n",
    "print(lasso_regressor.best_score_)"
   ]
  },
  {
   "cell_type": "code",
   "execution_count": 7778,
   "metadata": {
    "scrolled": true
   },
   "outputs": [
    {
     "name": "stderr",
     "output_type": "stream",
     "text": [
      "C:\\Users\\Anonymous\\anaconda3\\lib\\site-packages\\sklearn\\linear_model\\_coordinate_descent.py:529: ConvergenceWarning: Objective did not converge. You might want to increase the number of iterations. Duality gap: 24.087158500512196, tolerance: 0.031838186795103814\n",
      "  model = cd_fast.enet_coordinate_descent(\n",
      "C:\\Users\\Anonymous\\anaconda3\\lib\\site-packages\\sklearn\\linear_model\\_coordinate_descent.py:529: ConvergenceWarning: Objective did not converge. You might want to increase the number of iterations. Duality gap: 20.185884834141866, tolerance: 0.03152837967035225\n",
      "  model = cd_fast.enet_coordinate_descent(\n",
      "C:\\Users\\Anonymous\\anaconda3\\lib\\site-packages\\sklearn\\linear_model\\_coordinate_descent.py:529: ConvergenceWarning: Objective did not converge. You might want to increase the number of iterations. Duality gap: 18.530475501716694, tolerance: 0.032057983322464005\n",
      "  model = cd_fast.enet_coordinate_descent(\n",
      "C:\\Users\\Anonymous\\anaconda3\\lib\\site-packages\\sklearn\\linear_model\\_coordinate_descent.py:529: ConvergenceWarning: Objective did not converge. You might want to increase the number of iterations. Duality gap: 17.069179555824636, tolerance: 0.031321893376402773\n",
      "  model = cd_fast.enet_coordinate_descent(\n",
      "C:\\Users\\Anonymous\\anaconda3\\lib\\site-packages\\sklearn\\linear_model\\_coordinate_descent.py:529: ConvergenceWarning: Objective did not converge. You might want to increase the number of iterations. Duality gap: 21.48759753516379, tolerance: 0.031636726251758174\n",
      "  model = cd_fast.enet_coordinate_descent(\n",
      "C:\\Users\\Anonymous\\anaconda3\\lib\\site-packages\\sklearn\\linear_model\\_coordinate_descent.py:529: ConvergenceWarning: Objective did not converge. You might want to increase the number of iterations. Duality gap: 21.29432252539454, tolerance: 0.031990140421279865\n",
      "  model = cd_fast.enet_coordinate_descent(\n",
      "C:\\Users\\Anonymous\\anaconda3\\lib\\site-packages\\sklearn\\linear_model\\_coordinate_descent.py:529: ConvergenceWarning: Objective did not converge. You might want to increase the number of iterations. Duality gap: 24.381286994726633, tolerance: 0.0313816932464935\n",
      "  model = cd_fast.enet_coordinate_descent(\n",
      "C:\\Users\\Anonymous\\anaconda3\\lib\\site-packages\\sklearn\\linear_model\\_coordinate_descent.py:529: ConvergenceWarning: Objective did not converge. You might want to increase the number of iterations. Duality gap: 23.675975952578195, tolerance: 0.03200681164860936\n",
      "  model = cd_fast.enet_coordinate_descent(\n",
      "C:\\Users\\Anonymous\\anaconda3\\lib\\site-packages\\sklearn\\linear_model\\_coordinate_descent.py:529: ConvergenceWarning: Objective did not converge. You might want to increase the number of iterations. Duality gap: 24.276432590570113, tolerance: 0.03187407243633861\n",
      "  model = cd_fast.enet_coordinate_descent(\n",
      "C:\\Users\\Anonymous\\anaconda3\\lib\\site-packages\\sklearn\\linear_model\\_coordinate_descent.py:529: ConvergenceWarning: Objective did not converge. You might want to increase the number of iterations. Duality gap: 21.991465725678093, tolerance: 0.031799919607132854\n",
      "  model = cd_fast.enet_coordinate_descent(\n",
      "C:\\Users\\Anonymous\\anaconda3\\lib\\site-packages\\sklearn\\linear_model\\_coordinate_descent.py:529: ConvergenceWarning: Objective did not converge. You might want to increase the number of iterations. Duality gap: 22.68870250248935, tolerance: 0.031818362106599316\n",
      "  model = cd_fast.enet_coordinate_descent(\n",
      "C:\\Users\\Anonymous\\anaconda3\\lib\\site-packages\\sklearn\\linear_model\\_coordinate_descent.py:529: ConvergenceWarning: Objective did not converge. You might want to increase the number of iterations. Duality gap: 23.35639389595051, tolerance: 0.03157314968497104\n",
      "  model = cd_fast.enet_coordinate_descent(\n",
      "C:\\Users\\Anonymous\\anaconda3\\lib\\site-packages\\sklearn\\linear_model\\_coordinate_descent.py:529: ConvergenceWarning: Objective did not converge. You might want to increase the number of iterations. Duality gap: 23.62501496687795, tolerance: 0.03136301109568202\n",
      "  model = cd_fast.enet_coordinate_descent(\n",
      "C:\\Users\\Anonymous\\anaconda3\\lib\\site-packages\\sklearn\\linear_model\\_coordinate_descent.py:529: ConvergenceWarning: Objective did not converge. You might want to increase the number of iterations. Duality gap: 22.682284376776234, tolerance: 0.031370056011843096\n",
      "  model = cd_fast.enet_coordinate_descent(\n",
      "C:\\Users\\Anonymous\\anaconda3\\lib\\site-packages\\sklearn\\linear_model\\_coordinate_descent.py:529: ConvergenceWarning: Objective did not converge. You might want to increase the number of iterations. Duality gap: 20.829338018339563, tolerance: 0.0318394345378268\n",
      "  model = cd_fast.enet_coordinate_descent(\n",
      "C:\\Users\\Anonymous\\anaconda3\\lib\\site-packages\\sklearn\\linear_model\\_coordinate_descent.py:529: ConvergenceWarning: Objective did not converge. You might want to increase the number of iterations. Duality gap: 24.895222104505553, tolerance: 0.03161036844384828\n",
      "  model = cd_fast.enet_coordinate_descent(\n",
      "C:\\Users\\Anonymous\\anaconda3\\lib\\site-packages\\sklearn\\linear_model\\_coordinate_descent.py:529: ConvergenceWarning: Objective did not converge. You might want to increase the number of iterations. Duality gap: 22.26256201957812, tolerance: 0.031444696363899974\n",
      "  model = cd_fast.enet_coordinate_descent(\n",
      "C:\\Users\\Anonymous\\anaconda3\\lib\\site-packages\\sklearn\\linear_model\\_coordinate_descent.py:529: ConvergenceWarning: Objective did not converge. You might want to increase the number of iterations. Duality gap: 24.377148652167005, tolerance: 0.03158511477040073\n",
      "  model = cd_fast.enet_coordinate_descent(\n",
      "C:\\Users\\Anonymous\\anaconda3\\lib\\site-packages\\sklearn\\linear_model\\_coordinate_descent.py:529: ConvergenceWarning: Objective did not converge. You might want to increase the number of iterations. Duality gap: 23.789987667302878, tolerance: 0.03211515912885368\n",
      "  model = cd_fast.enet_coordinate_descent(\n",
      "C:\\Users\\Anonymous\\anaconda3\\lib\\site-packages\\sklearn\\linear_model\\_coordinate_descent.py:529: ConvergenceWarning: Objective did not converge. You might want to increase the number of iterations. Duality gap: 24.304606961866128, tolerance: 0.0314963233389811\n",
      "  model = cd_fast.enet_coordinate_descent(\n"
     ]
    },
    {
     "data": {
      "text/plain": [
       "GridSearchCV(cv=20, estimator=Lasso(),\n",
       "             param_grid={'alpha': [1e-15, 1e-10, 1e-08, 0.001, 0.01, 1, 5, 10,\n",
       "                                   20, 30, 35, 40, 45, 50, 55, 100]},\n",
       "             scoring='neg_mean_absolute_error')"
      ]
     },
     "execution_count": 7778,
     "metadata": {},
     "output_type": "execute_result"
    }
   ],
   "source": [
    "lasso_regressor = GridSearchCV(lasso, parameters, scoring = 'neg_mean_absolute_error', cv = 20)\n",
    "lasso_regressor.fit(X, y)"
   ]
  },
  {
   "cell_type": "code",
   "execution_count": 7779,
   "metadata": {},
   "outputs": [
    {
     "name": "stdout",
     "output_type": "stream",
     "text": [
      "{'alpha': 0.01}\n",
      "-0.11607433707591719\n"
     ]
    }
   ],
   "source": [
    "#The neg_mean_squared_error also improved\n",
    "\n",
    "print(lasso_regressor.best_params_)\n",
    "print(lasso_regressor.best_score_)"
   ]
  },
  {
   "cell_type": "markdown",
   "metadata": {},
   "source": [
    "Ridge regression created the most optimal model because it had the lowest neg mean squared error and highest r2 value. Its residuals were normally distributed and their variance on the scatterplot was random. Since I am aiming for the best r2 value and lowest neg mean squared error, the model that fits those criteria will be the model I choose. In this situation it was the ridge model."
   ]
  },
  {
   "cell_type": "markdown",
   "metadata": {},
   "source": [
    "We now have the best model using numerical features to predict fair market value for a home."
   ]
  },
  {
   "cell_type": "markdown",
   "metadata": {},
   "source": [
    "## Categorical Variable"
   ]
  },
  {
   "cell_type": "markdown",
   "metadata": {},
   "source": [
    "## EDA"
   ]
  },
  {
   "cell_type": "markdown",
   "metadata": {},
   "source": [
    "### Neighborhood"
   ]
  },
  {
   "cell_type": "code",
   "execution_count": 7780,
   "metadata": {},
   "outputs": [
    {
     "name": "stderr",
     "output_type": "stream",
     "text": [
      "C:\\Users\\Anonymous\\anaconda3\\lib\\site-packages\\seaborn\\_decorators.py:36: FutureWarning: Pass the following variables as keyword args: x, y. From version 0.12, the only valid positional argument will be `data`, and passing other arguments without an explicit keyword will result in an error or misinterpretation.\n",
      "  warnings.warn(\n"
     ]
    },
    {
     "data": {
      "image/png": "[encoded data removed]",
      "text/plain": [
       "<Figure size 432x288 with 1 Axes>"
      ]
     },
     "metadata": {
      "needs_background": "light"
     },
     "output_type": "display_data"
    }
   ],
   "source": [
    "sns.barplot(numeric_variables['SalePrice'], categorical_variables['Neighborhood'], orient = 'h');\n",
    "plt.title('Average Price of Home in Neighborhood');"
   ]
  },
  {
   "cell_type": "markdown",
   "metadata": {},
   "source": [
    "I can see that there are some neighborhoods with higher average prices for homes, so I'm going to divide them into two groups : greater than $150,000 and less than $150,000. This is really the only variable that should have significant impact on the price of a home, so I will add this one to the model."
   ]
  },
  {
   "cell_type": "markdown",
   "metadata": {},
   "source": [
    "## Pseudo One-Hot Encoding Neighborhood Column"
   ]
  },
  {
   "cell_type": "code",
   "execution_count": 7781,
   "metadata": {},
   "outputs": [],
   "source": [
    "neighb_price = pd.DataFrame()"
   ]
  },
  {
   "cell_type": "code",
   "execution_count": 7782,
   "metadata": {},
   "outputs": [],
   "source": [
    "neighb_price['Neighborhood'] = categorical_variables['Neighborhood']"
   ]
  },
  {
   "cell_type": "code",
   "execution_count": 7783,
   "metadata": {},
   "outputs": [],
   "source": [
    "neighb_price['SalePrice'] = numeric_variables['SalePrice']"
   ]
  },
  {
   "cell_type": "code",
   "execution_count": 7784,
   "metadata": {},
   "outputs": [],
   "source": [
    "neighb_avg = neighb_price.groupby('Neighborhood').mean()"
   ]
  },
  {
   "cell_type": "code",
   "execution_count": 7785,
   "metadata": {
    "scrolled": true
   },
   "outputs": [
    {
     "data": {
      "text/html": [
       "<div>\n",
       "<style scoped>\n",
       "    .dataframe tbody tr th:only-of-type {\n",
       "        vertical-align: middle;\n",
       "    }\n",
       "\n",
       "    .dataframe tbody tr th {\n",
       "        vertical-align: top;\n",
       "    }\n",
       "\n",
       "    .dataframe thead th {\n",
       "        text-align: right;\n",
       "    }\n",
       "</style>\n",
       "<table border=\"1\" class=\"dataframe\">\n",
       "  <thead>\n",
       "    <tr style=\"text-align: right;\">\n",
       "      <th></th>\n",
       "      <th>SalePrice</th>\n",
       "    </tr>\n",
       "    <tr>\n",
       "      <th>Neighborhood</th>\n",
       "      <th></th>\n",
       "    </tr>\n",
       "  </thead>\n",
       "  <tbody>\n",
       "    <tr>\n",
       "      <th>Blmngtn</th>\n",
       "      <td>200417.681818</td>\n",
       "    </tr>\n",
       "    <tr>\n",
       "      <th>Blueste</th>\n",
       "      <td>144566.666667</td>\n",
       "    </tr>\n",
       "    <tr>\n",
       "      <th>BrDale</th>\n",
       "      <td>103371.052632</td>\n",
       "    </tr>\n",
       "    <tr>\n",
       "      <th>BrkSide</th>\n",
       "      <td>127022.697368</td>\n",
       "    </tr>\n",
       "    <tr>\n",
       "      <th>ClearCr</th>\n",
       "      <td>217490.074074</td>\n",
       "    </tr>\n",
       "    <tr>\n",
       "      <th>CollgCr</th>\n",
       "      <td>202497.216667</td>\n",
       "    </tr>\n",
       "    <tr>\n",
       "      <th>Crawfor</th>\n",
       "      <td>205901.211268</td>\n",
       "    </tr>\n",
       "    <tr>\n",
       "      <th>Edwards</th>\n",
       "      <td>129905.787234</td>\n",
       "    </tr>\n",
       "    <tr>\n",
       "      <th>Gilbert</th>\n",
       "      <td>189228.387931</td>\n",
       "    </tr>\n",
       "    <tr>\n",
       "      <th>Greens</th>\n",
       "      <td>188666.666667</td>\n",
       "    </tr>\n",
       "    <tr>\n",
       "      <th>GrnHill</th>\n",
       "      <td>280000.000000</td>\n",
       "    </tr>\n",
       "    <tr>\n",
       "      <th>IDOTRR</th>\n",
       "      <td>102397.352941</td>\n",
       "    </tr>\n",
       "    <tr>\n",
       "      <th>Landmrk</th>\n",
       "      <td>137000.000000</td>\n",
       "    </tr>\n",
       "    <tr>\n",
       "      <th>MeadowV</th>\n",
       "      <td>100231.250000</td>\n",
       "    </tr>\n",
       "    <tr>\n",
       "      <th>Mitchel</th>\n",
       "      <td>167656.707317</td>\n",
       "    </tr>\n",
       "    <tr>\n",
       "      <th>NAmes</th>\n",
       "      <td>145905.816129</td>\n",
       "    </tr>\n",
       "    <tr>\n",
       "      <th>NPkVill</th>\n",
       "      <td>140476.470588</td>\n",
       "    </tr>\n",
       "    <tr>\n",
       "      <th>NWAmes</th>\n",
       "      <td>194619.022989</td>\n",
       "    </tr>\n",
       "    <tr>\n",
       "      <th>NoRidge</th>\n",
       "      <td>316294.125000</td>\n",
       "    </tr>\n",
       "    <tr>\n",
       "      <th>NridgHt</th>\n",
       "      <td>322831.352459</td>\n",
       "    </tr>\n",
       "    <tr>\n",
       "      <th>OldTown</th>\n",
       "      <td>125970.666667</td>\n",
       "    </tr>\n",
       "    <tr>\n",
       "      <th>SWISU</th>\n",
       "      <td>134758.875000</td>\n",
       "    </tr>\n",
       "    <tr>\n",
       "      <th>Sawyer</th>\n",
       "      <td>137181.909910</td>\n",
       "    </tr>\n",
       "    <tr>\n",
       "      <th>SawyerW</th>\n",
       "      <td>187760.160920</td>\n",
       "    </tr>\n",
       "    <tr>\n",
       "      <th>Somerst</th>\n",
       "      <td>227183.900000</td>\n",
       "    </tr>\n",
       "    <tr>\n",
       "      <th>StoneBr</th>\n",
       "      <td>329675.736842</td>\n",
       "    </tr>\n",
       "    <tr>\n",
       "      <th>Timber</th>\n",
       "      <td>240492.872340</td>\n",
       "    </tr>\n",
       "    <tr>\n",
       "      <th>Veenker</th>\n",
       "      <td>253570.588235</td>\n",
       "    </tr>\n",
       "  </tbody>\n",
       "</table>\n",
       "</div>"
      ],
      "text/plain": [
       "                  SalePrice\n",
       "Neighborhood               \n",
       "Blmngtn       200417.681818\n",
       "Blueste       144566.666667\n",
       "BrDale        103371.052632\n",
       "BrkSide       127022.697368\n",
       "ClearCr       217490.074074\n",
       "CollgCr       202497.216667\n",
       "Crawfor       205901.211268\n",
       "Edwards       129905.787234\n",
       "Gilbert       189228.387931\n",
       "Greens        188666.666667\n",
       "GrnHill       280000.000000\n",
       "IDOTRR        102397.352941\n",
       "Landmrk       137000.000000\n",
       "MeadowV       100231.250000\n",
       "Mitchel       167656.707317\n",
       "NAmes         145905.816129\n",
       "NPkVill       140476.470588\n",
       "NWAmes        194619.022989\n",
       "NoRidge       316294.125000\n",
       "NridgHt       322831.352459\n",
       "OldTown       125970.666667\n",
       "SWISU         134758.875000\n",
       "Sawyer        137181.909910\n",
       "SawyerW       187760.160920\n",
       "Somerst       227183.900000\n",
       "StoneBr       329675.736842\n",
       "Timber        240492.872340\n",
       "Veenker       253570.588235"
      ]
     },
     "execution_count": 7785,
     "metadata": {},
     "output_type": "execute_result"
    }
   ],
   "source": [
    "neighb_avg"
   ]
  },
  {
   "cell_type": "code",
   "execution_count": 7786,
   "metadata": {},
   "outputs": [],
   "source": [
    "neighb_avg['SalePrice'] = [1 if value > 150000 else 0 for value in neighb_avg['SalePrice']]"
   ]
  },
  {
   "cell_type": "code",
   "execution_count": 7787,
   "metadata": {},
   "outputs": [],
   "source": [
    "neighb_avg = neighb_avg.to_dict()"
   ]
  },
  {
   "cell_type": "code",
   "execution_count": 7788,
   "metadata": {
    "scrolled": true
   },
   "outputs": [
    {
     "data": {
      "text/plain": [
       "{'SalePrice': {'Blmngtn': 1,\n",
       "  'Blueste': 0,\n",
       "  'BrDale': 0,\n",
       "  'BrkSide': 0,\n",
       "  'ClearCr': 1,\n",
       "  'CollgCr': 1,\n",
       "  'Crawfor': 1,\n",
       "  'Edwards': 0,\n",
       "  'Gilbert': 1,\n",
       "  'Greens': 1,\n",
       "  'GrnHill': 1,\n",
       "  'IDOTRR': 0,\n",
       "  'Landmrk': 0,\n",
       "  'MeadowV': 0,\n",
       "  'Mitchel': 1,\n",
       "  'NAmes': 0,\n",
       "  'NPkVill': 0,\n",
       "  'NWAmes': 1,\n",
       "  'NoRidge': 1,\n",
       "  'NridgHt': 1,\n",
       "  'OldTown': 0,\n",
       "  'SWISU': 0,\n",
       "  'Sawyer': 0,\n",
       "  'SawyerW': 1,\n",
       "  'Somerst': 1,\n",
       "  'StoneBr': 1,\n",
       "  'Timber': 1,\n",
       "  'Veenker': 1}}"
      ]
     },
     "execution_count": 7788,
     "metadata": {},
     "output_type": "execute_result"
    }
   ],
   "source": [
    "neighb_avg"
   ]
  },
  {
   "cell_type": "code",
   "execution_count": 7789,
   "metadata": {},
   "outputs": [],
   "source": [
    "#For train set\n",
    "\n",
    "neighborhood_conversion = []\n",
    "\n",
    "for i in categorical_variables['Neighborhood']:\n",
    "    neighborhood_conversion.append(neighb_avg['SalePrice'][i])"
   ]
  },
  {
   "cell_type": "code",
   "execution_count": 7790,
   "metadata": {},
   "outputs": [
    {
     "name": "stderr",
     "output_type": "stream",
     "text": [
      "<ipython-input-7790-590131a3e30b>:1: SettingWithCopyWarning: \n",
      "A value is trying to be set on a copy of a slice from a DataFrame.\n",
      "Try using .loc[row_indexer,col_indexer] = value instead\n",
      "\n",
      "See the caveats in the documentation: https://pandas.pydata.org/pandas-docs/stable/user_guide/indexing.html#returning-a-view-versus-a-copy\n",
      "  categorical_variables['Neighborhood'] = neighborhood_conversion\n"
     ]
    }
   ],
   "source": [
    "categorical_variables['Neighborhood'] = neighborhood_conversion"
   ]
  },
  {
   "cell_type": "code",
   "execution_count": 7791,
   "metadata": {},
   "outputs": [],
   "source": [
    "#For test set\n",
    "\n",
    "neighborhood_conversion = []\n",
    "\n",
    "for i in test['Neighborhood']:\n",
    "    neighborhood_conversion.append(neighb_avg['SalePrice'][i])"
   ]
  },
  {
   "cell_type": "code",
   "execution_count": 7792,
   "metadata": {},
   "outputs": [],
   "source": [
    "test['Neighborhood'] = neighborhood_conversion"
   ]
  },
  {
   "cell_type": "code",
   "execution_count": 7793,
   "metadata": {},
   "outputs": [],
   "source": [
    "#Adding this to numeric variables\n",
    "\n",
    "numeric_variables['Neighborhood'] = categorical_variables['Neighborhood']"
   ]
  },
  {
   "cell_type": "code",
   "execution_count": 7794,
   "metadata": {},
   "outputs": [
    {
     "name": "stderr",
     "output_type": "stream",
     "text": [
      "C:\\Users\\Anonymous\\anaconda3\\lib\\site-packages\\pandas\\core\\frame.py:4163: SettingWithCopyWarning: \n",
      "A value is trying to be set on a copy of a slice from a DataFrame\n",
      "\n",
      "See the caveats in the documentation: https://pandas.pydata.org/pandas-docs/stable/user_guide/indexing.html#returning-a-view-versus-a-copy\n",
      "  return super().drop(\n"
     ]
    }
   ],
   "source": [
    "categorical_variables.drop(columns = 'Neighborhood', inplace = True)"
   ]
  },
  {
   "cell_type": "code",
   "execution_count": 7795,
   "metadata": {},
   "outputs": [
    {
     "name": "stderr",
     "output_type": "stream",
     "text": [
      "C:\\Users\\Anonymous\\anaconda3\\lib\\site-packages\\IPython\\core\\displayhook.py:275: UserWarning: Output cache limit (currently 1000 entries) hit.\n",
      "Flushing oldest 200 entries.\n",
      "  warn('Output cache limit (currently {sz} entries) hit.\\n'\n"
     ]
    },
    {
     "data": {
      "text/html": [
       "<div>\n",
       "<style scoped>\n",
       "    .dataframe tbody tr th:only-of-type {\n",
       "        vertical-align: middle;\n",
       "    }\n",
       "\n",
       "    .dataframe tbody tr th {\n",
       "        vertical-align: top;\n",
       "    }\n",
       "\n",
       "    .dataframe thead th {\n",
       "        text-align: right;\n",
       "    }\n",
       "</style>\n",
       "<table border=\"1\" class=\"dataframe\">\n",
       "  <thead>\n",
       "    <tr style=\"text-align: right;\">\n",
       "      <th></th>\n",
       "      <th>Lot Frontage</th>\n",
       "      <th>Lot Area</th>\n",
       "      <th>Overall Qual</th>\n",
       "      <th>property_age</th>\n",
       "      <th>Year Remod/Add</th>\n",
       "      <th>Mas Vnr Area</th>\n",
       "      <th>BsmtFin SF 1</th>\n",
       "      <th>Total Bsmt SF</th>\n",
       "      <th>1st Flr SF</th>\n",
       "      <th>2nd Flr SF</th>\n",
       "      <th>...</th>\n",
       "      <th>Half Bath</th>\n",
       "      <th>TotRms AbvGrd</th>\n",
       "      <th>Fireplaces</th>\n",
       "      <th>Garage Cars</th>\n",
       "      <th>Garage Area</th>\n",
       "      <th>Wood Deck SF</th>\n",
       "      <th>Open Porch SF</th>\n",
       "      <th>SalePrice</th>\n",
       "      <th>log_SalePrice</th>\n",
       "      <th>Neighborhood</th>\n",
       "    </tr>\n",
       "  </thead>\n",
       "  <tbody>\n",
       "    <tr>\n",
       "      <th>0</th>\n",
       "      <td>69.0552</td>\n",
       "      <td>13517</td>\n",
       "      <td>6</td>\n",
       "      <td>34</td>\n",
       "      <td>5</td>\n",
       "      <td>289.0</td>\n",
       "      <td>533.0</td>\n",
       "      <td>725.0</td>\n",
       "      <td>725</td>\n",
       "      <td>754</td>\n",
       "      <td>...</td>\n",
       "      <td>1</td>\n",
       "      <td>6</td>\n",
       "      <td>0</td>\n",
       "      <td>1.0</td>\n",
       "      <td>475.0</td>\n",
       "      <td>0</td>\n",
       "      <td>44</td>\n",
       "      <td>130500</td>\n",
       "      <td>11.779129</td>\n",
       "      <td>0</td>\n",
       "    </tr>\n",
       "    <tr>\n",
       "      <th>1</th>\n",
       "      <td>43.0000</td>\n",
       "      <td>11492</td>\n",
       "      <td>7</td>\n",
       "      <td>14</td>\n",
       "      <td>13</td>\n",
       "      <td>132.0</td>\n",
       "      <td>637.0</td>\n",
       "      <td>913.0</td>\n",
       "      <td>913</td>\n",
       "      <td>1209</td>\n",
       "      <td>...</td>\n",
       "      <td>1</td>\n",
       "      <td>8</td>\n",
       "      <td>1</td>\n",
       "      <td>1.0</td>\n",
       "      <td>559.0</td>\n",
       "      <td>0</td>\n",
       "      <td>74</td>\n",
       "      <td>220000</td>\n",
       "      <td>12.301383</td>\n",
       "      <td>1</td>\n",
       "    </tr>\n",
       "    <tr>\n",
       "      <th>2</th>\n",
       "      <td>68.0000</td>\n",
       "      <td>7922</td>\n",
       "      <td>5</td>\n",
       "      <td>57</td>\n",
       "      <td>3</td>\n",
       "      <td>0.0</td>\n",
       "      <td>731.0</td>\n",
       "      <td>1057.0</td>\n",
       "      <td>1057</td>\n",
       "      <td>0</td>\n",
       "      <td>...</td>\n",
       "      <td>0</td>\n",
       "      <td>5</td>\n",
       "      <td>0</td>\n",
       "      <td>0.0</td>\n",
       "      <td>246.0</td>\n",
       "      <td>0</td>\n",
       "      <td>52</td>\n",
       "      <td>109000</td>\n",
       "      <td>11.599103</td>\n",
       "      <td>0</td>\n",
       "    </tr>\n",
       "    <tr>\n",
       "      <th>3</th>\n",
       "      <td>73.0000</td>\n",
       "      <td>9802</td>\n",
       "      <td>5</td>\n",
       "      <td>4</td>\n",
       "      <td>3</td>\n",
       "      <td>0.0</td>\n",
       "      <td>0.0</td>\n",
       "      <td>384.0</td>\n",
       "      <td>744</td>\n",
       "      <td>700</td>\n",
       "      <td>...</td>\n",
       "      <td>1</td>\n",
       "      <td>7</td>\n",
       "      <td>0</td>\n",
       "      <td>1.0</td>\n",
       "      <td>400.0</td>\n",
       "      <td>100</td>\n",
       "      <td>0</td>\n",
       "      <td>174000</td>\n",
       "      <td>12.066811</td>\n",
       "      <td>1</td>\n",
       "    </tr>\n",
       "    <tr>\n",
       "      <th>4</th>\n",
       "      <td>82.0000</td>\n",
       "      <td>14235</td>\n",
       "      <td>6</td>\n",
       "      <td>110</td>\n",
       "      <td>17</td>\n",
       "      <td>0.0</td>\n",
       "      <td>0.0</td>\n",
       "      <td>676.0</td>\n",
       "      <td>831</td>\n",
       "      <td>614</td>\n",
       "      <td>...</td>\n",
       "      <td>0</td>\n",
       "      <td>6</td>\n",
       "      <td>0</td>\n",
       "      <td>1.0</td>\n",
       "      <td>484.0</td>\n",
       "      <td>0</td>\n",
       "      <td>59</td>\n",
       "      <td>138500</td>\n",
       "      <td>11.838626</td>\n",
       "      <td>1</td>\n",
       "    </tr>\n",
       "    <tr>\n",
       "      <th>...</th>\n",
       "      <td>...</td>\n",
       "      <td>...</td>\n",
       "      <td>...</td>\n",
       "      <td>...</td>\n",
       "      <td>...</td>\n",
       "      <td>...</td>\n",
       "      <td>...</td>\n",
       "      <td>...</td>\n",
       "      <td>...</td>\n",
       "      <td>...</td>\n",
       "      <td>...</td>\n",
       "      <td>...</td>\n",
       "      <td>...</td>\n",
       "      <td>...</td>\n",
       "      <td>...</td>\n",
       "      <td>...</td>\n",
       "      <td>...</td>\n",
       "      <td>...</td>\n",
       "      <td>...</td>\n",
       "      <td>...</td>\n",
       "      <td>...</td>\n",
       "    </tr>\n",
       "    <tr>\n",
       "      <th>2046</th>\n",
       "      <td>79.0000</td>\n",
       "      <td>11449</td>\n",
       "      <td>8</td>\n",
       "      <td>3</td>\n",
       "      <td>3</td>\n",
       "      <td>0.0</td>\n",
       "      <td>1011.0</td>\n",
       "      <td>1884.0</td>\n",
       "      <td>1728</td>\n",
       "      <td>0</td>\n",
       "      <td>...</td>\n",
       "      <td>0</td>\n",
       "      <td>7</td>\n",
       "      <td>1</td>\n",
       "      <td>1.0</td>\n",
       "      <td>520.0</td>\n",
       "      <td>0</td>\n",
       "      <td>276</td>\n",
       "      <td>298751</td>\n",
       "      <td>12.607366</td>\n",
       "      <td>1</td>\n",
       "    </tr>\n",
       "    <tr>\n",
       "      <th>2047</th>\n",
       "      <td>69.0552</td>\n",
       "      <td>12342</td>\n",
       "      <td>4</td>\n",
       "      <td>70</td>\n",
       "      <td>60</td>\n",
       "      <td>0.0</td>\n",
       "      <td>262.0</td>\n",
       "      <td>861.0</td>\n",
       "      <td>861</td>\n",
       "      <td>0</td>\n",
       "      <td>...</td>\n",
       "      <td>0</td>\n",
       "      <td>4</td>\n",
       "      <td>0</td>\n",
       "      <td>1.0</td>\n",
       "      <td>539.0</td>\n",
       "      <td>158</td>\n",
       "      <td>0</td>\n",
       "      <td>82500</td>\n",
       "      <td>11.320554</td>\n",
       "      <td>0</td>\n",
       "    </tr>\n",
       "    <tr>\n",
       "      <th>2048</th>\n",
       "      <td>57.0000</td>\n",
       "      <td>7558</td>\n",
       "      <td>6</td>\n",
       "      <td>82</td>\n",
       "      <td>60</td>\n",
       "      <td>0.0</td>\n",
       "      <td>0.0</td>\n",
       "      <td>896.0</td>\n",
       "      <td>1172</td>\n",
       "      <td>741</td>\n",
       "      <td>...</td>\n",
       "      <td>1</td>\n",
       "      <td>9</td>\n",
       "      <td>1</td>\n",
       "      <td>1.0</td>\n",
       "      <td>342.0</td>\n",
       "      <td>0</td>\n",
       "      <td>0</td>\n",
       "      <td>177000</td>\n",
       "      <td>12.083905</td>\n",
       "      <td>1</td>\n",
       "    </tr>\n",
       "    <tr>\n",
       "      <th>2049</th>\n",
       "      <td>80.0000</td>\n",
       "      <td>10400</td>\n",
       "      <td>4</td>\n",
       "      <td>54</td>\n",
       "      <td>54</td>\n",
       "      <td>0.0</td>\n",
       "      <td>155.0</td>\n",
       "      <td>1200.0</td>\n",
       "      <td>1200</td>\n",
       "      <td>0</td>\n",
       "      <td>...</td>\n",
       "      <td>0</td>\n",
       "      <td>6</td>\n",
       "      <td>2</td>\n",
       "      <td>0.0</td>\n",
       "      <td>294.0</td>\n",
       "      <td>0</td>\n",
       "      <td>189</td>\n",
       "      <td>144000</td>\n",
       "      <td>11.877569</td>\n",
       "      <td>0</td>\n",
       "    </tr>\n",
       "    <tr>\n",
       "      <th>2050</th>\n",
       "      <td>60.0000</td>\n",
       "      <td>7500</td>\n",
       "      <td>7</td>\n",
       "      <td>11</td>\n",
       "      <td>11</td>\n",
       "      <td>0.0</td>\n",
       "      <td>0.0</td>\n",
       "      <td>994.0</td>\n",
       "      <td>1028</td>\n",
       "      <td>776</td>\n",
       "      <td>...</td>\n",
       "      <td>1</td>\n",
       "      <td>7</td>\n",
       "      <td>1</td>\n",
       "      <td>1.0</td>\n",
       "      <td>442.0</td>\n",
       "      <td>140</td>\n",
       "      <td>60</td>\n",
       "      <td>189000</td>\n",
       "      <td>12.149502</td>\n",
       "      <td>1</td>\n",
       "    </tr>\n",
       "  </tbody>\n",
       "</table>\n",
       "<p>2046 rows × 23 columns</p>\n",
       "</div>"
      ],
      "text/plain": [
       "      Lot Frontage  Lot Area  Overall Qual  property_age  Year Remod/Add  \\\n",
       "0          69.0552     13517             6            34               5   \n",
       "1          43.0000     11492             7            14              13   \n",
       "2          68.0000      7922             5            57               3   \n",
       "3          73.0000      9802             5             4               3   \n",
       "4          82.0000     14235             6           110              17   \n",
       "...            ...       ...           ...           ...             ...   \n",
       "2046       79.0000     11449             8             3               3   \n",
       "2047       69.0552     12342             4            70              60   \n",
       "2048       57.0000      7558             6            82              60   \n",
       "2049       80.0000     10400             4            54              54   \n",
       "2050       60.0000      7500             7            11              11   \n",
       "\n",
       "      Mas Vnr Area  BsmtFin SF 1  Total Bsmt SF  1st Flr SF  2nd Flr SF  ...  \\\n",
       "0            289.0         533.0          725.0         725         754  ...   \n",
       "1            132.0         637.0          913.0         913        1209  ...   \n",
       "2              0.0         731.0         1057.0        1057           0  ...   \n",
       "3              0.0           0.0          384.0         744         700  ...   \n",
       "4              0.0           0.0          676.0         831         614  ...   \n",
       "...            ...           ...            ...         ...         ...  ...   \n",
       "2046           0.0        1011.0         1884.0        1728           0  ...   \n",
       "2047           0.0         262.0          861.0         861           0  ...   \n",
       "2048           0.0           0.0          896.0        1172         741  ...   \n",
       "2049           0.0         155.0         1200.0        1200           0  ...   \n",
       "2050           0.0           0.0          994.0        1028         776  ...   \n",
       "\n",
       "      Half Bath  TotRms AbvGrd  Fireplaces  Garage Cars  Garage Area  \\\n",
       "0             1              6           0          1.0        475.0   \n",
       "1             1              8           1          1.0        559.0   \n",
       "2             0              5           0          0.0        246.0   \n",
       "3             1              7           0          1.0        400.0   \n",
       "4             0              6           0          1.0        484.0   \n",
       "...         ...            ...         ...          ...          ...   \n",
       "2046          0              7           1          1.0        520.0   \n",
       "2047          0              4           0          1.0        539.0   \n",
       "2048          1              9           1          1.0        342.0   \n",
       "2049          0              6           2          0.0        294.0   \n",
       "2050          1              7           1          1.0        442.0   \n",
       "\n",
       "      Wood Deck SF  Open Porch SF  SalePrice  log_SalePrice  Neighborhood  \n",
       "0                0             44     130500      11.779129             0  \n",
       "1                0             74     220000      12.301383             1  \n",
       "2                0             52     109000      11.599103             0  \n",
       "3              100              0     174000      12.066811             1  \n",
       "4                0             59     138500      11.838626             1  \n",
       "...            ...            ...        ...            ...           ...  \n",
       "2046             0            276     298751      12.607366             1  \n",
       "2047           158              0      82500      11.320554             0  \n",
       "2048             0              0     177000      12.083905             1  \n",
       "2049             0            189     144000      11.877569             0  \n",
       "2050           140             60     189000      12.149502             1  \n",
       "\n",
       "[2046 rows x 23 columns]"
      ]
     },
     "execution_count": 7795,
     "metadata": {},
     "output_type": "execute_result"
    }
   ],
   "source": [
    "numeric_variables"
   ]
  },
  {
   "cell_type": "markdown",
   "metadata": {},
   "source": [
    "## Linear Model Retest with Dummied Variable"
   ]
  },
  {
   "cell_type": "code",
   "execution_count": 7796,
   "metadata": {},
   "outputs": [
    {
     "name": "stderr",
     "output_type": "stream",
     "text": [
      "<ipython-input-7796-66dce41e6a0a>:1: SettingWithCopyWarning: \n",
      "A value is trying to be set on a copy of a slice from a DataFrame.\n",
      "Try using .loc[row_indexer,col_indexer] = value instead\n",
      "\n",
      "See the caveats in the documentation: https://pandas.pydata.org/pandas-docs/stable/user_guide/indexing.html#returning-a-view-versus-a-copy\n",
      "  X['Neighborhood'] = numeric_variables['Neighborhood']\n"
     ]
    }
   ],
   "source": [
    "X['Neighborhood'] = numeric_variables['Neighborhood']"
   ]
  },
  {
   "cell_type": "code",
   "execution_count": 7797,
   "metadata": {},
   "outputs": [
    {
     "data": {
      "text/plain": [
       "0.8388831805975843"
      ]
     },
     "execution_count": 7797,
     "metadata": {},
     "output_type": "execute_result"
    }
   ],
   "source": [
    "cross_val_score(lr, X, y, cv = 20).mean()"
   ]
  },
  {
   "cell_type": "code",
   "execution_count": 7798,
   "metadata": {},
   "outputs": [],
   "source": [
    "X_train, X_test, y_train, y_test = train_test_split(X, y, test_size = 0.05)"
   ]
  },
  {
   "cell_type": "code",
   "execution_count": 7799,
   "metadata": {},
   "outputs": [
    {
     "data": {
      "text/plain": [
       "LinearRegression()"
      ]
     },
     "execution_count": 7799,
     "metadata": {},
     "output_type": "execute_result"
    }
   ],
   "source": [
    "lr.fit(X_train, y_train)"
   ]
  },
  {
   "cell_type": "code",
   "execution_count": 7800,
   "metadata": {},
   "outputs": [
    {
     "data": {
      "text/plain": [
       "0.8315436426755272"
      ]
     },
     "execution_count": 7800,
     "metadata": {},
     "output_type": "execute_result"
    }
   ],
   "source": [
    "lr.score(X_test, y_test)"
   ]
  },
  {
   "cell_type": "code",
   "execution_count": 7801,
   "metadata": {},
   "outputs": [],
   "source": [
    "residuals = y_test - lr.predict(X_test)"
   ]
  },
  {
   "cell_type": "code",
   "execution_count": 7802,
   "metadata": {},
   "outputs": [
    {
     "data": {
      "image/png": "[encoded data removed]",
      "text/plain": [
       "<Figure size 432x288 with 1 Axes>"
      ]
     },
     "metadata": {
      "needs_background": "light"
     },
     "output_type": "display_data"
    }
   ],
   "source": [
    "sns.histplot(residuals, kde = True)\n",
    "plt.title('Residual Distribution Plot')\n",
    "plt.xlabel('Residuals');"
   ]
  },
  {
   "cell_type": "code",
   "execution_count": 7803,
   "metadata": {},
   "outputs": [
    {
     "data": {
      "text/plain": [
       "-0.5585781378984385"
      ]
     },
     "execution_count": 7803,
     "metadata": {},
     "output_type": "execute_result"
    }
   ],
   "source": [
    "#Residuals are normally distributed.\n",
    "\n",
    "residuals.skew()"
   ]
  },
  {
   "cell_type": "code",
   "execution_count": 7804,
   "metadata": {},
   "outputs": [
    {
     "name": "stderr",
     "output_type": "stream",
     "text": [
      "C:\\Users\\Anonymous\\anaconda3\\lib\\site-packages\\seaborn\\_decorators.py:36: FutureWarning: Pass the following variables as keyword args: x, y. From version 0.12, the only valid positional argument will be `data`, and passing other arguments without an explicit keyword will result in an error or misinterpretation.\n",
      "  warnings.warn(\n"
     ]
    },
    {
     "data": {
      "image/png": "[encoded data removed]",
      "text/plain": [
       "<Figure size 432x288 with 1 Axes>"
      ]
     },
     "metadata": {
      "needs_background": "light"
     },
     "output_type": "display_data"
    }
   ],
   "source": [
    "#This is a random distribution so that fits the equal variance assumption. \n",
    "\n",
    "sns.scatterplot(lr.predict(X_test), residuals)\n",
    "plt.title('Residuals vs Predicted Value')\n",
    "plt.xlabel('Predicted Value')\n",
    "plt.ylabel('Residual');"
   ]
  },
  {
   "cell_type": "markdown",
   "metadata": {},
   "source": [
    "## Lasso Model With Dummied Variable"
   ]
  },
  {
   "cell_type": "code",
   "execution_count": 7805,
   "metadata": {
    "scrolled": true
   },
   "outputs": [
    {
     "name": "stderr",
     "output_type": "stream",
     "text": [
      "C:\\Users\\Anonymous\\anaconda3\\lib\\site-packages\\sklearn\\linear_model\\_coordinate_descent.py:529: ConvergenceWarning: Objective did not converge. You might want to increase the number of iterations. Duality gap: 20.550069827341897, tolerance: 0.031838186795103814\n",
      "  model = cd_fast.enet_coordinate_descent(\n",
      "C:\\Users\\Anonymous\\anaconda3\\lib\\site-packages\\sklearn\\linear_model\\_coordinate_descent.py:529: ConvergenceWarning: Objective did not converge. You might want to increase the number of iterations. Duality gap: 21.899217629880205, tolerance: 0.03152837967035225\n",
      "  model = cd_fast.enet_coordinate_descent(\n",
      "C:\\Users\\Anonymous\\anaconda3\\lib\\site-packages\\sklearn\\linear_model\\_coordinate_descent.py:529: ConvergenceWarning: Objective did not converge. You might want to increase the number of iterations. Duality gap: 21.789830764964357, tolerance: 0.032057983322464005\n",
      "  model = cd_fast.enet_coordinate_descent(\n",
      "C:\\Users\\Anonymous\\anaconda3\\lib\\site-packages\\sklearn\\linear_model\\_coordinate_descent.py:529: ConvergenceWarning: Objective did not converge. You might want to increase the number of iterations. Duality gap: 22.936896025441083, tolerance: 0.031321893376402773\n",
      "  model = cd_fast.enet_coordinate_descent(\n",
      "C:\\Users\\Anonymous\\anaconda3\\lib\\site-packages\\sklearn\\linear_model\\_coordinate_descent.py:529: ConvergenceWarning: Objective did not converge. You might want to increase the number of iterations. Duality gap: 22.343890373737423, tolerance: 0.031636726251758174\n",
      "  model = cd_fast.enet_coordinate_descent(\n",
      "C:\\Users\\Anonymous\\anaconda3\\lib\\site-packages\\sklearn\\linear_model\\_coordinate_descent.py:529: ConvergenceWarning: Objective did not converge. You might want to increase the number of iterations. Duality gap: 21.977970380575663, tolerance: 0.031990140421279865\n",
      "  model = cd_fast.enet_coordinate_descent(\n",
      "C:\\Users\\Anonymous\\anaconda3\\lib\\site-packages\\sklearn\\linear_model\\_coordinate_descent.py:529: ConvergenceWarning: Objective did not converge. You might want to increase the number of iterations. Duality gap: 20.524485102663593, tolerance: 0.0313816932464935\n",
      "  model = cd_fast.enet_coordinate_descent(\n",
      "C:\\Users\\Anonymous\\anaconda3\\lib\\site-packages\\sklearn\\linear_model\\_coordinate_descent.py:529: ConvergenceWarning: Objective did not converge. You might want to increase the number of iterations. Duality gap: 21.270590625723965, tolerance: 0.03200681164860936\n",
      "  model = cd_fast.enet_coordinate_descent(\n",
      "C:\\Users\\Anonymous\\anaconda3\\lib\\site-packages\\sklearn\\linear_model\\_coordinate_descent.py:529: ConvergenceWarning: Objective did not converge. You might want to increase the number of iterations. Duality gap: 22.329732275986945, tolerance: 0.03187407243633861\n",
      "  model = cd_fast.enet_coordinate_descent(\n",
      "C:\\Users\\Anonymous\\anaconda3\\lib\\site-packages\\sklearn\\linear_model\\_coordinate_descent.py:529: ConvergenceWarning: Objective did not converge. You might want to increase the number of iterations. Duality gap: 18.89427203211464, tolerance: 0.031799919607132854\n",
      "  model = cd_fast.enet_coordinate_descent(\n",
      "C:\\Users\\Anonymous\\anaconda3\\lib\\site-packages\\sklearn\\linear_model\\_coordinate_descent.py:529: ConvergenceWarning: Objective did not converge. You might want to increase the number of iterations. Duality gap: 21.180825075883423, tolerance: 0.031818362106599316\n",
      "  model = cd_fast.enet_coordinate_descent(\n",
      "C:\\Users\\Anonymous\\anaconda3\\lib\\site-packages\\sklearn\\linear_model\\_coordinate_descent.py:529: ConvergenceWarning: Objective did not converge. You might want to increase the number of iterations. Duality gap: 19.50870881490077, tolerance: 0.03157314968497104\n",
      "  model = cd_fast.enet_coordinate_descent(\n",
      "C:\\Users\\Anonymous\\anaconda3\\lib\\site-packages\\sklearn\\linear_model\\_coordinate_descent.py:529: ConvergenceWarning: Objective did not converge. You might want to increase the number of iterations. Duality gap: 22.145130585092403, tolerance: 0.03136301109568202\n",
      "  model = cd_fast.enet_coordinate_descent(\n",
      "C:\\Users\\Anonymous\\anaconda3\\lib\\site-packages\\sklearn\\linear_model\\_coordinate_descent.py:529: ConvergenceWarning: Objective did not converge. You might want to increase the number of iterations. Duality gap: 22.88545821840661, tolerance: 0.031370056011843096\n",
      "  model = cd_fast.enet_coordinate_descent(\n",
      "C:\\Users\\Anonymous\\anaconda3\\lib\\site-packages\\sklearn\\linear_model\\_coordinate_descent.py:529: ConvergenceWarning: Objective did not converge. You might want to increase the number of iterations. Duality gap: 21.3060485039846, tolerance: 0.0318394345378268\n",
      "  model = cd_fast.enet_coordinate_descent(\n",
      "C:\\Users\\Anonymous\\anaconda3\\lib\\site-packages\\sklearn\\linear_model\\_coordinate_descent.py:529: ConvergenceWarning: Objective did not converge. You might want to increase the number of iterations. Duality gap: 21.79686660454347, tolerance: 0.03161036844384828\n",
      "  model = cd_fast.enet_coordinate_descent(\n",
      "C:\\Users\\Anonymous\\anaconda3\\lib\\site-packages\\sklearn\\linear_model\\_coordinate_descent.py:529: ConvergenceWarning: Objective did not converge. You might want to increase the number of iterations. Duality gap: 23.311631712856357, tolerance: 0.031444696363899974\n",
      "  model = cd_fast.enet_coordinate_descent(\n",
      "C:\\Users\\Anonymous\\anaconda3\\lib\\site-packages\\sklearn\\linear_model\\_coordinate_descent.py:529: ConvergenceWarning: Objective did not converge. You might want to increase the number of iterations. Duality gap: 23.440010684805443, tolerance: 0.03158511477040073\n",
      "  model = cd_fast.enet_coordinate_descent(\n",
      "C:\\Users\\Anonymous\\anaconda3\\lib\\site-packages\\sklearn\\linear_model\\_coordinate_descent.py:529: ConvergenceWarning: Objective did not converge. You might want to increase the number of iterations. Duality gap: 15.872851828801311, tolerance: 0.03211515912885368\n",
      "  model = cd_fast.enet_coordinate_descent(\n",
      "C:\\Users\\Anonymous\\anaconda3\\lib\\site-packages\\sklearn\\linear_model\\_coordinate_descent.py:529: ConvergenceWarning: Objective did not converge. You might want to increase the number of iterations. Duality gap: 16.81220769112516, tolerance: 0.0314963233389811\n",
      "  model = cd_fast.enet_coordinate_descent(\n"
     ]
    },
    {
     "name": "stdout",
     "output_type": "stream",
     "text": [
      "{'alpha': 1e-15}\n",
      "0.8388831805975835\n"
     ]
    },
    {
     "name": "stderr",
     "output_type": "stream",
     "text": [
      "C:\\Users\\Anonymous\\anaconda3\\lib\\site-packages\\sklearn\\linear_model\\_coordinate_descent.py:529: ConvergenceWarning: Objective did not converge. You might want to increase the number of iterations. Duality gap: 24.819731910417516, tolerance: 0.0333510426955359\n",
      "  model = cd_fast.enet_coordinate_descent(\n"
     ]
    }
   ],
   "source": [
    "lasso_regressor = GridSearchCV(lasso, parameters, scoring = 'r2', cv = 20)\n",
    "lasso_regressor.fit(X, y)\n",
    "print(lasso_regressor.best_params_)\n",
    "print(lasso_regressor.best_score_)"
   ]
  },
  {
   "cell_type": "code",
   "execution_count": 7806,
   "metadata": {
    "scrolled": true
   },
   "outputs": [
    {
     "name": "stderr",
     "output_type": "stream",
     "text": [
      "C:\\Users\\Anonymous\\anaconda3\\lib\\site-packages\\sklearn\\linear_model\\_coordinate_descent.py:529: ConvergenceWarning: Objective did not converge. You might want to increase the number of iterations. Duality gap: 20.550069827341897, tolerance: 0.031838186795103814\n",
      "  model = cd_fast.enet_coordinate_descent(\n",
      "C:\\Users\\Anonymous\\anaconda3\\lib\\site-packages\\sklearn\\linear_model\\_coordinate_descent.py:529: ConvergenceWarning: Objective did not converge. You might want to increase the number of iterations. Duality gap: 21.899217629880205, tolerance: 0.03152837967035225\n",
      "  model = cd_fast.enet_coordinate_descent(\n",
      "C:\\Users\\Anonymous\\anaconda3\\lib\\site-packages\\sklearn\\linear_model\\_coordinate_descent.py:529: ConvergenceWarning: Objective did not converge. You might want to increase the number of iterations. Duality gap: 21.789830764964357, tolerance: 0.032057983322464005\n",
      "  model = cd_fast.enet_coordinate_descent(\n",
      "C:\\Users\\Anonymous\\anaconda3\\lib\\site-packages\\sklearn\\linear_model\\_coordinate_descent.py:529: ConvergenceWarning: Objective did not converge. You might want to increase the number of iterations. Duality gap: 22.936896025441083, tolerance: 0.031321893376402773\n",
      "  model = cd_fast.enet_coordinate_descent(\n",
      "C:\\Users\\Anonymous\\anaconda3\\lib\\site-packages\\sklearn\\linear_model\\_coordinate_descent.py:529: ConvergenceWarning: Objective did not converge. You might want to increase the number of iterations. Duality gap: 22.343890373737423, tolerance: 0.031636726251758174\n",
      "  model = cd_fast.enet_coordinate_descent(\n",
      "C:\\Users\\Anonymous\\anaconda3\\lib\\site-packages\\sklearn\\linear_model\\_coordinate_descent.py:529: ConvergenceWarning: Objective did not converge. You might want to increase the number of iterations. Duality gap: 21.977970380575663, tolerance: 0.031990140421279865\n",
      "  model = cd_fast.enet_coordinate_descent(\n",
      "C:\\Users\\Anonymous\\anaconda3\\lib\\site-packages\\sklearn\\linear_model\\_coordinate_descent.py:529: ConvergenceWarning: Objective did not converge. You might want to increase the number of iterations. Duality gap: 20.524485102663593, tolerance: 0.0313816932464935\n",
      "  model = cd_fast.enet_coordinate_descent(\n",
      "C:\\Users\\Anonymous\\anaconda3\\lib\\site-packages\\sklearn\\linear_model\\_coordinate_descent.py:529: ConvergenceWarning: Objective did not converge. You might want to increase the number of iterations. Duality gap: 21.270590625723965, tolerance: 0.03200681164860936\n",
      "  model = cd_fast.enet_coordinate_descent(\n",
      "C:\\Users\\Anonymous\\anaconda3\\lib\\site-packages\\sklearn\\linear_model\\_coordinate_descent.py:529: ConvergenceWarning: Objective did not converge. You might want to increase the number of iterations. Duality gap: 22.329732275986945, tolerance: 0.03187407243633861\n",
      "  model = cd_fast.enet_coordinate_descent(\n",
      "C:\\Users\\Anonymous\\anaconda3\\lib\\site-packages\\sklearn\\linear_model\\_coordinate_descent.py:529: ConvergenceWarning: Objective did not converge. You might want to increase the number of iterations. Duality gap: 18.89427203211464, tolerance: 0.031799919607132854\n",
      "  model = cd_fast.enet_coordinate_descent(\n",
      "C:\\Users\\Anonymous\\anaconda3\\lib\\site-packages\\sklearn\\linear_model\\_coordinate_descent.py:529: ConvergenceWarning: Objective did not converge. You might want to increase the number of iterations. Duality gap: 21.180825075883423, tolerance: 0.031818362106599316\n",
      "  model = cd_fast.enet_coordinate_descent(\n",
      "C:\\Users\\Anonymous\\anaconda3\\lib\\site-packages\\sklearn\\linear_model\\_coordinate_descent.py:529: ConvergenceWarning: Objective did not converge. You might want to increase the number of iterations. Duality gap: 19.50870881490077, tolerance: 0.03157314968497104\n",
      "  model = cd_fast.enet_coordinate_descent(\n",
      "C:\\Users\\Anonymous\\anaconda3\\lib\\site-packages\\sklearn\\linear_model\\_coordinate_descent.py:529: ConvergenceWarning: Objective did not converge. You might want to increase the number of iterations. Duality gap: 22.145130585092403, tolerance: 0.03136301109568202\n",
      "  model = cd_fast.enet_coordinate_descent(\n",
      "C:\\Users\\Anonymous\\anaconda3\\lib\\site-packages\\sklearn\\linear_model\\_coordinate_descent.py:529: ConvergenceWarning: Objective did not converge. You might want to increase the number of iterations. Duality gap: 22.88545821840661, tolerance: 0.031370056011843096\n",
      "  model = cd_fast.enet_coordinate_descent(\n",
      "C:\\Users\\Anonymous\\anaconda3\\lib\\site-packages\\sklearn\\linear_model\\_coordinate_descent.py:529: ConvergenceWarning: Objective did not converge. You might want to increase the number of iterations. Duality gap: 21.3060485039846, tolerance: 0.0318394345378268\n",
      "  model = cd_fast.enet_coordinate_descent(\n",
      "C:\\Users\\Anonymous\\anaconda3\\lib\\site-packages\\sklearn\\linear_model\\_coordinate_descent.py:529: ConvergenceWarning: Objective did not converge. You might want to increase the number of iterations. Duality gap: 21.79686660454347, tolerance: 0.03161036844384828\n",
      "  model = cd_fast.enet_coordinate_descent(\n",
      "C:\\Users\\Anonymous\\anaconda3\\lib\\site-packages\\sklearn\\linear_model\\_coordinate_descent.py:529: ConvergenceWarning: Objective did not converge. You might want to increase the number of iterations. Duality gap: 23.311631712856357, tolerance: 0.031444696363899974\n",
      "  model = cd_fast.enet_coordinate_descent(\n",
      "C:\\Users\\Anonymous\\anaconda3\\lib\\site-packages\\sklearn\\linear_model\\_coordinate_descent.py:529: ConvergenceWarning: Objective did not converge. You might want to increase the number of iterations. Duality gap: 23.440010684805443, tolerance: 0.03158511477040073\n",
      "  model = cd_fast.enet_coordinate_descent(\n",
      "C:\\Users\\Anonymous\\anaconda3\\lib\\site-packages\\sklearn\\linear_model\\_coordinate_descent.py:529: ConvergenceWarning: Objective did not converge. You might want to increase the number of iterations. Duality gap: 15.872851828801311, tolerance: 0.03211515912885368\n",
      "  model = cd_fast.enet_coordinate_descent(\n",
      "C:\\Users\\Anonymous\\anaconda3\\lib\\site-packages\\sklearn\\linear_model\\_coordinate_descent.py:529: ConvergenceWarning: Objective did not converge. You might want to increase the number of iterations. Duality gap: 16.81220769112516, tolerance: 0.0314963233389811\n",
      "  model = cd_fast.enet_coordinate_descent(\n"
     ]
    },
    {
     "name": "stdout",
     "output_type": "stream",
     "text": [
      "{'alpha': 1e-08}\n",
      "-0.11534023295403624\n"
     ]
    }
   ],
   "source": [
    "lasso_regressor = GridSearchCV(lasso, parameters, scoring = 'neg_mean_absolute_error', cv = 20)\n",
    "lasso_regressor.fit(X, y)\n",
    "print(lasso_regressor.best_params_)\n",
    "print(lasso_regressor.best_score_)"
   ]
  },
  {
   "cell_type": "markdown",
   "metadata": {},
   "source": [
    "Lasso didn't really give me results that I wanted so I won't be using this model."
   ]
  },
  {
   "cell_type": "markdown",
   "metadata": {},
   "source": [
    "## Ridge Model with Dummied Variables"
   ]
  },
  {
   "cell_type": "code",
   "execution_count": 7807,
   "metadata": {},
   "outputs": [
    {
     "name": "stdout",
     "output_type": "stream",
     "text": [
      "{'alpha': 5}\n",
      "0.8388898703957384\n"
     ]
    }
   ],
   "source": [
    "ridge_regressor = GridSearchCV(ridge, parameters, scoring = 'r2', cv = 20)\n",
    "ridge_regressor.fit(X, y)\n",
    "print(ridge_regressor.best_params_)\n",
    "print(ridge_regressor.best_score_)"
   ]
  },
  {
   "cell_type": "code",
   "execution_count": 7808,
   "metadata": {},
   "outputs": [
    {
     "name": "stdout",
     "output_type": "stream",
     "text": [
      "{'alpha': 100}\n",
      "-0.1150146930632688\n"
     ]
    }
   ],
   "source": [
    "ridge_regressor = GridSearchCV(ridge, parameters, scoring = 'neg_mean_absolute_error', cv = 20)\n",
    "ridge_regressor.fit(X, y)\n",
    "print(ridge_regressor.best_params_)\n",
    "print(ridge_regressor.best_score_)"
   ]
  },
  {
   "cell_type": "markdown",
   "metadata": {},
   "source": [
    "## Kaggle Submission"
   ]
  },
  {
   "cell_type": "code",
   "execution_count": 7809,
   "metadata": {},
   "outputs": [],
   "source": [
    "predictions = lr.predict(test[X.columns])"
   ]
  },
  {
   "cell_type": "code",
   "execution_count": 7810,
   "metadata": {},
   "outputs": [],
   "source": [
    "#Reversing the log to get regular prices\n",
    "unlog_predictions = np.e ** predictions"
   ]
  },
  {
   "cell_type": "code",
   "execution_count": 7811,
   "metadata": {},
   "outputs": [],
   "source": [
    "submission = pd.DataFrame()"
   ]
  },
  {
   "cell_type": "code",
   "execution_count": 7812,
   "metadata": {},
   "outputs": [],
   "source": [
    "submission['Id'] = test['Id']"
   ]
  },
  {
   "cell_type": "code",
   "execution_count": 7813,
   "metadata": {},
   "outputs": [],
   "source": [
    "submission['SalePrice'] = unlog_predictions"
   ]
  },
  {
   "cell_type": "code",
   "execution_count": 7814,
   "metadata": {},
   "outputs": [],
   "source": [
    "submission.set_index('Id', inplace = True)"
   ]
  },
  {
   "cell_type": "code",
   "execution_count": 7815,
   "metadata": {},
   "outputs": [],
   "source": [
    "submission.to_csv('submission_final.csv')"
   ]
  },
  {
   "cell_type": "markdown",
   "metadata": {},
   "source": [
    "## Inference"
   ]
  },
  {
   "cell_type": "code",
   "execution_count": 7816,
   "metadata": {},
   "outputs": [
    {
     "data": {
      "text/plain": [
       "array([ 3.11504603e-04,  3.16122349e-04,  1.37166995e-03, -1.30884938e-02,\n",
       "       -1.91541620e-03,  2.38637028e-04, -3.73175515e-03,  7.60049649e-05,\n",
       "        2.87442336e-06, -8.27619728e-03,  1.65521087e-02,  9.72771085e-02,\n",
       "        1.13556646e-04,  8.22326555e-05,  1.55888664e-04,  7.37437278e-02])"
      ]
     },
     "execution_count": 7816,
     "metadata": {},
     "output_type": "execute_result"
    }
   ],
   "source": [
    "lr.coef_"
   ]
  },
  {
   "cell_type": "code",
   "execution_count": 7817,
   "metadata": {},
   "outputs": [],
   "source": [
    "coefficients = pd.DataFrame()"
   ]
  },
  {
   "cell_type": "code",
   "execution_count": 7818,
   "metadata": {},
   "outputs": [],
   "source": [
    "coefficients['variable'] = X.columns"
   ]
  },
  {
   "cell_type": "code",
   "execution_count": 7819,
   "metadata": {},
   "outputs": [],
   "source": [
    "coefficients['coefficient'] = lr.coef_"
   ]
  },
  {
   "cell_type": "code",
   "execution_count": 7839,
   "metadata": {
    "scrolled": true
   },
   "outputs": [
    {
     "data": {
      "text/html": [
       "<div>\n",
       "<style scoped>\n",
       "    .dataframe tbody tr th:only-of-type {\n",
       "        vertical-align: middle;\n",
       "    }\n",
       "\n",
       "    .dataframe tbody tr th {\n",
       "        vertical-align: top;\n",
       "    }\n",
       "\n",
       "    .dataframe thead th {\n",
       "        text-align: right;\n",
       "    }\n",
       "</style>\n",
       "<table border=\"1\" class=\"dataframe\">\n",
       "  <thead>\n",
       "    <tr style=\"text-align: right;\">\n",
       "      <th></th>\n",
       "      <th>variable</th>\n",
       "      <th>coefficient</th>\n",
       "    </tr>\n",
       "  </thead>\n",
       "  <tbody>\n",
       "    <tr>\n",
       "      <th>11</th>\n",
       "      <td>Fireplaces</td>\n",
       "      <td>0.097277</td>\n",
       "    </tr>\n",
       "    <tr>\n",
       "      <th>15</th>\n",
       "      <td>Neighborhood</td>\n",
       "      <td>0.073744</td>\n",
       "    </tr>\n",
       "    <tr>\n",
       "      <th>10</th>\n",
       "      <td>Bsmt Full Bath</td>\n",
       "      <td>0.016552</td>\n",
       "    </tr>\n",
       "    <tr>\n",
       "      <th>2</th>\n",
       "      <td>Lot Frontage</td>\n",
       "      <td>0.001372</td>\n",
       "    </tr>\n",
       "    <tr>\n",
       "      <th>1</th>\n",
       "      <td>Garage Area</td>\n",
       "      <td>0.000316</td>\n",
       "    </tr>\n",
       "  </tbody>\n",
       "</table>\n",
       "</div>"
      ],
      "text/plain": [
       "          variable  coefficient\n",
       "11      Fireplaces     0.097277\n",
       "15    Neighborhood     0.073744\n",
       "10  Bsmt Full Bath     0.016552\n",
       "2     Lot Frontage     0.001372\n",
       "1      Garage Area     0.000316"
      ]
     },
     "execution_count": 7839,
     "metadata": {},
     "output_type": "execute_result"
    }
   ],
   "source": [
    "coefficients.sort_values('coefficient', ascending = False).head()"
   ]
  },
  {
   "cell_type": "markdown",
   "metadata": {},
   "source": [
    "From this table we can see that Fireplaces and Neighborhood have the largest effect on the price of a home in our model. This is because their coefficients are the largest."
   ]
  },
  {
   "cell_type": "markdown",
   "metadata": {},
   "source": [
    "## Conclusion and Recommendation"
   ]
  },
  {
   "cell_type": "markdown",
   "metadata": {},
   "source": [
    "Conclusion: The best models were ridge and regular linear regression, but the differences in r2 and neg_mean_absolute_error are not very significant. A success of this model is that there is limited multicolinearity and good r2 score performance. An r2 score of 0.84 and neg mean squared error if -0.12 is good performance, it means the model can account for 84% of the variance of predictor variables. A downfall of this model is that it is difficult to deal with overfitting since etting rid of multicolinearity comes with the cost of sacrificing some r2 and neg mean squared error scores.\n",
    "\n",
    "Something that could improve this project is a model that uses more advanced models such XGBoost and neural networks. These would likely be more accurate."
   ]
  },
  {
   "cell_type": "markdown",
   "metadata": {},
   "source": [
    "Recommendation: This model can be used to get an approximate value of a property and assisst in the pricing of a property."
   ]
  },
  {
   "cell_type": "markdown",
   "metadata": {},
   "source": [
    "## Visuals for presentation"
   ]
  },
  {
   "cell_type": "code",
   "execution_count": 7846,
   "metadata": {},
   "outputs": [
    {
     "data": {
      "image/png": "[encoded data removed]",
      "text/plain": [
       "<Figure size 432x288 with 1 Axes>"
      ]
     },
     "metadata": {
      "needs_background": "light"
     },
     "output_type": "display_data"
    }
   ],
   "source": [
    "sns.histplot(lr.predict(X_test), color = 'black')\n",
    "plt.title('Predicted Values')\n",
    "plt.xlabel('Value');\n",
    "plt.savefig('predicted.jpg')"
   ]
  },
  {
   "cell_type": "code",
   "execution_count": 7829,
   "metadata": {},
   "outputs": [],
   "source": [
    "actual = pd.DataFrame(y_test)"
   ]
  },
  {
   "cell_type": "code",
   "execution_count": 7843,
   "metadata": {},
   "outputs": [],
   "source": [
    "actual = actual[actual['log_SalePrice'] >= 11.25]"
   ]
  },
  {
   "cell_type": "code",
   "execution_count": 7847,
   "metadata": {},
   "outputs": [
    {
     "data": {
      "image/png": "[encoded data removed]",
      "text/plain": [
       "<Figure size 432x288 with 1 Axes>"
      ]
     },
     "metadata": {
      "needs_background": "light"
     },
     "output_type": "display_data"
    }
   ],
   "source": [
    "sns.histplot(actual['log_SalePrice'], color = 'black')\n",
    "plt.title('Actual Values')\n",
    "plt.xlabel('Value');\n",
    "plt.savefig('actual.jpg')"
   ]
  }
 ],
 "metadata": {
  "kernelspec": {
   "display_name": "Python 3",
   "language": "python",
   "name": "python3"
  },
  "language_info": {
   "codemirror_mode": {
    "name": "ipython",
    "version": 3
   },
   "file_extension": ".py",
   "mimetype": "text/x-python",
   "name": "python",
   "nbconvert_exporter": "python",
   "pygments_lexer": "ipython3",
   "version": "3.8.5"
  }
 },
 "nbformat": 4,
 "nbformat_minor": 4
}
